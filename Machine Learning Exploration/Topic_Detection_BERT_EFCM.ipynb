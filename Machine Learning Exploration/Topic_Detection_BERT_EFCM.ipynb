{
  "cells": [
    {
      "cell_type": "markdown",
      "source": [
        "# **Uploading Data and Pre-Processing**"
      ],
      "metadata": {
        "id": "q8E_SGuHQKHI"
      }
    },
    {
      "cell_type": "code",
      "source": [
        "from google.colab import drive\n",
        "drive.mount('/content/drive')"
      ],
      "metadata": {
        "id": "_I0EzzuUoYvD",
        "colab": {
          "base_uri": "https://localhost:8080/"
        },
        "outputId": "1d0a01ee-8cd7-410c-8fe1-9bcbcf55f646"
      },
      "execution_count": null,
      "outputs": [
        {
          "output_type": "stream",
          "name": "stdout",
          "text": [
            "Drive already mounted at /content/drive; to attempt to forcibly remount, call drive.mount(\"/content/drive\", force_remount=True).\n"
          ]
        }
      ]
    },
    {
      "cell_type": "code",
      "execution_count": null,
      "metadata": {
        "id": "3XpRjzR4yrTB",
        "scrolled": true
      },
      "outputs": [],
      "source": [
        "## Memuat Data\n",
        "import pandas as pd\n",
        "\n",
        "dataset = pd.read_csv(\"/content/drive/MyDrive/Deep Learning/Data/sentiment/capres/Capres2014-1.1.csv\", usecols=[\"Isi_Tweet\"])"
      ]
    },
    {
      "cell_type": "code",
      "execution_count": null,
      "metadata": {
        "id": "iTg9R7gExRJt",
        "scrolled": true,
        "colab": {
          "base_uri": "https://localhost:8080/",
          "height": 206
        },
        "outputId": "4e7041da-0137-451e-911a-c9b0a29816e8"
      },
      "outputs": [
        {
          "output_type": "execute_result",
          "data": {
            "text/plain": [
              "                                              Isi_Tweet\n",
              "1880  Jangan kabur dari tanggung jawab dengan kemasa...\n",
              "1881  @echo_hadiwibowo mana berani pmrntah..m G da y...\n",
              "1882  @IndonesiaCapres ANAK MEDAN DUKUNG CAPRES JK D...\n",
              "1883  RT @idoidonajib: Jelek! \"@fallenokta: Apa komp...\n",
              "1884  Langsung deh ngadu ke capres Hatta Rajasa, bia..."
            ],
            "text/html": [
              "\n",
              "  <div id=\"df-11dc194c-5e2e-48a8-838d-a08b41fe38ac\">\n",
              "    <div class=\"colab-df-container\">\n",
              "      <div>\n",
              "<style scoped>\n",
              "    .dataframe tbody tr th:only-of-type {\n",
              "        vertical-align: middle;\n",
              "    }\n",
              "\n",
              "    .dataframe tbody tr th {\n",
              "        vertical-align: top;\n",
              "    }\n",
              "\n",
              "    .dataframe thead th {\n",
              "        text-align: right;\n",
              "    }\n",
              "</style>\n",
              "<table border=\"1\" class=\"dataframe\">\n",
              "  <thead>\n",
              "    <tr style=\"text-align: right;\">\n",
              "      <th></th>\n",
              "      <th>Isi_Tweet</th>\n",
              "    </tr>\n",
              "  </thead>\n",
              "  <tbody>\n",
              "    <tr>\n",
              "      <th>1880</th>\n",
              "      <td>Jangan kabur dari tanggung jawab dengan kemasa...</td>\n",
              "    </tr>\n",
              "    <tr>\n",
              "      <th>1881</th>\n",
              "      <td>@echo_hadiwibowo mana berani pmrntah..m G da y...</td>\n",
              "    </tr>\n",
              "    <tr>\n",
              "      <th>1882</th>\n",
              "      <td>@IndonesiaCapres ANAK MEDAN DUKUNG CAPRES JK D...</td>\n",
              "    </tr>\n",
              "    <tr>\n",
              "      <th>1883</th>\n",
              "      <td>RT @idoidonajib: Jelek! \"@fallenokta: Apa komp...</td>\n",
              "    </tr>\n",
              "    <tr>\n",
              "      <th>1884</th>\n",
              "      <td>Langsung deh ngadu ke capres Hatta Rajasa, bia...</td>\n",
              "    </tr>\n",
              "  </tbody>\n",
              "</table>\n",
              "</div>\n",
              "      <button class=\"colab-df-convert\" onclick=\"convertToInteractive('df-11dc194c-5e2e-48a8-838d-a08b41fe38ac')\"\n",
              "              title=\"Convert this dataframe to an interactive table.\"\n",
              "              style=\"display:none;\">\n",
              "        \n",
              "  <svg xmlns=\"http://www.w3.org/2000/svg\" height=\"24px\"viewBox=\"0 0 24 24\"\n",
              "       width=\"24px\">\n",
              "    <path d=\"M0 0h24v24H0V0z\" fill=\"none\"/>\n",
              "    <path d=\"M18.56 5.44l.94 2.06.94-2.06 2.06-.94-2.06-.94-.94-2.06-.94 2.06-2.06.94zm-11 1L8.5 8.5l.94-2.06 2.06-.94-2.06-.94L8.5 2.5l-.94 2.06-2.06.94zm10 10l.94 2.06.94-2.06 2.06-.94-2.06-.94-.94-2.06-.94 2.06-2.06.94z\"/><path d=\"M17.41 7.96l-1.37-1.37c-.4-.4-.92-.59-1.43-.59-.52 0-1.04.2-1.43.59L10.3 9.45l-7.72 7.72c-.78.78-.78 2.05 0 2.83L4 21.41c.39.39.9.59 1.41.59.51 0 1.02-.2 1.41-.59l7.78-7.78 2.81-2.81c.8-.78.8-2.07 0-2.86zM5.41 20L4 18.59l7.72-7.72 1.47 1.35L5.41 20z\"/>\n",
              "  </svg>\n",
              "      </button>\n",
              "      \n",
              "  <style>\n",
              "    .colab-df-container {\n",
              "      display:flex;\n",
              "      flex-wrap:wrap;\n",
              "      gap: 12px;\n",
              "    }\n",
              "\n",
              "    .colab-df-convert {\n",
              "      background-color: #E8F0FE;\n",
              "      border: none;\n",
              "      border-radius: 50%;\n",
              "      cursor: pointer;\n",
              "      display: none;\n",
              "      fill: #1967D2;\n",
              "      height: 32px;\n",
              "      padding: 0 0 0 0;\n",
              "      width: 32px;\n",
              "    }\n",
              "\n",
              "    .colab-df-convert:hover {\n",
              "      background-color: #E2EBFA;\n",
              "      box-shadow: 0px 1px 2px rgba(60, 64, 67, 0.3), 0px 1px 3px 1px rgba(60, 64, 67, 0.15);\n",
              "      fill: #174EA6;\n",
              "    }\n",
              "\n",
              "    [theme=dark] .colab-df-convert {\n",
              "      background-color: #3B4455;\n",
              "      fill: #D2E3FC;\n",
              "    }\n",
              "\n",
              "    [theme=dark] .colab-df-convert:hover {\n",
              "      background-color: #434B5C;\n",
              "      box-shadow: 0px 1px 3px 1px rgba(0, 0, 0, 0.15);\n",
              "      filter: drop-shadow(0px 1px 2px rgba(0, 0, 0, 0.3));\n",
              "      fill: #FFFFFF;\n",
              "    }\n",
              "  </style>\n",
              "\n",
              "      <script>\n",
              "        const buttonEl =\n",
              "          document.querySelector('#df-11dc194c-5e2e-48a8-838d-a08b41fe38ac button.colab-df-convert');\n",
              "        buttonEl.style.display =\n",
              "          google.colab.kernel.accessAllowed ? 'block' : 'none';\n",
              "\n",
              "        async function convertToInteractive(key) {\n",
              "          const element = document.querySelector('#df-11dc194c-5e2e-48a8-838d-a08b41fe38ac');\n",
              "          const dataTable =\n",
              "            await google.colab.kernel.invokeFunction('convertToInteractive',\n",
              "                                                     [key], {});\n",
              "          if (!dataTable) return;\n",
              "\n",
              "          const docLinkHtml = 'Like what you see? Visit the ' +\n",
              "            '<a target=\"_blank\" href=https://colab.research.google.com/notebooks/data_table.ipynb>data table notebook</a>'\n",
              "            + ' to learn more about interactive tables.';\n",
              "          element.innerHTML = '';\n",
              "          dataTable['output_type'] = 'display_data';\n",
              "          await google.colab.output.renderOutput(dataTable, element);\n",
              "          const docLink = document.createElement('div');\n",
              "          docLink.innerHTML = docLinkHtml;\n",
              "          element.appendChild(docLink);\n",
              "        }\n",
              "      </script>\n",
              "    </div>\n",
              "  </div>\n",
              "  "
            ]
          },
          "metadata": {},
          "execution_count": 9
        }
      ],
      "source": [
        "# EXPLORE the data\n",
        "## Menampilkan lima data terakhir\n",
        "dataset.tail()"
      ]
    },
    {
      "cell_type": "code",
      "execution_count": null,
      "metadata": {
        "id": "my1D6A1fxRJ8",
        "scrolled": true,
        "colab": {
          "base_uri": "https://localhost:8080/"
        },
        "outputId": "ad6ed597-4ce6-4e3a-cd14-558d8e87892e"
      },
      "outputs": [
        {
          "output_type": "stream",
          "name": "stdout",
          "text": [
            "(1885, 1)\n"
          ]
        }
      ],
      "source": [
        "# MODEL the data\n",
        "## Pra Pengolahan - Cleaning\n",
        "import numpy as np\n",
        "import re\n",
        "\n",
        "def clean_text(tweet):\n",
        "    \n",
        "    # Convert to lower case\n",
        "    tweet = tweet.lower()\n",
        "    # remove unicode characters\n",
        "    tweet = tweet.encode('ascii', 'ignore').decode()\n",
        "    # Clean www.* or https?://*\n",
        "    tweet = re.sub('((www\\.[^\\s]+)|(https?://[^\\s]+))','',tweet)\n",
        "    # Clean @username\n",
        "    tweet = re.sub('@[^\\s]+','',tweet)\n",
        "    #Remove additional white spaces\n",
        "    tweet = re.sub('[\\s]+', ' ', tweet)\n",
        "    #Replace #word with word\n",
        "    tweet = re.sub(r'#([^\\s]+)', r'\\1', tweet)\n",
        "    #trim\n",
        "    tweet = tweet.strip('\\'\"')\n",
        "    \n",
        "    return tweet\n",
        "\n",
        "dataset[\"Isi_Tweet\"] = dataset['Isi_Tweet'].map(lambda x: clean_text(x))\n",
        "dataset = dataset[dataset['Isi_Tweet'].apply(lambda x: len(x.split()) >=1)]\n",
        "\n",
        "print(dataset.shape)"
      ]
    },
    {
      "cell_type": "code",
      "execution_count": null,
      "metadata": {
        "id": "tk62LS7PGRl0",
        "colab": {
          "base_uri": "https://localhost:8080/"
        },
        "outputId": "93ea7707-5602-4e5a-eedc-813ae1104ec8"
      },
      "outputs": [
        {
          "output_type": "stream",
          "name": "stdout",
          "text": [
            "Looking in indexes: https://pypi.org/simple, https://us-python.pkg.dev/colab-wheels/public/simple/\n",
            "Requirement already satisfied: transformers in /usr/local/lib/python3.9/dist-packages (4.27.3)\n",
            "Requirement already satisfied: regex!=2019.12.17 in /usr/local/lib/python3.9/dist-packages (from transformers) (2022.10.31)\n",
            "Requirement already satisfied: huggingface-hub<1.0,>=0.11.0 in /usr/local/lib/python3.9/dist-packages (from transformers) (0.13.3)\n",
            "Requirement already satisfied: numpy>=1.17 in /usr/local/lib/python3.9/dist-packages (from transformers) (1.22.4)\n",
            "Requirement already satisfied: pyyaml>=5.1 in /usr/local/lib/python3.9/dist-packages (from transformers) (6.0)\n",
            "Requirement already satisfied: requests in /usr/local/lib/python3.9/dist-packages (from transformers) (2.27.1)\n",
            "Requirement already satisfied: tqdm>=4.27 in /usr/local/lib/python3.9/dist-packages (from transformers) (4.65.0)\n",
            "Requirement already satisfied: filelock in /usr/local/lib/python3.9/dist-packages (from transformers) (3.10.2)\n",
            "Requirement already satisfied: tokenizers!=0.11.3,<0.14,>=0.11.1 in /usr/local/lib/python3.9/dist-packages (from transformers) (0.13.2)\n",
            "Requirement already satisfied: packaging>=20.0 in /usr/local/lib/python3.9/dist-packages (from transformers) (23.0)\n",
            "Requirement already satisfied: typing-extensions>=3.7.4.3 in /usr/local/lib/python3.9/dist-packages (from huggingface-hub<1.0,>=0.11.0->transformers) (4.5.0)\n",
            "Requirement already satisfied: charset-normalizer~=2.0.0 in /usr/local/lib/python3.9/dist-packages (from requests->transformers) (2.0.12)\n",
            "Requirement already satisfied: idna<4,>=2.5 in /usr/local/lib/python3.9/dist-packages (from requests->transformers) (3.4)\n",
            "Requirement already satisfied: certifi>=2017.4.17 in /usr/local/lib/python3.9/dist-packages (from requests->transformers) (2022.12.7)\n",
            "Requirement already satisfied: urllib3<1.27,>=1.21.1 in /usr/local/lib/python3.9/dist-packages (from requests->transformers) (1.26.15)\n"
          ]
        }
      ],
      "source": [
        "!pip install transformers"
      ]
    },
    {
      "cell_type": "code",
      "source": [
        "## Pra Pengolahan - Representasi Data\n",
        "from transformers import AutoTokenizer, TFAutoModel\n",
        "\n",
        "bert_tokenizer = AutoTokenizer.from_pretrained(\"indobenchmark/indobert-base-p2\")\n",
        "bert_model = TFAutoModel.from_pretrained(\"indobenchmark/indobert-base-p2\", trainable=False)\n",
        "\n",
        "def tokenisasi(teks):\n",
        "    encode_dict = bert_tokenizer(teks,\n",
        "                                   add_special_tokens = True,\n",
        "                                   max_length = 128, \n",
        "                                   padding = 'max_length',\n",
        "                                   truncation = True,\n",
        "                                   return_attention_mask = True,\n",
        "                                   return_tensors = 'tf',)\n",
        "\n",
        "    tokenID = encode_dict['input_ids']\n",
        "    attention_mask = encode_dict['attention_mask']\n",
        "\n",
        "    return tokenID, attention_mask\n",
        "    return tokenID\n",
        "\n",
        "def bert(data):\n",
        "    emb = []\n",
        "    for teks in data:\n",
        "        #print(teks)\n",
        "        token, mask = tokenisasi(str(teks))\n",
        "        emb.append(bert_model([token, mask])[1].numpy().tolist()[0])\n",
        "    \n",
        "    return emb\n",
        "\n",
        "### BERT Embedding\n",
        "bert_emb = np.array(bert(dataset.to_numpy()))\n",
        "\n",
        "print(bert_emb.shape)"
      ],
      "metadata": {
        "id": "1cbuUffKE7Wq",
        "colab": {
          "base_uri": "https://localhost:8080/"
        },
        "outputId": "27e1ebe7-5cc2-40e7-df9b-d75cb913cb21"
      },
      "execution_count": null,
      "outputs": [
        {
          "metadata": {
            "tags": null
          },
          "name": "stderr",
          "output_type": "stream",
          "text": [
            "Some layers from the model checkpoint at indobenchmark/indobert-base-p2 were not used when initializing TFBertModel: ['nsp___cls', 'mlm___cls']\n",
            "- This IS expected if you are initializing TFBertModel from the checkpoint of a model trained on another task or with another architecture (e.g. initializing a BertForSequenceClassification model from a BertForPreTraining model).\n",
            "- This IS NOT expected if you are initializing TFBertModel from the checkpoint of a model that you expect to be exactly identical (initializing a BertForSequenceClassification model from a BertForSequenceClassification model).\n",
            "All the layers of TFBertModel were initialized from the model checkpoint at indobenchmark/indobert-base-p2.\n",
            "If your task is similar to the task the model of the checkpoint was trained on, you can already use TFBertModel for predictions without further training.\n"
          ]
        },
        {
          "metadata": {
            "tags": null
          },
          "name": "stdout",
          "output_type": "stream",
          "text": [
            "(1885, 768)\n"
          ]
        }
      ]
    },
    {
      "cell_type": "markdown",
      "source": [
        "# **Pre-Plotting Coherences**"
      ],
      "metadata": {
        "id": "PwtjGDA5RVtX"
      }
    },
    {
      "cell_type": "code",
      "source": [
        "import matplotlib.pyplot as plt\n",
        "import numpy as np\n",
        "actual_coherences=[]\n",
        "max_coherences=[]\n",
        "min_coherences=[]\n",
        "mean_coherences=[]\n",
        "med_coherences=[]"
      ],
      "metadata": {
        "id": "-oIXP3ohnoco"
      },
      "execution_count": null,
      "outputs": []
    },
    {
      "cell_type": "markdown",
      "source": [
        "# **1. Parameter Menurut Analisis Performa EFCM dengan BERT sebagai Representasi Teks pada Pendeteksian Topik**"
      ],
      "metadata": {
        "id": "gxEjgejEHLlo"
      }
    },
    {
      "cell_type": "markdown",
      "source": [
        "svd=5\n",
        "\n",
        "m =1.1\n",
        "\n",
        "n_topics = [2,3,4,10]\n",
        "\n",
        "initkm = KMeans(n_clusters=n_topics, n_init=1).fit(data)\n",
        "\n",
        "cntr, u = fcmeans(data.T, n_topics, m, error=0.0001, maxiter=200, init=initkm.cluster_centers_.T)"
      ],
      "metadata": {
        "id": "ZkLQDoL5FBwI"
      }
    },
    {
      "cell_type": "markdown",
      "source": [
        "## n_topics=2 (model-1)"
      ],
      "metadata": {
        "id": "8Ej6CjhkoayI"
      }
    },
    {
      "cell_type": "code",
      "source": [
        "## Model EFCM - Reduksi Dimensi\n",
        "from sklearn.decomposition import TruncatedSVD\n",
        "\n",
        "svd = TruncatedSVD(n_components = 5)\n",
        "data = svd.fit_transform(bert_emb)\n",
        "\n",
        "print(data.shape)"
      ],
      "metadata": {
        "id": "-T9NntV_z4Ja",
        "colab": {
          "base_uri": "https://localhost:8080/"
        },
        "outputId": "c35595c2-f11c-4571-f784-9021cadcadfe"
      },
      "execution_count": null,
      "outputs": [
        {
          "output_type": "stream",
          "name": "stdout",
          "text": [
            "(1885, 5)\n"
          ]
        }
      ]
    },
    {
      "cell_type": "code",
      "source": [
        "## Model EFCM - Clustering\n",
        "from sklearn.cluster import KMeans\n",
        "import sys\n",
        "sys.path.insert(0, \"/content/drive/MyDrive/Deep Learning/FCMeans\")\n",
        "from fcmeans import fcmeans\n",
        "\n",
        "m =1.1\n",
        "n_topics = 2\n",
        "initkm = KMeans(n_clusters=n_topics, n_init=1).fit(data)\n",
        "cntr, u = fcmeans(data.T, n_topics, m, error=0.0001, maxiter=200, init=initkm.cluster_centers_.T)\n",
        "cluster_membership = np.argmax(u, axis=0)\n",
        "\n",
        "print(cluster_membership.shape)"
      ],
      "metadata": {
        "id": "2K-Y31iZ0im0",
        "colab": {
          "base_uri": "https://localhost:8080/"
        },
        "outputId": "9056e627-4c5d-4e7a-84d6-4ed2514d92c8"
      },
      "execution_count": null,
      "outputs": [
        {
          "output_type": "stream",
          "name": "stdout",
          "text": [
            "(1885,)\n"
          ]
        }
      ]
    },
    {
      "cell_type": "code",
      "source": [
        "### Topic Interpretation\n",
        "import numpy as np\n",
        "from sklearn.feature_extraction.text import CountVectorizer\n",
        "\n",
        "#### Class Based TFIDF (C-TFIDF) Functions\n",
        "def c_tf_idf(documents, m, ngram_range=(1, 1)):\n",
        "    count = CountVectorizer(ngram_range=ngram_range).fit(documents)\n",
        "    t = count.transform(documents).toarray()\n",
        "    w = t.sum(axis=1)\n",
        "    tf = np.divide(t.T, w)\n",
        "    sum_t = t.sum(axis=0)\n",
        "    idf = np.log(np.divide(m, sum_t)).reshape(-1, 1)\n",
        "    tf_idf = np.multiply(tf, idf)\n",
        "\n",
        "    return tf_idf, count\n",
        "\n",
        "def extract_top_words_per_topic(tf_idf, count, docs_per_topic, n = 10):\n",
        "    words = count.get_feature_names_out()\n",
        "    labels = list(docs_per_topic.Topic)\n",
        "    tf_idf_transposed = tf_idf.T\n",
        "    indices = tf_idf_transposed.argsort()[:, -n:]\n",
        "    top_n_words = {label: [(words[j], tf_idf_transposed[i][j]) for j in indices[i]][::-1] for i, label in enumerate(labels)}\n",
        "    top_words = []\n",
        "    for i in range(len(labels)):\n",
        "      top_words.append([words[j] for j in indices [i]][::-1])\n",
        "    return top_words\n",
        "\n",
        "#### Topic Representation\n",
        "docs = pd.DataFrame(list(dataset[\"Isi_Tweet\"]), columns=[\"Doc\"])\n",
        "docs['Topic'] = cluster_membership\n",
        "docs['Doc_ID'] = range(len(docs))\n",
        "docs_per_topic = docs.dropna(subset=['Doc']).groupby(['Topic'], as_index = False).agg({'Doc': ' '.join})\n",
        "\n",
        "tf_idf, count = c_tf_idf(docs_per_topic.Doc.values, m=len(docs))\n",
        "top_words = extract_top_words_per_topic(tf_idf, count, docs_per_topic, 10)\n",
        "print(top_words)"
      ],
      "metadata": {
        "id": "d7QpVEH__NvB",
        "colab": {
          "base_uri": "https://localhost:8080/"
        },
        "outputId": "4a549129-6003-4000-dc2a-20c142b808e0"
      },
      "execution_count": null,
      "outputs": [
        {
          "output_type": "stream",
          "name": "stdout",
          "text": [
            "[['yg', 'dan', 'jadi', 'capres', 'hatta', 'rt', 'jd', 'presiden', 'menjadi', 'jokowi'], ['rt', 'prabowo', 'jadi', 'capres', 'presiden', 'jokowi', 'dahlan', '2014', 'cawapres', 'indonesia']]\n"
          ]
        }
      ]
    },
    {
      "cell_type": "code",
      "source": [
        "### Topic Coherence\n",
        "import gensim\n",
        "from itertools import combinations\n",
        "import warnings\n",
        "warnings.filterwarnings(\"ignore\", category=FutureWarning)\n",
        "warnings.filterwarnings(\"ignore\", category=DeprecationWarning)\n",
        "\n",
        "### Memuat Model Word2Vec\n",
        "w2v_model = gensim.models.Word2Vec.load(\"/content/drive/MyDrive/Deep Learning/Data/word2vec/idwiki-berita/w2v-model.bin\")\n",
        "\n",
        "### Fungsi Menghitung Coherence\n",
        "def calculate_coherence( w2v_model, term_rankings ):\n",
        "    overall_coherence = 0.0\n",
        "    for topic_index in range(len(term_rankings)):\n",
        "        # check each pair of terms\n",
        "        pair_scores = []\n",
        "        for pair in combinations( term_rankings[topic_index], 2 ):\n",
        "            if pair[0] in w2v_model.wv.index_to_key:\n",
        "                if pair[1] in w2v_model.wv.index_to_key:\n",
        "                    pair_scores.append( abs(w2v_model.wv.similarity(pair[0], pair[1])) )\n",
        "                #else:\n",
        "                    #pair_scores.append(0)\n",
        "            #else:\n",
        "                #pair_scores.append(0)\n",
        "        \n",
        "        # get the mean for all pairs in this topic\n",
        "        if pair_scores:\n",
        "            topic_score = sum(pair_scores) / len(pair_scores)\n",
        "            overall_coherence += topic_score\n",
        "    \n",
        "    # get the mean score across all topics\n",
        "    return overall_coherence / len(term_rankings)\n",
        "\n",
        "\n",
        "### Menentukan Nilai Coherence dari Topik\n",
        "print(calculate_coherence(w2v_model, top_words))\n",
        "actual_coherences.append(calculate_coherence(w2v_model, top_words))"
      ],
      "metadata": {
        "id": "CYz8q4-SIO4m",
        "colab": {
          "base_uri": "https://localhost:8080/"
        },
        "outputId": "a1df5b92-c404-41e0-c60d-5dc425d52704"
      },
      "execution_count": null,
      "outputs": [
        {
          "output_type": "stream",
          "name": "stdout",
          "text": [
            "0.24832308248040225\n"
          ]
        }
      ]
    },
    {
      "cell_type": "code",
      "source": [
        "## Parameter Tuning\n",
        "### Jumlah Topik Optimal\n",
        "import pandas as pd\n",
        "\n",
        "num_topics = []\n",
        "coherences = []\n",
        "for n_topics in range(1,11,1):\n",
        "    print(\"The number of topics is \" + str(n_topics))\n",
        "    \n",
        "    coherence_sim = []\n",
        "    for i in range(1,3):\n",
        "        print(\"The simulation \" + str(i))\n",
        "               \n",
        "        #topic detection\n",
        "        m = 1.1\n",
        "        initkm = KMeans(n_clusters=n_topics, n_init=1).fit(data)\n",
        "        cntr, u = fcmeans(data.T, n_topics, m, error=0.0001, maxiter=200, init=initkm.cluster_centers_.T)\n",
        "        cluster_membership = np.argmax(u, axis=0)\n",
        "        \n",
        "        docs = pd.DataFrame(list(dataset[\"Isi_Tweet\"]), columns=[\"Doc\"])\n",
        "        docs['Topic'] = cluster_membership\n",
        "        docs['Doc_ID'] = range(len(docs))\n",
        "        docs_per_topic = docs.dropna(subset=['Doc']).groupby(['Topic'], as_index = False).agg({'Doc': ' '.join})\n",
        "        \n",
        "        tf_idf, count = c_tf_idf(docs_per_topic.Doc.values, m=len(docs))\n",
        "        top_words = extract_top_words_per_topic(tf_idf, count, docs_per_topic, 10)\n",
        "        \n",
        "        coherence_sim.append(calculate_coherence(w2v_model, top_words))\n",
        "        print('Coherence value : ',coherence_sim[i-1])\n",
        "        \n",
        "    num_topics.append(n_topics)\n",
        "    coherences.append(coherence_sim)\n",
        "\n",
        "### Visualisasi\n",
        "df = pd.DataFrame.from_records(coherences).T\n",
        "df.columns = num_topics\n",
        "boxplot = df.boxplot(grid=False)\n",
        "boxplot.set_xlabel(\"Number of Topics\")\n",
        "boxplot.set_ylabel(\"Coherence\")"
      ],
      "metadata": {
        "id": "4GiGLPellyrJ",
        "colab": {
          "base_uri": "https://localhost:8080/",
          "height": 1164
        },
        "outputId": "45699187-3c26-4398-92bb-7a44ddf4fb82"
      },
      "execution_count": null,
      "outputs": [
        {
          "output_type": "stream",
          "name": "stdout",
          "text": [
            "The number of topics is 1\n",
            "The simulation 1\n",
            "Coherence value :  0.21799575076216743\n",
            "The simulation 2\n",
            "Coherence value :  0.21799575076216743\n",
            "The number of topics is 2\n",
            "The simulation 1\n",
            "Coherence value :  0.24832308248040225\n",
            "The simulation 2\n",
            "Coherence value :  0.24832308248040225\n",
            "The number of topics is 3\n",
            "The simulation 1\n",
            "Coherence value :  0.27501854046233115\n",
            "The simulation 2\n",
            "Coherence value :  0.27501854046233115\n",
            "The number of topics is 4\n",
            "The simulation 1\n",
            "Coherence value :  0.24687365373773945\n",
            "The simulation 2\n",
            "Coherence value :  0.24687365373773945\n",
            "The number of topics is 5\n",
            "The simulation 1\n",
            "Coherence value :  0.2621687633118459\n",
            "The simulation 2\n",
            "Coherence value :  0.23793469657027533\n",
            "The number of topics is 6\n",
            "The simulation 1\n",
            "Coherence value :  0.2521515508266116\n",
            "The simulation 2\n",
            "Coherence value :  0.25839577504093686\n",
            "The number of topics is 7\n",
            "The simulation 1\n",
            "Coherence value :  0.25351423577420296\n",
            "The simulation 2\n",
            "Coherence value :  0.2536599823043527\n",
            "The number of topics is 8\n",
            "The simulation 1\n",
            "Coherence value :  0.25193199775004316\n",
            "The simulation 2\n",
            "Coherence value :  0.25238291973041166\n",
            "The number of topics is 9\n",
            "The simulation 1\n",
            "Coherence value :  0.24163811391768103\n",
            "The simulation 2\n",
            "Coherence value :  0.24631746682277644\n",
            "The number of topics is 10\n",
            "The simulation 1\n",
            "Coherence value :  0.24237391818403484\n",
            "The simulation 2\n",
            "Coherence value :  0.23979088001633214\n"
          ]
        },
        {
          "output_type": "execute_result",
          "data": {
            "text/plain": [
              "Text(0, 0.5, 'Coherence')"
            ]
          },
          "metadata": {},
          "execution_count": 133
        },
        {
          "output_type": "display_data",
          "data": {
            "text/plain": [
              "<Figure size 432x288 with 1 Axes>"
            ],
            "image/png": "[encoded data removed]"
          },
          "metadata": {
            "needs_background": "light"
          }
        }
      ]
    },
    {
      "cell_type": "code",
      "source": [
        "print('Nilai Coherence Maksimal=',np.max(coherences))\n",
        "max_coherences.append(np.max(coherences))\n",
        "print('Nilai Coherence Minimal=',np.min(coherences))\n",
        "min_coherences.append(np.min(coherences))\n",
        "print('Nilai Rata-rata Coherence=',np.mean(coherences))\n",
        "mean_coherences.append(np.mean(coherences))\n",
        "print('Nilai Median Coherence=',np.median(coherences))\n",
        "med_coherences.append(np.median(coherences))"
      ],
      "metadata": {
        "id": "ZwB_UKZOrazc",
        "colab": {
          "base_uri": "https://localhost:8080/"
        },
        "outputId": "052a7c83-7bc6-446f-a5ba-8c8e2087cdbc"
      },
      "execution_count": null,
      "outputs": [
        {
          "output_type": "stream",
          "name": "stdout",
          "text": [
            "Nilai Coherence Maksimal= 0.27501854046233115\n",
            "Nilai Coherence Minimal= 0.21799575076216743\n",
            "Nilai Rata-rata Coherence= 0.24843411775673924\n",
            "Nilai Median Coherence= 0.24832308248040225\n"
          ]
        }
      ]
    },
    {
      "cell_type": "code",
      "source": [
        "coherences_new=[]\n",
        "num_topics_new=[]\n",
        "for i in range(len(num_topics)):\n",
        "    coherences_new.append(coherences[i][0])\n",
        "    coherences_new.append(coherences[i][1])\n",
        "    num_topics_new.append(i+1)\n",
        "    num_topics_new.append(i+1)\n",
        "print('Parameter jumlah topik untuk Coherence Maksimal:',num_topics_new[coherences_new.index(np.max(coherences_new))])"
      ],
      "metadata": {
        "id": "t0P7Vc5jEexa",
        "colab": {
          "base_uri": "https://localhost:8080/"
        },
        "outputId": "087f9ea6-81c4-47b5-c5cd-776e4b7acfee"
      },
      "execution_count": null,
      "outputs": [
        {
          "output_type": "stream",
          "name": "stdout",
          "text": [
            "Parameter jumlah topik untuk Coherence Maksimal: 3\n"
          ]
        }
      ]
    },
    {
      "cell_type": "code",
      "source": [
        "df"
      ],
      "metadata": {
        "id": "-Ia1FI3ezcG-",
        "colab": {
          "base_uri": "https://localhost:8080/",
          "height": 112
        },
        "outputId": "c8e6785d-46ee-4fe2-f2fc-9eb59b6fad16"
      },
      "execution_count": null,
      "outputs": [
        {
          "output_type": "execute_result",
          "data": {
            "text/plain": [
              "         1         2         3         4         5         6         7   \\\n",
              "0  0.217996  0.248323  0.275019  0.246874  0.262169  0.252152  0.253514   \n",
              "1  0.217996  0.248323  0.275019  0.246874  0.237935  0.258396  0.253660   \n",
              "\n",
              "         8         9         10  \n",
              "0  0.251932  0.241638  0.242374  \n",
              "1  0.252383  0.246317  0.239791  "
            ],
            "text/html": [
              "\n",
              "  <div id=\"df-d5df99d0-64c6-49c8-bf3b-142bc31bb6a6\">\n",
              "    <div class=\"colab-df-container\">\n",
              "      <div>\n",
              "<style scoped>\n",
              "    .dataframe tbody tr th:only-of-type {\n",
              "        vertical-align: middle;\n",
              "    }\n",
              "\n",
              "    .dataframe tbody tr th {\n",
              "        vertical-align: top;\n",
              "    }\n",
              "\n",
              "    .dataframe thead th {\n",
              "        text-align: right;\n",
              "    }\n",
              "</style>\n",
              "<table border=\"1\" class=\"dataframe\">\n",
              "  <thead>\n",
              "    <tr style=\"text-align: right;\">\n",
              "      <th></th>\n",
              "      <th>1</th>\n",
              "      <th>2</th>\n",
              "      <th>3</th>\n",
              "      <th>4</th>\n",
              "      <th>5</th>\n",
              "      <th>6</th>\n",
              "      <th>7</th>\n",
              "      <th>8</th>\n",
              "      <th>9</th>\n",
              "      <th>10</th>\n",
              "    </tr>\n",
              "  </thead>\n",
              "  <tbody>\n",
              "    <tr>\n",
              "      <th>0</th>\n",
              "      <td>0.217996</td>\n",
              "      <td>0.248323</td>\n",
              "      <td>0.275019</td>\n",
              "      <td>0.246874</td>\n",
              "      <td>0.262169</td>\n",
              "      <td>0.252152</td>\n",
              "      <td>0.253514</td>\n",
              "      <td>0.251932</td>\n",
              "      <td>0.241638</td>\n",
              "      <td>0.242374</td>\n",
              "    </tr>\n",
              "    <tr>\n",
              "      <th>1</th>\n",
              "      <td>0.217996</td>\n",
              "      <td>0.248323</td>\n",
              "      <td>0.275019</td>\n",
              "      <td>0.246874</td>\n",
              "      <td>0.237935</td>\n",
              "      <td>0.258396</td>\n",
              "      <td>0.253660</td>\n",
              "      <td>0.252383</td>\n",
              "      <td>0.246317</td>\n",
              "      <td>0.239791</td>\n",
              "    </tr>\n",
              "  </tbody>\n",
              "</table>\n",
              "</div>\n",
              "      <button class=\"colab-df-convert\" onclick=\"convertToInteractive('df-d5df99d0-64c6-49c8-bf3b-142bc31bb6a6')\"\n",
              "              title=\"Convert this dataframe to an interactive table.\"\n",
              "              style=\"display:none;\">\n",
              "        \n",
              "  <svg xmlns=\"http://www.w3.org/2000/svg\" height=\"24px\"viewBox=\"0 0 24 24\"\n",
              "       width=\"24px\">\n",
              "    <path d=\"M0 0h24v24H0V0z\" fill=\"none\"/>\n",
              "    <path d=\"M18.56 5.44l.94 2.06.94-2.06 2.06-.94-2.06-.94-.94-2.06-.94 2.06-2.06.94zm-11 1L8.5 8.5l.94-2.06 2.06-.94-2.06-.94L8.5 2.5l-.94 2.06-2.06.94zm10 10l.94 2.06.94-2.06 2.06-.94-2.06-.94-.94-2.06-.94 2.06-2.06.94z\"/><path d=\"M17.41 7.96l-1.37-1.37c-.4-.4-.92-.59-1.43-.59-.52 0-1.04.2-1.43.59L10.3 9.45l-7.72 7.72c-.78.78-.78 2.05 0 2.83L4 21.41c.39.39.9.59 1.41.59.51 0 1.02-.2 1.41-.59l7.78-7.78 2.81-2.81c.8-.78.8-2.07 0-2.86zM5.41 20L4 18.59l7.72-7.72 1.47 1.35L5.41 20z\"/>\n",
              "  </svg>\n",
              "      </button>\n",
              "      \n",
              "  <style>\n",
              "    .colab-df-container {\n",
              "      display:flex;\n",
              "      flex-wrap:wrap;\n",
              "      gap: 12px;\n",
              "    }\n",
              "\n",
              "    .colab-df-convert {\n",
              "      background-color: #E8F0FE;\n",
              "      border: none;\n",
              "      border-radius: 50%;\n",
              "      cursor: pointer;\n",
              "      display: none;\n",
              "      fill: #1967D2;\n",
              "      height: 32px;\n",
              "      padding: 0 0 0 0;\n",
              "      width: 32px;\n",
              "    }\n",
              "\n",
              "    .colab-df-convert:hover {\n",
              "      background-color: #E2EBFA;\n",
              "      box-shadow: 0px 1px 2px rgba(60, 64, 67, 0.3), 0px 1px 3px 1px rgba(60, 64, 67, 0.15);\n",
              "      fill: #174EA6;\n",
              "    }\n",
              "\n",
              "    [theme=dark] .colab-df-convert {\n",
              "      background-color: #3B4455;\n",
              "      fill: #D2E3FC;\n",
              "    }\n",
              "\n",
              "    [theme=dark] .colab-df-convert:hover {\n",
              "      background-color: #434B5C;\n",
              "      box-shadow: 0px 1px 3px 1px rgba(0, 0, 0, 0.15);\n",
              "      filter: drop-shadow(0px 1px 2px rgba(0, 0, 0, 0.3));\n",
              "      fill: #FFFFFF;\n",
              "    }\n",
              "  </style>\n",
              "\n",
              "      <script>\n",
              "        const buttonEl =\n",
              "          document.querySelector('#df-d5df99d0-64c6-49c8-bf3b-142bc31bb6a6 button.colab-df-convert');\n",
              "        buttonEl.style.display =\n",
              "          google.colab.kernel.accessAllowed ? 'block' : 'none';\n",
              "\n",
              "        async function convertToInteractive(key) {\n",
              "          const element = document.querySelector('#df-d5df99d0-64c6-49c8-bf3b-142bc31bb6a6');\n",
              "          const dataTable =\n",
              "            await google.colab.kernel.invokeFunction('convertToInteractive',\n",
              "                                                     [key], {});\n",
              "          if (!dataTable) return;\n",
              "\n",
              "          const docLinkHtml = 'Like what you see? Visit the ' +\n",
              "            '<a target=\"_blank\" href=https://colab.research.google.com/notebooks/data_table.ipynb>data table notebook</a>'\n",
              "            + ' to learn more about interactive tables.';\n",
              "          element.innerHTML = '';\n",
              "          dataTable['output_type'] = 'display_data';\n",
              "          await google.colab.output.renderOutput(dataTable, element);\n",
              "          const docLink = document.createElement('div');\n",
              "          docLink.innerHTML = docLinkHtml;\n",
              "          element.appendChild(docLink);\n",
              "        }\n",
              "      </script>\n",
              "    </div>\n",
              "  </div>\n",
              "  "
            ]
          },
          "metadata": {},
          "execution_count": 136
        }
      ]
    },
    {
      "cell_type": "code",
      "source": [
        "top_words"
      ],
      "metadata": {
        "id": "4kdSKbXUzcu2",
        "colab": {
          "base_uri": "https://localhost:8080/"
        },
        "outputId": "bdedb954-b1f1-4259-9510-8cc374c91396"
      },
      "execution_count": null,
      "outputs": [
        {
          "output_type": "execute_result",
          "data": {
            "text/plain": [
              "[['wonogiri',\n",
              "  'vihara',\n",
              "  'forum',\n",
              "  'guruh',\n",
              "  'rt',\n",
              "  'petani',\n",
              "  'capres',\n",
              "  'jokowi',\n",
              "  'islam',\n",
              "  'dahlan'],\n",
              " ['jadi', 'kalo', 'jd', 'yg', 'mau', 'sama', 'ya', 'aja', 'arb', 'om'],\n",
              " ['2014',\n",
              "  'prabowo',\n",
              "  'indonesia',\n",
              "  'dahlan',\n",
              "  'jadi',\n",
              "  'iskan',\n",
              "  'mahfud',\n",
              "  'presiden',\n",
              "  'adalah',\n",
              "  'rt'],\n",
              " ['rt',\n",
              "  'jd',\n",
              "  'jokowi',\n",
              "  'presiden',\n",
              "  'jadi',\n",
              "  'ya',\n",
              "  'arb',\n",
              "  'emoh',\n",
              "  'ahok',\n",
              "  'capres'],\n",
              " ['yg',\n",
              "  'dan',\n",
              "  'akan',\n",
              "  'saya',\n",
              "  'ada',\n",
              "  'prabowo',\n",
              "  'bisa',\n",
              "  'jadi',\n",
              "  'capres',\n",
              "  'di'],\n",
              " ['hatta',\n",
              "  'menjadi',\n",
              "  'radjasa',\n",
              "  'membuka',\n",
              "  'pencapresan',\n",
              "  'evaluasi',\n",
              "  'umumnya',\n",
              "  'kemungkinan',\n",
              "  '2013pan',\n",
              "  '09'],\n",
              " ['bungkus',\n",
              "  'gimana',\n",
              "  'bung',\n",
              "  'rt',\n",
              "  'cawapres',\n",
              "  'jokowi',\n",
              "  'capres',\n",
              "  'dukung',\n",
              "  'mantabbb',\n",
              "  'konsultan'],\n",
              " ['jadi',\n",
              "  'rt',\n",
              "  'prabowo',\n",
              "  'acak',\n",
              "  'presiden',\n",
              "  'jokowi',\n",
              "  'dukung',\n",
              "  'capres',\n",
              "  'nya',\n",
              "  'apa'],\n",
              " ['capres',\n",
              "  'deklarasi',\n",
              "  'jd',\n",
              "  'rt',\n",
              "  'jk',\n",
              "  'yg',\n",
              "  'hanura',\n",
              "  'tdk',\n",
              "  'wiranto',\n",
              "  'followradiopepatah'],\n",
              " ['prabowo',\n",
              "  'charta',\n",
              "  'politika',\n",
              "  'underdog',\n",
              "  'rt',\n",
              "  'oleh',\n",
              "  'cuma',\n",
              "  'mampu',\n",
              "  'ical',\n",
              "  'presiden']]"
            ]
          },
          "metadata": {},
          "execution_count": 137
        }
      ]
    },
    {
      "cell_type": "markdown",
      "source": [
        "## n_topics=3 (model-2)"
      ],
      "metadata": {
        "id": "7ldRgN83pICi"
      }
    },
    {
      "cell_type": "code",
      "source": [
        "## Model EFCM - Reduksi Dimensi\n",
        "from sklearn.decomposition import TruncatedSVD\n",
        "\n",
        "svd = TruncatedSVD(n_components = 5)\n",
        "data = svd.fit_transform(bert_emb)\n",
        "\n",
        "print(data.shape)"
      ],
      "metadata": {
        "id": "eWOzNJYQpICw",
        "colab": {
          "base_uri": "https://localhost:8080/"
        },
        "outputId": "576b77da-e924-4fa4-eb2a-79e71b832978"
      },
      "execution_count": null,
      "outputs": [
        {
          "output_type": "stream",
          "name": "stdout",
          "text": [
            "(1885, 5)\n"
          ]
        }
      ]
    },
    {
      "cell_type": "code",
      "source": [
        "## Model EFCM - Clustering\n",
        "from sklearn.cluster import KMeans\n",
        "import sys\n",
        "sys.path.insert(0, \"/content/drive/MyDrive/Deep Learning/FCMeans\")\n",
        "from fcmeans import fcmeans\n",
        "\n",
        "m =1.1\n",
        "n_topics = 3\n",
        "initkm = KMeans(n_clusters=n_topics, n_init=1).fit(data)\n",
        "cntr, u = fcmeans(data.T, n_topics, m, error=0.0001, maxiter=200, init=initkm.cluster_centers_.T)\n",
        "cluster_membership = np.argmax(u, axis=0)\n",
        "\n",
        "print(cluster_membership.shape)"
      ],
      "metadata": {
        "id": "fld3RHQmpICx",
        "colab": {
          "base_uri": "https://localhost:8080/"
        },
        "outputId": "91201bb7-e523-4c34-9116-c8f012ef2ed2"
      },
      "execution_count": null,
      "outputs": [
        {
          "output_type": "stream",
          "name": "stdout",
          "text": [
            "(1885,)\n"
          ]
        }
      ]
    },
    {
      "cell_type": "code",
      "source": [
        "### Topic Interpretation\n",
        "import numpy as np\n",
        "from sklearn.feature_extraction.text import CountVectorizer\n",
        "\n",
        "#### Class Based TFIDF (C-TFIDF) Functions\n",
        "def c_tf_idf(documents, m, ngram_range=(1, 1)):\n",
        "    count = CountVectorizer(ngram_range=ngram_range).fit(documents)\n",
        "    t = count.transform(documents).toarray()\n",
        "    w = t.sum(axis=1)\n",
        "    tf = np.divide(t.T, w)\n",
        "    sum_t = t.sum(axis=0)\n",
        "    idf = np.log(np.divide(m, sum_t)).reshape(-1, 1)\n",
        "    tf_idf = np.multiply(tf, idf)\n",
        "\n",
        "    return tf_idf, count\n",
        "\n",
        "def extract_top_words_per_topic(tf_idf, count, docs_per_topic, n = 10):\n",
        "    words = count.get_feature_names_out()\n",
        "    labels = list(docs_per_topic.Topic)\n",
        "    tf_idf_transposed = tf_idf.T\n",
        "    indices = tf_idf_transposed.argsort()[:, -n:]\n",
        "    top_n_words = {label: [(words[j], tf_idf_transposed[i][j]) for j in indices[i]][::-1] for i, label in enumerate(labels)}\n",
        "    top_words = []\n",
        "    for i in range(len(labels)):\n",
        "      top_words.append([words[j] for j in indices [i]][::-1])\n",
        "    return top_words\n",
        "\n",
        "#### Topic Representation\n",
        "docs = pd.DataFrame(list(dataset[\"Isi_Tweet\"]), columns=[\"Doc\"])\n",
        "docs['Topic'] = cluster_membership\n",
        "docs['Doc_ID'] = range(len(docs))\n",
        "docs_per_topic = docs.dropna(subset=['Doc']).groupby(['Topic'], as_index = False).agg({'Doc': ' '.join})\n",
        "\n",
        "tf_idf, count = c_tf_idf(docs_per_topic.Doc.values, m=len(docs))\n",
        "top_words = extract_top_words_per_topic(tf_idf, count, docs_per_topic, 10)\n",
        "print(top_words)"
      ],
      "metadata": {
        "id": "4vWytycrpICy",
        "colab": {
          "base_uri": "https://localhost:8080/"
        },
        "outputId": "4fcf3036-b23c-4f6d-efa9-13b81deb131a"
      },
      "execution_count": null,
      "outputs": [
        {
          "output_type": "stream",
          "name": "stdout",
          "text": [
            "[['jadi', 'jd', 'yg', 'rt', 'jokowi', 'presiden', 'capres', 'arb', 'mau', 'di'], ['rt', 'prabowo', 'jadi', 'capres', 'jokowi', 'presiden', 'dukung', 'cawapres', 'dahlan', 'arb'], ['menjadi', 'hatta', 'dan', 'sebagai', 'mantan', 'tidak', 'tokoh', 'jusuf', 'wakil', 'kalla']]\n"
          ]
        }
      ]
    },
    {
      "cell_type": "code",
      "source": [
        "### Topic Coherence\n",
        "import gensim\n",
        "from itertools import combinations\n",
        "import warnings\n",
        "warnings.filterwarnings(\"ignore\", category=FutureWarning)\n",
        "warnings.filterwarnings(\"ignore\", category=DeprecationWarning)\n",
        "\n",
        "### Memuat Model Word2Vec\n",
        "w2v_model = gensim.models.Word2Vec.load(\"/content/drive/MyDrive/Deep Learning/Data/word2vec/idwiki-berita/w2v-model.bin\")\n",
        "\n",
        "### Fungsi Menghitung Coherence\n",
        "def calculate_coherence( w2v_model, term_rankings ):\n",
        "    overall_coherence = 0.0\n",
        "    for topic_index in range(len(term_rankings)):\n",
        "        # check each pair of terms\n",
        "        pair_scores = []\n",
        "        for pair in combinations( term_rankings[topic_index], 2 ):\n",
        "            if pair[0] in w2v_model.wv.index_to_key:\n",
        "                if pair[1] in w2v_model.wv.index_to_key:\n",
        "                    pair_scores.append( abs(w2v_model.wv.similarity(pair[0], pair[1])) )\n",
        "                #else:\n",
        "                    #pair_scores.append(0)\n",
        "            #else:\n",
        "                #pair_scores.append(0)\n",
        "        \n",
        "        # get the mean for all pairs in this topic\n",
        "        if pair_scores:\n",
        "            topic_score = sum(pair_scores) / len(pair_scores)\n",
        "            overall_coherence += topic_score\n",
        "    \n",
        "    # get the mean score across all topics\n",
        "    return overall_coherence / len(term_rankings)\n",
        "\n",
        "\n",
        "### Menentukan Nilai Coherence dari Topik\n",
        "print(calculate_coherence(w2v_model, top_words))\n",
        "actual_coherences.append(calculate_coherence(w2v_model, top_words))"
      ],
      "metadata": {
        "id": "rUPgCbXspICy",
        "colab": {
          "base_uri": "https://localhost:8080/"
        },
        "outputId": "05808bd1-8532-4e9d-d8bf-eec6f65585de"
      },
      "execution_count": null,
      "outputs": [
        {
          "output_type": "stream",
          "name": "stdout",
          "text": [
            "0.27501854046233115\n"
          ]
        }
      ]
    },
    {
      "cell_type": "code",
      "source": [
        "## Parameter Tuning\n",
        "### Jumlah Topik Optimal\n",
        "import pandas as pd\n",
        "\n",
        "num_topics = []\n",
        "coherences = []\n",
        "for n_topics in range(1,11,1):\n",
        "    print(\"The number of topics is \" + str(n_topics))\n",
        "    \n",
        "    coherence_sim = []\n",
        "    for i in range(1,3):\n",
        "        print(\"The simulation \" + str(i))\n",
        "               \n",
        "        #topic detection\n",
        "        m = 1.1\n",
        "        initkm = KMeans(n_clusters=n_topics, n_init=1).fit(data)\n",
        "        cntr, u = fcmeans(data.T, n_topics, m, error=0.0001, maxiter=200, init=initkm.cluster_centers_.T)\n",
        "        cluster_membership = np.argmax(u, axis=0)\n",
        "        \n",
        "        docs = pd.DataFrame(list(dataset[\"Isi_Tweet\"]), columns=[\"Doc\"])\n",
        "        docs['Topic'] = cluster_membership\n",
        "        docs['Doc_ID'] = range(len(docs))\n",
        "        docs_per_topic = docs.dropna(subset=['Doc']).groupby(['Topic'], as_index = False).agg({'Doc': ' '.join})\n",
        "        \n",
        "        tf_idf, count = c_tf_idf(docs_per_topic.Doc.values, m=len(docs))\n",
        "        top_words = extract_top_words_per_topic(tf_idf, count, docs_per_topic, 10)\n",
        "        \n",
        "        coherence_sim.append(calculate_coherence(w2v_model, top_words))\n",
        "        print('Coherence value : ',coherence_sim[i-1])\n",
        "        \n",
        "    num_topics.append(n_topics)\n",
        "    coherences.append(coherence_sim)\n",
        "\n",
        "### Visualisasi\n",
        "df = pd.DataFrame.from_records(coherences).T\n",
        "df.columns = num_topics\n",
        "boxplot = df.boxplot(grid=False)\n",
        "boxplot.set_xlabel(\"Number of Topics\")\n",
        "boxplot.set_ylabel(\"Coherence\")"
      ],
      "metadata": {
        "id": "wornuLFdpICz",
        "colab": {
          "base_uri": "https://localhost:8080/",
          "height": 1164
        },
        "outputId": "58d56c79-0d16-4aa6-c6cb-4f56345322cb"
      },
      "execution_count": null,
      "outputs": [
        {
          "output_type": "stream",
          "name": "stdout",
          "text": [
            "The number of topics is 1\n",
            "The simulation 1\n",
            "Coherence value :  0.21799575076216743\n",
            "The simulation 2\n",
            "Coherence value :  0.21799575076216743\n",
            "The number of topics is 2\n",
            "The simulation 1\n",
            "Coherence value :  0.24832308248040225\n",
            "The simulation 2\n",
            "Coherence value :  0.24832308248040225\n",
            "The number of topics is 3\n",
            "The simulation 1\n",
            "Coherence value :  0.27501854046233115\n",
            "The simulation 2\n",
            "Coherence value :  0.27501854046233115\n",
            "The number of topics is 4\n",
            "The simulation 1\n",
            "Coherence value :  0.24687365373773945\n",
            "The simulation 2\n",
            "Coherence value :  0.24687365373773945\n",
            "The number of topics is 5\n",
            "The simulation 1\n",
            "Coherence value :  0.2621687633118459\n",
            "The simulation 2\n",
            "Coherence value :  0.23793469657027533\n",
            "The number of topics is 6\n",
            "The simulation 1\n",
            "Coherence value :  0.2521515508266116\n",
            "The simulation 2\n",
            "Coherence value :  0.25215155082661167\n",
            "The number of topics is 7\n",
            "The simulation 1\n",
            "Coherence value :  0.25351423577420296\n",
            "The simulation 2\n",
            "Coherence value :  0.25351423577420296\n",
            "The number of topics is 8\n",
            "The simulation 1\n",
            "Coherence value :  0.25193199775004316\n",
            "The simulation 2\n",
            "Coherence value :  0.25238291973041166\n",
            "The number of topics is 9\n",
            "The simulation 1\n",
            "Coherence value :  0.2501109668728772\n",
            "The simulation 2\n",
            "Coherence value :  0.2423752360762059\n",
            "The number of topics is 10\n",
            "The simulation 1\n",
            "Coherence value :  0.23000265670666797\n",
            "The simulation 2\n",
            "Coherence value :  0.24473739770019337\n"
          ]
        },
        {
          "output_type": "execute_result",
          "data": {
            "text/plain": [
              "Text(0, 0.5, 'Coherence')"
            ]
          },
          "metadata": {},
          "execution_count": 142
        },
        {
          "output_type": "display_data",
          "data": {
            "text/plain": [
              "<Figure size 432x288 with 1 Axes>"
            ],
            "image/png": "[encoded data removed]"
          },
          "metadata": {
            "needs_background": "light"
          }
        }
      ]
    },
    {
      "cell_type": "code",
      "source": [
        "print('Nilai Coherence Maksimal=',np.max(coherences))\n",
        "max_coherences.append(np.max(coherences))\n",
        "print('Nilai Coherence Minimal=',np.min(coherences))\n",
        "min_coherences.append(np.min(coherences))\n",
        "print('Nilai Rata-rata Coherence=',np.mean(coherences))\n",
        "mean_coherences.append(np.mean(coherences))\n",
        "print('Nilai Median Coherence=',np.median(coherences))\n",
        "med_coherences.append(np.median(coherences))"
      ],
      "metadata": {
        "id": "A8vDytTspICz",
        "colab": {
          "base_uri": "https://localhost:8080/"
        },
        "outputId": "92216b72-f0b4-43e4-bc6b-7d9234229e33"
      },
      "execution_count": null,
      "outputs": [
        {
          "output_type": "stream",
          "name": "stdout",
          "text": [
            "Nilai Coherence Maksimal= 0.27501854046233115\n",
            "Nilai Coherence Minimal= 0.21799575076216743\n",
            "Nilai Rata-rata Coherence= 0.24796991314027145\n",
            "Nilai Median Coherence= 0.24921702467663973\n"
          ]
        }
      ]
    },
    {
      "cell_type": "code",
      "source": [
        "coherences_new=[]\n",
        "num_topics_new=[]\n",
        "for i in range(len(num_topics)):\n",
        "    coherences_new.append(coherences[i][0])\n",
        "    coherences_new.append(coherences[i][1])\n",
        "    num_topics_new.append(i+1)\n",
        "    num_topics_new.append(i+1)\n",
        "print('Parameter jumlah topik untuk Coherence Maksimal:',num_topics_new[coherences_new.index(np.max(coherences_new))])"
      ],
      "metadata": {
        "id": "cKW9x0kLpIC0",
        "colab": {
          "base_uri": "https://localhost:8080/"
        },
        "outputId": "88a2b831-3722-42e0-fab1-d772a536c344"
      },
      "execution_count": null,
      "outputs": [
        {
          "output_type": "stream",
          "name": "stdout",
          "text": [
            "Parameter jumlah topik untuk Coherence Maksimal: 3\n"
          ]
        }
      ]
    },
    {
      "cell_type": "code",
      "source": [
        "df"
      ],
      "metadata": {
        "id": "TeHcciK0pIC0",
        "colab": {
          "base_uri": "https://localhost:8080/",
          "height": 112
        },
        "outputId": "626989a3-8bf2-49bc-e599-a5fe9778ce82"
      },
      "execution_count": null,
      "outputs": [
        {
          "output_type": "execute_result",
          "data": {
            "text/plain": [
              "         1         2         3         4         5         6         7   \\\n",
              "0  0.217996  0.248323  0.275019  0.246874  0.262169  0.252152  0.253514   \n",
              "1  0.217996  0.248323  0.275019  0.246874  0.237935  0.252152  0.253514   \n",
              "\n",
              "         8         9         10  \n",
              "0  0.251932  0.250111  0.230003  \n",
              "1  0.252383  0.242375  0.244737  "
            ],
            "text/html": [
              "\n",
              "  <div id=\"df-5cdb5e2a-a341-4a8f-a6d2-5d6087c8e99e\">\n",
              "    <div class=\"colab-df-container\">\n",
              "      <div>\n",
              "<style scoped>\n",
              "    .dataframe tbody tr th:only-of-type {\n",
              "        vertical-align: middle;\n",
              "    }\n",
              "\n",
              "    .dataframe tbody tr th {\n",
              "        vertical-align: top;\n",
              "    }\n",
              "\n",
              "    .dataframe thead th {\n",
              "        text-align: right;\n",
              "    }\n",
              "</style>\n",
              "<table border=\"1\" class=\"dataframe\">\n",
              "  <thead>\n",
              "    <tr style=\"text-align: right;\">\n",
              "      <th></th>\n",
              "      <th>1</th>\n",
              "      <th>2</th>\n",
              "      <th>3</th>\n",
              "      <th>4</th>\n",
              "      <th>5</th>\n",
              "      <th>6</th>\n",
              "      <th>7</th>\n",
              "      <th>8</th>\n",
              "      <th>9</th>\n",
              "      <th>10</th>\n",
              "    </tr>\n",
              "  </thead>\n",
              "  <tbody>\n",
              "    <tr>\n",
              "      <th>0</th>\n",
              "      <td>0.217996</td>\n",
              "      <td>0.248323</td>\n",
              "      <td>0.275019</td>\n",
              "      <td>0.246874</td>\n",
              "      <td>0.262169</td>\n",
              "      <td>0.252152</td>\n",
              "      <td>0.253514</td>\n",
              "      <td>0.251932</td>\n",
              "      <td>0.250111</td>\n",
              "      <td>0.230003</td>\n",
              "    </tr>\n",
              "    <tr>\n",
              "      <th>1</th>\n",
              "      <td>0.217996</td>\n",
              "      <td>0.248323</td>\n",
              "      <td>0.275019</td>\n",
              "      <td>0.246874</td>\n",
              "      <td>0.237935</td>\n",
              "      <td>0.252152</td>\n",
              "      <td>0.253514</td>\n",
              "      <td>0.252383</td>\n",
              "      <td>0.242375</td>\n",
              "      <td>0.244737</td>\n",
              "    </tr>\n",
              "  </tbody>\n",
              "</table>\n",
              "</div>\n",
              "      <button class=\"colab-df-convert\" onclick=\"convertToInteractive('df-5cdb5e2a-a341-4a8f-a6d2-5d6087c8e99e')\"\n",
              "              title=\"Convert this dataframe to an interactive table.\"\n",
              "              style=\"display:none;\">\n",
              "        \n",
              "  <svg xmlns=\"http://www.w3.org/2000/svg\" height=\"24px\"viewBox=\"0 0 24 24\"\n",
              "       width=\"24px\">\n",
              "    <path d=\"M0 0h24v24H0V0z\" fill=\"none\"/>\n",
              "    <path d=\"M18.56 5.44l.94 2.06.94-2.06 2.06-.94-2.06-.94-.94-2.06-.94 2.06-2.06.94zm-11 1L8.5 8.5l.94-2.06 2.06-.94-2.06-.94L8.5 2.5l-.94 2.06-2.06.94zm10 10l.94 2.06.94-2.06 2.06-.94-2.06-.94-.94-2.06-.94 2.06-2.06.94z\"/><path d=\"M17.41 7.96l-1.37-1.37c-.4-.4-.92-.59-1.43-.59-.52 0-1.04.2-1.43.59L10.3 9.45l-7.72 7.72c-.78.78-.78 2.05 0 2.83L4 21.41c.39.39.9.59 1.41.59.51 0 1.02-.2 1.41-.59l7.78-7.78 2.81-2.81c.8-.78.8-2.07 0-2.86zM5.41 20L4 18.59l7.72-7.72 1.47 1.35L5.41 20z\"/>\n",
              "  </svg>\n",
              "      </button>\n",
              "      \n",
              "  <style>\n",
              "    .colab-df-container {\n",
              "      display:flex;\n",
              "      flex-wrap:wrap;\n",
              "      gap: 12px;\n",
              "    }\n",
              "\n",
              "    .colab-df-convert {\n",
              "      background-color: #E8F0FE;\n",
              "      border: none;\n",
              "      border-radius: 50%;\n",
              "      cursor: pointer;\n",
              "      display: none;\n",
              "      fill: #1967D2;\n",
              "      height: 32px;\n",
              "      padding: 0 0 0 0;\n",
              "      width: 32px;\n",
              "    }\n",
              "\n",
              "    .colab-df-convert:hover {\n",
              "      background-color: #E2EBFA;\n",
              "      box-shadow: 0px 1px 2px rgba(60, 64, 67, 0.3), 0px 1px 3px 1px rgba(60, 64, 67, 0.15);\n",
              "      fill: #174EA6;\n",
              "    }\n",
              "\n",
              "    [theme=dark] .colab-df-convert {\n",
              "      background-color: #3B4455;\n",
              "      fill: #D2E3FC;\n",
              "    }\n",
              "\n",
              "    [theme=dark] .colab-df-convert:hover {\n",
              "      background-color: #434B5C;\n",
              "      box-shadow: 0px 1px 3px 1px rgba(0, 0, 0, 0.15);\n",
              "      filter: drop-shadow(0px 1px 2px rgba(0, 0, 0, 0.3));\n",
              "      fill: #FFFFFF;\n",
              "    }\n",
              "  </style>\n",
              "\n",
              "      <script>\n",
              "        const buttonEl =\n",
              "          document.querySelector('#df-5cdb5e2a-a341-4a8f-a6d2-5d6087c8e99e button.colab-df-convert');\n",
              "        buttonEl.style.display =\n",
              "          google.colab.kernel.accessAllowed ? 'block' : 'none';\n",
              "\n",
              "        async function convertToInteractive(key) {\n",
              "          const element = document.querySelector('#df-5cdb5e2a-a341-4a8f-a6d2-5d6087c8e99e');\n",
              "          const dataTable =\n",
              "            await google.colab.kernel.invokeFunction('convertToInteractive',\n",
              "                                                     [key], {});\n",
              "          if (!dataTable) return;\n",
              "\n",
              "          const docLinkHtml = 'Like what you see? Visit the ' +\n",
              "            '<a target=\"_blank\" href=https://colab.research.google.com/notebooks/data_table.ipynb>data table notebook</a>'\n",
              "            + ' to learn more about interactive tables.';\n",
              "          element.innerHTML = '';\n",
              "          dataTable['output_type'] = 'display_data';\n",
              "          await google.colab.output.renderOutput(dataTable, element);\n",
              "          const docLink = document.createElement('div');\n",
              "          docLink.innerHTML = docLinkHtml;\n",
              "          element.appendChild(docLink);\n",
              "        }\n",
              "      </script>\n",
              "    </div>\n",
              "  </div>\n",
              "  "
            ]
          },
          "metadata": {},
          "execution_count": 145
        }
      ]
    },
    {
      "cell_type": "code",
      "source": [
        "top_words"
      ],
      "metadata": {
        "id": "uhV95K3epIC0",
        "colab": {
          "base_uri": "https://localhost:8080/"
        },
        "outputId": "39bc6f35-0b7b-4f5c-c564-58e298e4225a"
      },
      "execution_count": null,
      "outputs": [
        {
          "output_type": "execute_result",
          "data": {
            "text/plain": [
              "[['2014',\n",
              "  'prabowo',\n",
              "  'indonesia',\n",
              "  'jadi',\n",
              "  'mahfud',\n",
              "  'iskan',\n",
              "  'dahlan',\n",
              "  'akan',\n",
              "  'presiden',\n",
              "  'rt'],\n",
              " ['capres',\n",
              "  'jd',\n",
              "  'rt',\n",
              "  'jk',\n",
              "  'deklarasi',\n",
              "  'hanura',\n",
              "  'yg',\n",
              "  'wiranto',\n",
              "  'followradiopepatah',\n",
              "  'dahlan'],\n",
              " ['jadi', 'jd', 'yg', 'kalo', 'mau', 'sama', 'ya', 'aja', 'arb', 'om'],\n",
              " ['prabowo',\n",
              "  'saya',\n",
              "  'presiden',\n",
              "  'dan',\n",
              "  'harus',\n",
              "  'oleh',\n",
              "  'pilih',\n",
              "  'adalah',\n",
              "  '2014',\n",
              "  'dahlan'],\n",
              " ['hatta',\n",
              "  'menjadi',\n",
              "  'evaluasi',\n",
              "  'membuka',\n",
              "  'radjasa',\n",
              "  'pencapresan',\n",
              "  'umumnya',\n",
              "  'kemungkinan',\n",
              "  '2013pan',\n",
              "  '09'],\n",
              " ['vihara',\n",
              "  'wonogiri',\n",
              "  'forum',\n",
              "  'petani',\n",
              "  'guruh',\n",
              "  'capres',\n",
              "  'rt',\n",
              "  'jokowi',\n",
              "  'islam',\n",
              "  'pdip'],\n",
              " ['jadi',\n",
              "  'rt',\n",
              "  'prabowo',\n",
              "  'acak',\n",
              "  'presiden',\n",
              "  'jokowi',\n",
              "  'dukung',\n",
              "  'nya',\n",
              "  'capres',\n",
              "  'apa'],\n",
              " ['rt',\n",
              "  'bungkus',\n",
              "  'bung',\n",
              "  'gimana',\n",
              "  'cawapres',\n",
              "  'prabowo',\n",
              "  'capres',\n",
              "  'underdog',\n",
              "  'jokowi',\n",
              "  'charta'],\n",
              " ['rt',\n",
              "  'jokowi',\n",
              "  'jd',\n",
              "  'presiden',\n",
              "  'ya',\n",
              "  'jadi',\n",
              "  'emoh',\n",
              "  'ahok',\n",
              "  'capres',\n",
              "  'aja'],\n",
              " ['yg', 'dan', 'saya', 'ada', 'jadi', 'prabowo', 'akan', 'capres', 'jk', 'di']]"
            ]
          },
          "metadata": {},
          "execution_count": 146
        }
      ]
    },
    {
      "cell_type": "markdown",
      "source": [
        "## n_topics=4 (model-3)"
      ],
      "metadata": {
        "id": "29wk8SFjpKs4"
      }
    },
    {
      "cell_type": "code",
      "source": [
        "## Model EFCM - Reduksi Dimensi\n",
        "from sklearn.decomposition import TruncatedSVD\n",
        "\n",
        "svd = TruncatedSVD(n_components = 5)\n",
        "data = svd.fit_transform(bert_emb)\n",
        "\n",
        "print(data.shape)"
      ],
      "metadata": {
        "id": "HERFgmNHpKs4",
        "colab": {
          "base_uri": "https://localhost:8080/"
        },
        "outputId": "1dec107b-6b27-4cd6-8b26-4cf1a79e0c6d"
      },
      "execution_count": null,
      "outputs": [
        {
          "output_type": "stream",
          "name": "stdout",
          "text": [
            "(1885, 5)\n"
          ]
        }
      ]
    },
    {
      "cell_type": "code",
      "source": [
        "## Model EFCM - Clustering\n",
        "from sklearn.cluster import KMeans\n",
        "import sys\n",
        "sys.path.insert(0, \"/content/drive/MyDrive/Deep Learning/FCMeans\")\n",
        "from fcmeans import fcmeans\n",
        "\n",
        "m =1.1\n",
        "n_topics = 4\n",
        "initkm = KMeans(n_clusters=n_topics, n_init=1).fit(data)\n",
        "cntr, u = fcmeans(data.T, n_topics, m, error=0.0001, maxiter=200, init=initkm.cluster_centers_.T)\n",
        "cluster_membership = np.argmax(u, axis=0)\n",
        "\n",
        "print(cluster_membership.shape)"
      ],
      "metadata": {
        "id": "3THkmkJ6pKs5",
        "colab": {
          "base_uri": "https://localhost:8080/"
        },
        "outputId": "f65f3009-1013-4854-d88c-64accf314af8"
      },
      "execution_count": null,
      "outputs": [
        {
          "output_type": "stream",
          "name": "stdout",
          "text": [
            "(1885,)\n"
          ]
        }
      ]
    },
    {
      "cell_type": "code",
      "source": [
        "### Topic Interpretation\n",
        "import numpy as np\n",
        "from sklearn.feature_extraction.text import CountVectorizer\n",
        "\n",
        "#### Class Based TFIDF (C-TFIDF) Functions\n",
        "def c_tf_idf(documents, m, ngram_range=(1, 1)):\n",
        "    count = CountVectorizer(ngram_range=ngram_range).fit(documents)\n",
        "    t = count.transform(documents).toarray()\n",
        "    w = t.sum(axis=1)\n",
        "    tf = np.divide(t.T, w)\n",
        "    sum_t = t.sum(axis=0)\n",
        "    idf = np.log(np.divide(m, sum_t)).reshape(-1, 1)\n",
        "    tf_idf = np.multiply(tf, idf)\n",
        "\n",
        "    return tf_idf, count\n",
        "\n",
        "def extract_top_words_per_topic(tf_idf, count, docs_per_topic, n = 10):\n",
        "    words = count.get_feature_names_out()\n",
        "    labels = list(docs_per_topic.Topic)\n",
        "    tf_idf_transposed = tf_idf.T\n",
        "    indices = tf_idf_transposed.argsort()[:, -n:]\n",
        "    top_n_words = {label: [(words[j], tf_idf_transposed[i][j]) for j in indices[i]][::-1] for i, label in enumerate(labels)}\n",
        "    top_words = []\n",
        "    for i in range(len(labels)):\n",
        "      top_words.append([words[j] for j in indices [i]][::-1])\n",
        "    return top_words\n",
        "\n",
        "#### Topic Representation\n",
        "docs = pd.DataFrame(list(dataset[\"Isi_Tweet\"]), columns=[\"Doc\"])\n",
        "docs['Topic'] = cluster_membership\n",
        "docs['Doc_ID'] = range(len(docs))\n",
        "docs_per_topic = docs.dropna(subset=['Doc']).groupby(['Topic'], as_index = False).agg({'Doc': ' '.join})\n",
        "\n",
        "tf_idf, count = c_tf_idf(docs_per_topic.Doc.values, m=len(docs))\n",
        "top_words = extract_top_words_per_topic(tf_idf, count, docs_per_topic, 10)\n",
        "print(top_words)"
      ],
      "metadata": {
        "id": "zYQNlEGEpKs5",
        "colab": {
          "base_uri": "https://localhost:8080/"
        },
        "outputId": "0e898f78-e2dc-4e9d-afa3-472efe710971"
      },
      "execution_count": null,
      "outputs": [
        {
          "output_type": "stream",
          "name": "stdout",
          "text": [
            "[['jadi', 'yg', 'jd', 'ya', 'rt', 'presiden', 'arb', 'aja', 'jokowi', 'mau'], ['menjadi', 'hatta', 'dan', 'sebagai', 'mantan', 'tidak', 'tokoh', 'umumnya', 'jusuf', 'kemungkinan'], ['rt', 'prabowo', 'capres', 'jokowi', 'presiden', 'cawapres', 'bung', 'gimana', 'jadi', 'acak'], ['rt', 'jadi', 'capres', 'jokowi', 'presiden', 'dahlan', 'prabowo', 'di', 'jd', 'wiranto']]\n"
          ]
        }
      ]
    },
    {
      "cell_type": "code",
      "source": [
        "### Topic Coherence\n",
        "import gensim\n",
        "from itertools import combinations\n",
        "import warnings\n",
        "warnings.filterwarnings(\"ignore\", category=FutureWarning)\n",
        "warnings.filterwarnings(\"ignore\", category=DeprecationWarning)\n",
        "\n",
        "### Memuat Model Word2Vec\n",
        "w2v_model = gensim.models.Word2Vec.load(\"/content/drive/MyDrive/Deep Learning/Data/word2vec/idwiki-berita/w2v-model.bin\")\n",
        "\n",
        "### Fungsi Menghitung Coherence\n",
        "def calculate_coherence( w2v_model, term_rankings ):\n",
        "    overall_coherence = 0.0\n",
        "    for topic_index in range(len(term_rankings)):\n",
        "        # check each pair of terms\n",
        "        pair_scores = []\n",
        "        for pair in combinations( term_rankings[topic_index], 2 ):\n",
        "            if pair[0] in w2v_model.wv.index_to_key:\n",
        "                if pair[1] in w2v_model.wv.index_to_key:\n",
        "                    pair_scores.append( abs(w2v_model.wv.similarity(pair[0], pair[1])) )\n",
        "                #else:\n",
        "                    #pair_scores.append(0)\n",
        "            #else:\n",
        "                #pair_scores.append(0)\n",
        "        \n",
        "        # get the mean for all pairs in this topic\n",
        "        if pair_scores:\n",
        "            topic_score = sum(pair_scores) / len(pair_scores)\n",
        "            overall_coherence += topic_score\n",
        "    \n",
        "    # get the mean score across all topics\n",
        "    return overall_coherence / len(term_rankings)\n",
        "\n",
        "\n",
        "### Menentukan Nilai Coherence dari Topik\n",
        "print(calculate_coherence(w2v_model, top_words))\n",
        "actual_coherences.append(calculate_coherence(w2v_model, top_words))"
      ],
      "metadata": {
        "id": "eteN1HrMpKs6",
        "colab": {
          "base_uri": "https://localhost:8080/"
        },
        "outputId": "3109518e-9fd6-47ca-d00e-e30396b56dab"
      },
      "execution_count": null,
      "outputs": [
        {
          "output_type": "stream",
          "name": "stdout",
          "text": [
            "0.24687365373773942\n"
          ]
        }
      ]
    },
    {
      "cell_type": "code",
      "source": [
        "## Parameter Tuning\n",
        "### Jumlah Topik Optimal\n",
        "import pandas as pd\n",
        "\n",
        "num_topics = []\n",
        "coherences = []\n",
        "for n_topics in range(1,11,1):\n",
        "    print(\"The number of topics is \" + str(n_topics))\n",
        "    \n",
        "    coherence_sim = []\n",
        "    for i in range(1,3):\n",
        "        print(\"The simulation \" + str(i))\n",
        "               \n",
        "        #topic detection\n",
        "        m = 1.1\n",
        "        initkm = KMeans(n_clusters=n_topics, n_init=1).fit(data)\n",
        "        cntr, u = fcmeans(data.T, n_topics, m, error=0.0001, maxiter=200, init=initkm.cluster_centers_.T)\n",
        "        cluster_membership = np.argmax(u, axis=0)\n",
        "        \n",
        "        docs = pd.DataFrame(list(dataset[\"Isi_Tweet\"]), columns=[\"Doc\"])\n",
        "        docs['Topic'] = cluster_membership\n",
        "        docs['Doc_ID'] = range(len(docs))\n",
        "        docs_per_topic = docs.dropna(subset=['Doc']).groupby(['Topic'], as_index = False).agg({'Doc': ' '.join})\n",
        "        \n",
        "        tf_idf, count = c_tf_idf(docs_per_topic.Doc.values, m=len(docs))\n",
        "        top_words = extract_top_words_per_topic(tf_idf, count, docs_per_topic, 10)\n",
        "        \n",
        "        coherence_sim.append(calculate_coherence(w2v_model, top_words))\n",
        "        print('Coherence value : ',coherence_sim[i-1])\n",
        "        \n",
        "    num_topics.append(n_topics)\n",
        "    coherences.append(coherence_sim)\n",
        "\n",
        "### Visualisasi\n",
        "df = pd.DataFrame.from_records(coherences).T\n",
        "df.columns = num_topics\n",
        "boxplot = df.boxplot(grid=False)\n",
        "boxplot.set_xlabel(\"Number of Topics\")\n",
        "boxplot.set_ylabel(\"Coherence\")"
      ],
      "metadata": {
        "id": "FfY80-CapKs6",
        "colab": {
          "base_uri": "https://localhost:8080/",
          "height": 1164
        },
        "outputId": "76e44c26-f871-43dc-d5c7-d4e856a70dcf"
      },
      "execution_count": null,
      "outputs": [
        {
          "output_type": "stream",
          "name": "stdout",
          "text": [
            "The number of topics is 1\n",
            "The simulation 1\n",
            "Coherence value :  0.21799575076216743\n",
            "The simulation 2\n",
            "Coherence value :  0.21799575076216743\n",
            "The number of topics is 2\n",
            "The simulation 1\n",
            "Coherence value :  0.24832308248040225\n",
            "The simulation 2\n",
            "Coherence value :  0.24832308248040225\n",
            "The number of topics is 3\n",
            "The simulation 1\n",
            "Coherence value :  0.27501854046233115\n",
            "The simulation 2\n",
            "Coherence value :  0.27501854046233115\n",
            "The number of topics is 4\n",
            "The simulation 1\n",
            "Coherence value :  0.24687365373773945\n",
            "The simulation 2\n",
            "Coherence value :  0.24687365373773945\n",
            "The number of topics is 5\n",
            "The simulation 1\n",
            "Coherence value :  0.2621687633118459\n",
            "The simulation 2\n",
            "Coherence value :  0.2621687633118459\n",
            "The number of topics is 6\n",
            "The simulation 1\n",
            "Coherence value :  0.25215155082661167\n",
            "The simulation 2\n",
            "Coherence value :  0.25215155082661167\n",
            "The number of topics is 7\n",
            "The simulation 1\n",
            "Coherence value :  0.25351423577420296\n",
            "The simulation 2\n",
            "Coherence value :  0.25351423577420296\n",
            "The number of topics is 8\n",
            "The simulation 1\n",
            "Coherence value :  0.25193199775004316\n",
            "The simulation 2\n",
            "Coherence value :  0.25193199775004316\n",
            "The number of topics is 9\n",
            "The simulation 1\n",
            "Coherence value :  0.24631746682277644\n",
            "The simulation 2\n",
            "Coherence value :  0.2421520723690274\n",
            "The number of topics is 10\n",
            "The simulation 1\n",
            "Coherence value :  0.24534569986548926\n",
            "The simulation 2\n",
            "Coherence value :  0.2335363052262082\n"
          ]
        },
        {
          "output_type": "execute_result",
          "data": {
            "text/plain": [
              "Text(0, 0.5, 'Coherence')"
            ]
          },
          "metadata": {},
          "execution_count": 151
        },
        {
          "output_type": "display_data",
          "data": {
            "text/plain": [
              "<Figure size 432x288 with 1 Axes>"
            ],
            "image/png": "[encoded data removed]"
          },
          "metadata": {
            "needs_background": "light"
          }
        }
      ]
    },
    {
      "cell_type": "code",
      "source": [
        "print('Nilai Coherence Maksimal=',np.max(coherences))\n",
        "max_coherences.append(np.max(coherences))\n",
        "print('Nilai Coherence Minimal=',np.min(coherences))\n",
        "min_coherences.append(np.min(coherences))\n",
        "print('Nilai Rata-rata Coherence=',np.mean(coherences))\n",
        "mean_coherences.append(np.mean(coherences))\n",
        "print('Nilai Median Coherence=',np.median(coherences))\n",
        "med_coherences.append(np.median(coherences))"
      ],
      "metadata": {
        "id": "ouetmLgXpKs7",
        "colab": {
          "base_uri": "https://localhost:8080/"
        },
        "outputId": "4bb8b0bf-03ba-4eb5-c00c-3ce8ecac5145"
      },
      "execution_count": null,
      "outputs": [
        {
          "output_type": "stream",
          "name": "stdout",
          "text": [
            "Nilai Coherence Maksimal= 0.27501854046233115\n",
            "Nilai Coherence Minimal= 0.21799575076216743\n",
            "Nilai Rata-rata Coherence= 0.24916533472470945\n",
            "Nilai Median Coherence= 0.2501275401152227\n"
          ]
        }
      ]
    },
    {
      "cell_type": "code",
      "source": [
        "coherences_new=[]\n",
        "num_topics_new=[]\n",
        "for i in range(len(num_topics)):\n",
        "    coherences_new.append(coherences[i][0])\n",
        "    coherences_new.append(coherences[i][1])\n",
        "    num_topics_new.append(i+1)\n",
        "    num_topics_new.append(i+1)\n",
        "print('Parameter jumlah topik untuk Coherence Maksimal:',num_topics_new[coherences_new.index(np.max(coherences_new))])"
      ],
      "metadata": {
        "id": "KSKGv4_YpKs7",
        "colab": {
          "base_uri": "https://localhost:8080/"
        },
        "outputId": "b373ca8d-1e0f-4dab-8440-8c7c4db38e9a"
      },
      "execution_count": null,
      "outputs": [
        {
          "output_type": "stream",
          "name": "stdout",
          "text": [
            "Parameter jumlah topik untuk Coherence Maksimal: 3\n"
          ]
        }
      ]
    },
    {
      "cell_type": "code",
      "source": [
        "df"
      ],
      "metadata": {
        "id": "8TyzafY3pKs8",
        "colab": {
          "base_uri": "https://localhost:8080/",
          "height": 112
        },
        "outputId": "63de8562-679d-47f6-8dd4-79fd0319254e"
      },
      "execution_count": null,
      "outputs": [
        {
          "output_type": "execute_result",
          "data": {
            "text/plain": [
              "         1         2         3         4         5         6         7   \\\n",
              "0  0.217996  0.248323  0.275019  0.246874  0.262169  0.252152  0.253514   \n",
              "1  0.217996  0.248323  0.275019  0.246874  0.262169  0.252152  0.253514   \n",
              "\n",
              "         8         9         10  \n",
              "0  0.251932  0.246317  0.245346  \n",
              "1  0.251932  0.242152  0.233536  "
            ],
            "text/html": [
              "\n",
              "  <div id=\"df-c4f97a2e-4361-439e-a6ad-56e06755e538\">\n",
              "    <div class=\"colab-df-container\">\n",
              "      <div>\n",
              "<style scoped>\n",
              "    .dataframe tbody tr th:only-of-type {\n",
              "        vertical-align: middle;\n",
              "    }\n",
              "\n",
              "    .dataframe tbody tr th {\n",
              "        vertical-align: top;\n",
              "    }\n",
              "\n",
              "    .dataframe thead th {\n",
              "        text-align: right;\n",
              "    }\n",
              "</style>\n",
              "<table border=\"1\" class=\"dataframe\">\n",
              "  <thead>\n",
              "    <tr style=\"text-align: right;\">\n",
              "      <th></th>\n",
              "      <th>1</th>\n",
              "      <th>2</th>\n",
              "      <th>3</th>\n",
              "      <th>4</th>\n",
              "      <th>5</th>\n",
              "      <th>6</th>\n",
              "      <th>7</th>\n",
              "      <th>8</th>\n",
              "      <th>9</th>\n",
              "      <th>10</th>\n",
              "    </tr>\n",
              "  </thead>\n",
              "  <tbody>\n",
              "    <tr>\n",
              "      <th>0</th>\n",
              "      <td>0.217996</td>\n",
              "      <td>0.248323</td>\n",
              "      <td>0.275019</td>\n",
              "      <td>0.246874</td>\n",
              "      <td>0.262169</td>\n",
              "      <td>0.252152</td>\n",
              "      <td>0.253514</td>\n",
              "      <td>0.251932</td>\n",
              "      <td>0.246317</td>\n",
              "      <td>0.245346</td>\n",
              "    </tr>\n",
              "    <tr>\n",
              "      <th>1</th>\n",
              "      <td>0.217996</td>\n",
              "      <td>0.248323</td>\n",
              "      <td>0.275019</td>\n",
              "      <td>0.246874</td>\n",
              "      <td>0.262169</td>\n",
              "      <td>0.252152</td>\n",
              "      <td>0.253514</td>\n",
              "      <td>0.251932</td>\n",
              "      <td>0.242152</td>\n",
              "      <td>0.233536</td>\n",
              "    </tr>\n",
              "  </tbody>\n",
              "</table>\n",
              "</div>\n",
              "      <button class=\"colab-df-convert\" onclick=\"convertToInteractive('df-c4f97a2e-4361-439e-a6ad-56e06755e538')\"\n",
              "              title=\"Convert this dataframe to an interactive table.\"\n",
              "              style=\"display:none;\">\n",
              "        \n",
              "  <svg xmlns=\"http://www.w3.org/2000/svg\" height=\"24px\"viewBox=\"0 0 24 24\"\n",
              "       width=\"24px\">\n",
              "    <path d=\"M0 0h24v24H0V0z\" fill=\"none\"/>\n",
              "    <path d=\"M18.56 5.44l.94 2.06.94-2.06 2.06-.94-2.06-.94-.94-2.06-.94 2.06-2.06.94zm-11 1L8.5 8.5l.94-2.06 2.06-.94-2.06-.94L8.5 2.5l-.94 2.06-2.06.94zm10 10l.94 2.06.94-2.06 2.06-.94-2.06-.94-.94-2.06-.94 2.06-2.06.94z\"/><path d=\"M17.41 7.96l-1.37-1.37c-.4-.4-.92-.59-1.43-.59-.52 0-1.04.2-1.43.59L10.3 9.45l-7.72 7.72c-.78.78-.78 2.05 0 2.83L4 21.41c.39.39.9.59 1.41.59.51 0 1.02-.2 1.41-.59l7.78-7.78 2.81-2.81c.8-.78.8-2.07 0-2.86zM5.41 20L4 18.59l7.72-7.72 1.47 1.35L5.41 20z\"/>\n",
              "  </svg>\n",
              "      </button>\n",
              "      \n",
              "  <style>\n",
              "    .colab-df-container {\n",
              "      display:flex;\n",
              "      flex-wrap:wrap;\n",
              "      gap: 12px;\n",
              "    }\n",
              "\n",
              "    .colab-df-convert {\n",
              "      background-color: #E8F0FE;\n",
              "      border: none;\n",
              "      border-radius: 50%;\n",
              "      cursor: pointer;\n",
              "      display: none;\n",
              "      fill: #1967D2;\n",
              "      height: 32px;\n",
              "      padding: 0 0 0 0;\n",
              "      width: 32px;\n",
              "    }\n",
              "\n",
              "    .colab-df-convert:hover {\n",
              "      background-color: #E2EBFA;\n",
              "      box-shadow: 0px 1px 2px rgba(60, 64, 67, 0.3), 0px 1px 3px 1px rgba(60, 64, 67, 0.15);\n",
              "      fill: #174EA6;\n",
              "    }\n",
              "\n",
              "    [theme=dark] .colab-df-convert {\n",
              "      background-color: #3B4455;\n",
              "      fill: #D2E3FC;\n",
              "    }\n",
              "\n",
              "    [theme=dark] .colab-df-convert:hover {\n",
              "      background-color: #434B5C;\n",
              "      box-shadow: 0px 1px 3px 1px rgba(0, 0, 0, 0.15);\n",
              "      filter: drop-shadow(0px 1px 2px rgba(0, 0, 0, 0.3));\n",
              "      fill: #FFFFFF;\n",
              "    }\n",
              "  </style>\n",
              "\n",
              "      <script>\n",
              "        const buttonEl =\n",
              "          document.querySelector('#df-c4f97a2e-4361-439e-a6ad-56e06755e538 button.colab-df-convert');\n",
              "        buttonEl.style.display =\n",
              "          google.colab.kernel.accessAllowed ? 'block' : 'none';\n",
              "\n",
              "        async function convertToInteractive(key) {\n",
              "          const element = document.querySelector('#df-c4f97a2e-4361-439e-a6ad-56e06755e538');\n",
              "          const dataTable =\n",
              "            await google.colab.kernel.invokeFunction('convertToInteractive',\n",
              "                                                     [key], {});\n",
              "          if (!dataTable) return;\n",
              "\n",
              "          const docLinkHtml = 'Like what you see? Visit the ' +\n",
              "            '<a target=\"_blank\" href=https://colab.research.google.com/notebooks/data_table.ipynb>data table notebook</a>'\n",
              "            + ' to learn more about interactive tables.';\n",
              "          element.innerHTML = '';\n",
              "          dataTable['output_type'] = 'display_data';\n",
              "          await google.colab.output.renderOutput(dataTable, element);\n",
              "          const docLink = document.createElement('div');\n",
              "          docLink.innerHTML = docLinkHtml;\n",
              "          element.appendChild(docLink);\n",
              "        }\n",
              "      </script>\n",
              "    </div>\n",
              "  </div>\n",
              "  "
            ]
          },
          "metadata": {},
          "execution_count": 154
        }
      ]
    },
    {
      "cell_type": "code",
      "source": [
        "top_words"
      ],
      "metadata": {
        "id": "7cQB59-ZpKs8",
        "colab": {
          "base_uri": "https://localhost:8080/"
        },
        "outputId": "eb66cf23-b450-4850-c5a8-7b5c09dc356a"
      },
      "execution_count": null,
      "outputs": [
        {
          "output_type": "execute_result",
          "data": {
            "text/plain": [
              "[['bungkus',\n",
              "  'gimana',\n",
              "  'bung',\n",
              "  'rt',\n",
              "  'cawapres',\n",
              "  'underdog',\n",
              "  'prabowo',\n",
              "  'charta',\n",
              "  'politika',\n",
              "  'mampu'],\n",
              " ['capres',\n",
              "  'jd',\n",
              "  'deklarasi',\n",
              "  'rt',\n",
              "  'jk',\n",
              "  'hanura',\n",
              "  'tdk',\n",
              "  'wiranto',\n",
              "  'followradiopepatah',\n",
              "  'yg'],\n",
              " ['jadi', 'jd', 'yg', 'kalo', 'mau', 'sama', 'ya', 'aja', 'arb', 'om'],\n",
              " ['yg',\n",
              "  'dan',\n",
              "  'saya',\n",
              "  'akan',\n",
              "  'prabowo',\n",
              "  'ada',\n",
              "  'jadi',\n",
              "  'capres',\n",
              "  'no',\n",
              "  'bisa'],\n",
              " ['jadi',\n",
              "  'rt',\n",
              "  'prabowo',\n",
              "  'acak',\n",
              "  'presiden',\n",
              "  'jokowi',\n",
              "  'capres',\n",
              "  'dukung',\n",
              "  'nya',\n",
              "  'arb'],\n",
              " ['prabowo',\n",
              "  'jadi',\n",
              "  'harus',\n",
              "  'saya',\n",
              "  'itu',\n",
              "  'rt',\n",
              "  'dahlan',\n",
              "  'dan',\n",
              "  'presiden',\n",
              "  'capres'],\n",
              " ['rt',\n",
              "  'jd',\n",
              "  'jokowi',\n",
              "  'presiden',\n",
              "  'jadi',\n",
              "  'ya',\n",
              "  'arb',\n",
              "  'emoh',\n",
              "  'capres',\n",
              "  'aja'],\n",
              " ['hatta',\n",
              "  'menjadi',\n",
              "  'pencapresan',\n",
              "  'radjasa',\n",
              "  'evaluasi',\n",
              "  'membuka',\n",
              "  'umumnya',\n",
              "  'kemungkinan',\n",
              "  '2013pan',\n",
              "  '09'],\n",
              " ['2014',\n",
              "  'prabowo',\n",
              "  'indonesia',\n",
              "  'jadi',\n",
              "  'iskan',\n",
              "  'dahlan',\n",
              "  'presiden',\n",
              "  'mahfud',\n",
              "  'untuk',\n",
              "  'rt'],\n",
              " ['wonogiri',\n",
              "  'vihara',\n",
              "  'forum',\n",
              "  'petani',\n",
              "  'guruh',\n",
              "  'capres',\n",
              "  'rt',\n",
              "  'jokowi',\n",
              "  'islam',\n",
              "  'pdip']]"
            ]
          },
          "metadata": {},
          "execution_count": 155
        }
      ]
    },
    {
      "cell_type": "markdown",
      "source": [
        "## n_topics=10 (model-4)"
      ],
      "metadata": {
        "id": "CIb1kWnPpQsk"
      }
    },
    {
      "cell_type": "code",
      "source": [
        "## Model EFCM - Reduksi Dimensi\n",
        "from sklearn.decomposition import TruncatedSVD\n",
        "\n",
        "svd = TruncatedSVD(n_components = 5)\n",
        "data = svd.fit_transform(bert_emb)\n",
        "\n",
        "print(data.shape)"
      ],
      "metadata": {
        "id": "uTGgkNhDpQsk",
        "colab": {
          "base_uri": "https://localhost:8080/"
        },
        "outputId": "565eeaa5-76af-4c21-85f8-da780a3c180f"
      },
      "execution_count": null,
      "outputs": [
        {
          "output_type": "stream",
          "name": "stdout",
          "text": [
            "(1885, 5)\n"
          ]
        }
      ]
    },
    {
      "cell_type": "code",
      "source": [
        "## Model EFCM - Clustering\n",
        "from sklearn.cluster import KMeans\n",
        "import sys\n",
        "sys.path.insert(0, \"/content/drive/MyDrive/Deep Learning/FCMeans\")\n",
        "from fcmeans import fcmeans\n",
        "\n",
        "m =1.1\n",
        "n_topics = 10\n",
        "initkm = KMeans(n_clusters=n_topics, n_init=1).fit(data)\n",
        "cntr, u = fcmeans(data.T, n_topics, m, error=0.0001, maxiter=200, init=initkm.cluster_centers_.T)\n",
        "cluster_membership = np.argmax(u, axis=0)\n",
        "\n",
        "print(cluster_membership.shape)"
      ],
      "metadata": {
        "id": "RiFfByQmpQsl",
        "colab": {
          "base_uri": "https://localhost:8080/"
        },
        "outputId": "cfccd8ad-1e4a-4ae2-d5c1-3f8214bf8a8d"
      },
      "execution_count": null,
      "outputs": [
        {
          "output_type": "stream",
          "name": "stdout",
          "text": [
            "(1885,)\n"
          ]
        }
      ]
    },
    {
      "cell_type": "code",
      "source": [
        "### Topic Interpretation\n",
        "import numpy as np\n",
        "from sklearn.feature_extraction.text import CountVectorizer\n",
        "\n",
        "#### Class Based TFIDF (C-TFIDF) Functions\n",
        "def c_tf_idf(documents, m, ngram_range=(1, 1)):\n",
        "    count = CountVectorizer(ngram_range=ngram_range).fit(documents)\n",
        "    t = count.transform(documents).toarray()\n",
        "    w = t.sum(axis=1)\n",
        "    tf = np.divide(t.T, w)\n",
        "    sum_t = t.sum(axis=0)\n",
        "    idf = np.log(np.divide(m, sum_t)).reshape(-1, 1)\n",
        "    tf_idf = np.multiply(tf, idf)\n",
        "\n",
        "    return tf_idf, count\n",
        "\n",
        "def extract_top_words_per_topic(tf_idf, count, docs_per_topic, n = 10):\n",
        "    words = count.get_feature_names_out()\n",
        "    labels = list(docs_per_topic.Topic)\n",
        "    tf_idf_transposed = tf_idf.T\n",
        "    indices = tf_idf_transposed.argsort()[:, -n:]\n",
        "    top_n_words = {label: [(words[j], tf_idf_transposed[i][j]) for j in indices[i]][::-1] for i, label in enumerate(labels)}\n",
        "    top_words = []\n",
        "    for i in range(len(labels)):\n",
        "      top_words.append([words[j] for j in indices [i]][::-1])\n",
        "    return top_words\n",
        "\n",
        "#### Topic Representation\n",
        "docs = pd.DataFrame(list(dataset[\"Isi_Tweet\"]), columns=[\"Doc\"])\n",
        "docs['Topic'] = cluster_membership\n",
        "docs['Doc_ID'] = range(len(docs))\n",
        "docs_per_topic = docs.dropna(subset=['Doc']).groupby(['Topic'], as_index = False).agg({'Doc': ' '.join})\n",
        "\n",
        "tf_idf, count = c_tf_idf(docs_per_topic.Doc.values, m=len(docs))\n",
        "top_words = extract_top_words_per_topic(tf_idf, count, docs_per_topic, 10)\n",
        "print(top_words)"
      ],
      "metadata": {
        "id": "JI4fHHFZpQsl",
        "colab": {
          "base_uri": "https://localhost:8080/"
        },
        "outputId": "9b930ac6-4c3d-4633-a14d-cd8f9746fd64"
      },
      "execution_count": null,
      "outputs": [
        {
          "output_type": "stream",
          "name": "stdout",
          "text": [
            "[['2014', 'prabowo', 'indonesia', 'presiden', 'adalah', 'dahlan', 'jadi', 'rt', 'mahfud', 'iskan'], ['capres', 'deklarasi', 'jk', 'rt', 'hanura', 'tdk', 'jd', 'followradiopepatah', 'wiranto', 'yg'], ['rt', 'prabowo', 'cawapres', 'bung', 'bungkus', 'capres', 'gimana', 'underdog', 'politika', 'charta'], ['yg', 'dan', 'saya', 'akan', 'ada', 'prabowo', 'bisa', 'jk', 'capres', 'indonesia'], ['jd', 'rt', 'jokowi', 'presiden', 'ya', 'jadi', 'emoh', 'aja', 'capres', 'arb'], ['islam', 'wonogiri', 'vihara', 'forum', 'capres', 'petani', 'jokowi', 'dukung', 'dahlan', 'galang'], ['acak', 'jadi', 'rt', 'guruh', 'kalo', 'apa', 'prabowo', 'dukung', 'jokowi', 'di'], ['jadi', 'kalo', 'jd', 'yg', 'mau', 'sama', 'ya', 'aja', 'arb', 'om'], ['jadi', 'rt', 'prabowo', 'presiden', 'jokowi', 'capres', 'arb', 'koruptor', 'ahok', 'dahlan'], ['hatta', 'menjadi', 'pencapresan', 'radjasa', 'evaluasi', 'membuka', 'umumnya', 'kemungkinan', '2013pan', '42']]\n"
          ]
        }
      ]
    },
    {
      "cell_type": "code",
      "source": [
        "### Topic Coherence\n",
        "import gensim\n",
        "from itertools import combinations\n",
        "import warnings\n",
        "warnings.filterwarnings(\"ignore\", category=FutureWarning)\n",
        "warnings.filterwarnings(\"ignore\", category=DeprecationWarning)\n",
        "\n",
        "### Memuat Model Word2Vec\n",
        "w2v_model = gensim.models.Word2Vec.load(\"/content/drive/MyDrive/Deep Learning/Data/word2vec/idwiki-berita/w2v-model.bin\")\n",
        "\n",
        "### Fungsi Menghitung Coherence\n",
        "def calculate_coherence( w2v_model, term_rankings ):\n",
        "    overall_coherence = 0.0\n",
        "    for topic_index in range(len(term_rankings)):\n",
        "        # check each pair of terms\n",
        "        pair_scores = []\n",
        "        for pair in combinations( term_rankings[topic_index], 2 ):\n",
        "            if pair[0] in w2v_model.wv.index_to_key:\n",
        "                if pair[1] in w2v_model.wv.index_to_key:\n",
        "                    pair_scores.append( abs(w2v_model.wv.similarity(pair[0], pair[1])) )\n",
        "                #else:\n",
        "                    #pair_scores.append(0)\n",
        "            #else:\n",
        "                #pair_scores.append(0)\n",
        "        \n",
        "        # get the mean for all pairs in this topic\n",
        "        if pair_scores:\n",
        "            topic_score = sum(pair_scores) / len(pair_scores)\n",
        "            overall_coherence += topic_score\n",
        "    \n",
        "    # get the mean score across all topics\n",
        "    return overall_coherence / len(term_rankings)\n",
        "\n",
        "\n",
        "### Menentukan Nilai Coherence dari Topik\n",
        "print(calculate_coherence(w2v_model, top_words))\n",
        "actual_coherences.append(calculate_coherence(w2v_model, top_words))"
      ],
      "metadata": {
        "id": "StuyGSB0pQsm",
        "colab": {
          "base_uri": "https://localhost:8080/"
        },
        "outputId": "9f3d6fbb-8fed-480b-c103-0d639cebd420"
      },
      "execution_count": null,
      "outputs": [
        {
          "output_type": "stream",
          "name": "stdout",
          "text": [
            "0.24237391818403484\n"
          ]
        }
      ]
    },
    {
      "cell_type": "code",
      "source": [
        "## Parameter Tuning\n",
        "### Jumlah Topik Optimal\n",
        "import pandas as pd\n",
        "\n",
        "num_topics = []\n",
        "coherences = []\n",
        "for n_topics in range(1,11,1):\n",
        "    print(\"The number of topics is \" + str(n_topics))\n",
        "    \n",
        "    coherence_sim = []\n",
        "    for i in range(1,3):\n",
        "        print(\"The simulation \" + str(i))\n",
        "               \n",
        "        #topic detection\n",
        "        m = 1.1\n",
        "        initkm = KMeans(n_clusters=n_topics, n_init=1).fit(data)\n",
        "        cntr, u = fcmeans(data.T, n_topics, m, error=0.0001, maxiter=200, init=initkm.cluster_centers_.T)\n",
        "        cluster_membership = np.argmax(u, axis=0)\n",
        "        \n",
        "        docs = pd.DataFrame(list(dataset[\"Isi_Tweet\"]), columns=[\"Doc\"])\n",
        "        docs['Topic'] = cluster_membership\n",
        "        docs['Doc_ID'] = range(len(docs))\n",
        "        docs_per_topic = docs.dropna(subset=['Doc']).groupby(['Topic'], as_index = False).agg({'Doc': ' '.join})\n",
        "        \n",
        "        tf_idf, count = c_tf_idf(docs_per_topic.Doc.values, m=len(docs))\n",
        "        top_words = extract_top_words_per_topic(tf_idf, count, docs_per_topic, 10)\n",
        "        \n",
        "        coherence_sim.append(calculate_coherence(w2v_model, top_words))\n",
        "        print('Coherence value : ',coherence_sim[i-1])\n",
        "        \n",
        "    num_topics.append(n_topics)\n",
        "    coherences.append(coherence_sim)\n",
        "\n",
        "### Visualisasi\n",
        "df = pd.DataFrame.from_records(coherences).T\n",
        "df.columns = num_topics\n",
        "boxplot = df.boxplot(grid=False)\n",
        "boxplot.set_xlabel(\"Number of Topics\")\n",
        "boxplot.set_ylabel(\"Coherence\")"
      ],
      "metadata": {
        "id": "uqCxEcqWpQsm",
        "colab": {
          "base_uri": "https://localhost:8080/",
          "height": 1164
        },
        "outputId": "e77e55e1-43b9-4db3-ce9d-b72ed8754304"
      },
      "execution_count": null,
      "outputs": [
        {
          "output_type": "stream",
          "name": "stdout",
          "text": [
            "The number of topics is 1\n",
            "The simulation 1\n",
            "Coherence value :  0.21799575076216743\n",
            "The simulation 2\n",
            "Coherence value :  0.21799575076216743\n",
            "The number of topics is 2\n",
            "The simulation 1\n",
            "Coherence value :  0.24832308248040225\n",
            "The simulation 2\n",
            "Coherence value :  0.24832308248040225\n",
            "The number of topics is 3\n",
            "The simulation 1\n",
            "Coherence value :  0.27501854046233115\n",
            "The simulation 2\n",
            "Coherence value :  0.27501854046233115\n",
            "The number of topics is 4\n",
            "The simulation 1\n",
            "Coherence value :  0.24687365373773945\n",
            "The simulation 2\n",
            "Coherence value :  0.24687365373773942\n",
            "The number of topics is 5\n",
            "The simulation 1\n",
            "Coherence value :  0.2621687633118459\n",
            "The simulation 2\n",
            "Coherence value :  0.26216876331184596\n",
            "The number of topics is 6\n",
            "The simulation 1\n",
            "Coherence value :  0.25215155082661167\n",
            "The simulation 2\n",
            "Coherence value :  0.25839577504093686\n",
            "The number of topics is 7\n",
            "The simulation 1\n",
            "Coherence value :  0.25365998230435277\n",
            "The simulation 2\n",
            "Coherence value :  0.2536599823043527\n",
            "The number of topics is 8\n",
            "The simulation 1\n",
            "Coherence value :  0.25193199775004316\n",
            "The simulation 2\n",
            "Coherence value :  0.25193199775004316\n",
            "The number of topics is 9\n",
            "The simulation 1\n",
            "Coherence value :  0.24631746682277644\n",
            "The simulation 2\n",
            "Coherence value :  0.24631746682277644\n",
            "The number of topics is 10\n",
            "The simulation 1\n",
            "Coherence value :  0.24237391818403484\n",
            "The simulation 2\n",
            "Coherence value :  0.24473739770019337\n"
          ]
        },
        {
          "output_type": "execute_result",
          "data": {
            "text/plain": [
              "Text(0, 0.5, 'Coherence')"
            ]
          },
          "metadata": {},
          "execution_count": 160
        },
        {
          "output_type": "display_data",
          "data": {
            "text/plain": [
              "<Figure size 432x288 with 1 Axes>"
            ],
            "image/png": "[encoded data removed]"
          },
          "metadata": {
            "needs_background": "light"
          }
        }
      ]
    },
    {
      "cell_type": "code",
      "source": [
        "print('Nilai Coherence Maksimal=',np.max(coherences))\n",
        "max_coherences.append(np.max(coherences))\n",
        "print('Nilai Coherence Minimal=',np.min(coherences))\n",
        "min_coherences.append(np.min(coherences))\n",
        "print('Nilai Rata-rata Coherence=',np.mean(coherences))\n",
        "mean_coherences.append(np.mean(coherences))\n",
        "print('Nilai Median Coherence=',np.median(coherences))\n",
        "med_coherences.append(np.median(coherences))"
      ],
      "metadata": {
        "id": "O9sxw8X3pQsn",
        "colab": {
          "base_uri": "https://localhost:8080/"
        },
        "outputId": "15528b5e-257c-429b-8f88-f36dc160ae4d"
      },
      "execution_count": null,
      "outputs": [
        {
          "output_type": "stream",
          "name": "stdout",
          "text": [
            "Nilai Coherence Maksimal= 0.27501854046233115\n",
            "Nilai Coherence Minimal= 0.21799575076216743\n",
            "Nilai Rata-rata Coherence= 0.25011185585075474\n",
            "Nilai Median Coherence= 0.2501275401152227\n"
          ]
        }
      ]
    },
    {
      "cell_type": "code",
      "source": [
        "coherences_new=[]\n",
        "num_topics_new=[]\n",
        "for i in range(len(num_topics)):\n",
        "    coherences_new.append(coherences[i][0])\n",
        "    coherences_new.append(coherences[i][1])\n",
        "    num_topics_new.append(i+1)\n",
        "    num_topics_new.append(i+1)\n",
        "print('Parameter jumlah topik untuk Coherence Maksimal:',num_topics_new[coherences_new.index(np.max(coherences_new))])"
      ],
      "metadata": {
        "id": "4795nHy2pQsn",
        "colab": {
          "base_uri": "https://localhost:8080/"
        },
        "outputId": "36cef637-0111-4970-b8a8-00b1fcda3910"
      },
      "execution_count": null,
      "outputs": [
        {
          "output_type": "stream",
          "name": "stdout",
          "text": [
            "Parameter jumlah topik untuk Coherence Maksimal: 3\n"
          ]
        }
      ]
    },
    {
      "cell_type": "code",
      "source": [
        "df"
      ],
      "metadata": {
        "id": "XCz_0RJHpQso",
        "colab": {
          "base_uri": "https://localhost:8080/",
          "height": 112
        },
        "outputId": "a4b4c34d-e220-45fd-80c5-8554b89ed358"
      },
      "execution_count": null,
      "outputs": [
        {
          "output_type": "execute_result",
          "data": {
            "text/plain": [
              "         1         2         3         4         5         6        7   \\\n",
              "0  0.217996  0.248323  0.275019  0.246874  0.262169  0.252152  0.25366   \n",
              "1  0.217996  0.248323  0.275019  0.246874  0.262169  0.258396  0.25366   \n",
              "\n",
              "         8         9         10  \n",
              "0  0.251932  0.246317  0.242374  \n",
              "1  0.251932  0.246317  0.244737  "
            ],
            "text/html": [
              "\n",
              "  <div id=\"df-c5f5c39a-cd92-46ff-ae68-18fa22a64595\">\n",
              "    <div class=\"colab-df-container\">\n",
              "      <div>\n",
              "<style scoped>\n",
              "    .dataframe tbody tr th:only-of-type {\n",
              "        vertical-align: middle;\n",
              "    }\n",
              "\n",
              "    .dataframe tbody tr th {\n",
              "        vertical-align: top;\n",
              "    }\n",
              "\n",
              "    .dataframe thead th {\n",
              "        text-align: right;\n",
              "    }\n",
              "</style>\n",
              "<table border=\"1\" class=\"dataframe\">\n",
              "  <thead>\n",
              "    <tr style=\"text-align: right;\">\n",
              "      <th></th>\n",
              "      <th>1</th>\n",
              "      <th>2</th>\n",
              "      <th>3</th>\n",
              "      <th>4</th>\n",
              "      <th>5</th>\n",
              "      <th>6</th>\n",
              "      <th>7</th>\n",
              "      <th>8</th>\n",
              "      <th>9</th>\n",
              "      <th>10</th>\n",
              "    </tr>\n",
              "  </thead>\n",
              "  <tbody>\n",
              "    <tr>\n",
              "      <th>0</th>\n",
              "      <td>0.217996</td>\n",
              "      <td>0.248323</td>\n",
              "      <td>0.275019</td>\n",
              "      <td>0.246874</td>\n",
              "      <td>0.262169</td>\n",
              "      <td>0.252152</td>\n",
              "      <td>0.25366</td>\n",
              "      <td>0.251932</td>\n",
              "      <td>0.246317</td>\n",
              "      <td>0.242374</td>\n",
              "    </tr>\n",
              "    <tr>\n",
              "      <th>1</th>\n",
              "      <td>0.217996</td>\n",
              "      <td>0.248323</td>\n",
              "      <td>0.275019</td>\n",
              "      <td>0.246874</td>\n",
              "      <td>0.262169</td>\n",
              "      <td>0.258396</td>\n",
              "      <td>0.25366</td>\n",
              "      <td>0.251932</td>\n",
              "      <td>0.246317</td>\n",
              "      <td>0.244737</td>\n",
              "    </tr>\n",
              "  </tbody>\n",
              "</table>\n",
              "</div>\n",
              "      <button class=\"colab-df-convert\" onclick=\"convertToInteractive('df-c5f5c39a-cd92-46ff-ae68-18fa22a64595')\"\n",
              "              title=\"Convert this dataframe to an interactive table.\"\n",
              "              style=\"display:none;\">\n",
              "        \n",
              "  <svg xmlns=\"http://www.w3.org/2000/svg\" height=\"24px\"viewBox=\"0 0 24 24\"\n",
              "       width=\"24px\">\n",
              "    <path d=\"M0 0h24v24H0V0z\" fill=\"none\"/>\n",
              "    <path d=\"M18.56 5.44l.94 2.06.94-2.06 2.06-.94-2.06-.94-.94-2.06-.94 2.06-2.06.94zm-11 1L8.5 8.5l.94-2.06 2.06-.94-2.06-.94L8.5 2.5l-.94 2.06-2.06.94zm10 10l.94 2.06.94-2.06 2.06-.94-2.06-.94-.94-2.06-.94 2.06-2.06.94z\"/><path d=\"M17.41 7.96l-1.37-1.37c-.4-.4-.92-.59-1.43-.59-.52 0-1.04.2-1.43.59L10.3 9.45l-7.72 7.72c-.78.78-.78 2.05 0 2.83L4 21.41c.39.39.9.59 1.41.59.51 0 1.02-.2 1.41-.59l7.78-7.78 2.81-2.81c.8-.78.8-2.07 0-2.86zM5.41 20L4 18.59l7.72-7.72 1.47 1.35L5.41 20z\"/>\n",
              "  </svg>\n",
              "      </button>\n",
              "      \n",
              "  <style>\n",
              "    .colab-df-container {\n",
              "      display:flex;\n",
              "      flex-wrap:wrap;\n",
              "      gap: 12px;\n",
              "    }\n",
              "\n",
              "    .colab-df-convert {\n",
              "      background-color: #E8F0FE;\n",
              "      border: none;\n",
              "      border-radius: 50%;\n",
              "      cursor: pointer;\n",
              "      display: none;\n",
              "      fill: #1967D2;\n",
              "      height: 32px;\n",
              "      padding: 0 0 0 0;\n",
              "      width: 32px;\n",
              "    }\n",
              "\n",
              "    .colab-df-convert:hover {\n",
              "      background-color: #E2EBFA;\n",
              "      box-shadow: 0px 1px 2px rgba(60, 64, 67, 0.3), 0px 1px 3px 1px rgba(60, 64, 67, 0.15);\n",
              "      fill: #174EA6;\n",
              "    }\n",
              "\n",
              "    [theme=dark] .colab-df-convert {\n",
              "      background-color: #3B4455;\n",
              "      fill: #D2E3FC;\n",
              "    }\n",
              "\n",
              "    [theme=dark] .colab-df-convert:hover {\n",
              "      background-color: #434B5C;\n",
              "      box-shadow: 0px 1px 3px 1px rgba(0, 0, 0, 0.15);\n",
              "      filter: drop-shadow(0px 1px 2px rgba(0, 0, 0, 0.3));\n",
              "      fill: #FFFFFF;\n",
              "    }\n",
              "  </style>\n",
              "\n",
              "      <script>\n",
              "        const buttonEl =\n",
              "          document.querySelector('#df-c5f5c39a-cd92-46ff-ae68-18fa22a64595 button.colab-df-convert');\n",
              "        buttonEl.style.display =\n",
              "          google.colab.kernel.accessAllowed ? 'block' : 'none';\n",
              "\n",
              "        async function convertToInteractive(key) {\n",
              "          const element = document.querySelector('#df-c5f5c39a-cd92-46ff-ae68-18fa22a64595');\n",
              "          const dataTable =\n",
              "            await google.colab.kernel.invokeFunction('convertToInteractive',\n",
              "                                                     [key], {});\n",
              "          if (!dataTable) return;\n",
              "\n",
              "          const docLinkHtml = 'Like what you see? Visit the ' +\n",
              "            '<a target=\"_blank\" href=https://colab.research.google.com/notebooks/data_table.ipynb>data table notebook</a>'\n",
              "            + ' to learn more about interactive tables.';\n",
              "          element.innerHTML = '';\n",
              "          dataTable['output_type'] = 'display_data';\n",
              "          await google.colab.output.renderOutput(dataTable, element);\n",
              "          const docLink = document.createElement('div');\n",
              "          docLink.innerHTML = docLinkHtml;\n",
              "          element.appendChild(docLink);\n",
              "        }\n",
              "      </script>\n",
              "    </div>\n",
              "  </div>\n",
              "  "
            ]
          },
          "metadata": {},
          "execution_count": 163
        }
      ]
    },
    {
      "cell_type": "code",
      "source": [
        "top_words"
      ],
      "metadata": {
        "id": "-3UGCHECpQso",
        "colab": {
          "base_uri": "https://localhost:8080/"
        },
        "outputId": "3396a3b7-3a0c-4c70-d180-b01d1ac69836"
      },
      "execution_count": null,
      "outputs": [
        {
          "output_type": "execute_result",
          "data": {
            "text/plain": [
              "[['capres',\n",
              "  'jd',\n",
              "  'rt',\n",
              "  'jk',\n",
              "  'deklarasi',\n",
              "  'hanura',\n",
              "  'yg',\n",
              "  'wiranto',\n",
              "  'followradiopepatah',\n",
              "  'dahlan'],\n",
              " ['yg', 'dan', 'saya', 'ada', 'jadi', 'prabowo', 'akan', 'capres', 'jk', 'di'],\n",
              " ['rt',\n",
              "  'bungkus',\n",
              "  'bung',\n",
              "  'gimana',\n",
              "  'cawapres',\n",
              "  'prabowo',\n",
              "  'capres',\n",
              "  'underdog',\n",
              "  'jokowi',\n",
              "  'charta'],\n",
              " ['rt',\n",
              "  'jokowi',\n",
              "  'jd',\n",
              "  'presiden',\n",
              "  'ya',\n",
              "  'jadi',\n",
              "  'emoh',\n",
              "  'ahok',\n",
              "  'capres',\n",
              "  'aja'],\n",
              " ['jadi',\n",
              "  'rt',\n",
              "  'prabowo',\n",
              "  'acak',\n",
              "  'presiden',\n",
              "  'jokowi',\n",
              "  'dukung',\n",
              "  'nya',\n",
              "  'capres',\n",
              "  'apa'],\n",
              " ['2014',\n",
              "  'prabowo',\n",
              "  'indonesia',\n",
              "  'jadi',\n",
              "  'mahfud',\n",
              "  'iskan',\n",
              "  'dahlan',\n",
              "  'akan',\n",
              "  'presiden',\n",
              "  'rt'],\n",
              " ['jadi', 'jd', 'yg', 'kalo', 'mau', 'sama', 'ya', 'aja', 'arb', 'om'],\n",
              " ['vihara',\n",
              "  'wonogiri',\n",
              "  'forum',\n",
              "  'petani',\n",
              "  'guruh',\n",
              "  'capres',\n",
              "  'rt',\n",
              "  'jokowi',\n",
              "  'islam',\n",
              "  'pdip'],\n",
              " ['hatta',\n",
              "  'menjadi',\n",
              "  'evaluasi',\n",
              "  'membuka',\n",
              "  'radjasa',\n",
              "  'pencapresan',\n",
              "  'umumnya',\n",
              "  'kemungkinan',\n",
              "  '2013pan',\n",
              "  '09'],\n",
              " ['prabowo',\n",
              "  'saya',\n",
              "  'presiden',\n",
              "  'dan',\n",
              "  'harus',\n",
              "  'oleh',\n",
              "  'pilih',\n",
              "  'adalah',\n",
              "  '2014',\n",
              "  'dahlan']]"
            ]
          },
          "metadata": {},
          "execution_count": 164
        }
      ]
    },
    {
      "cell_type": "markdown",
      "source": [
        "# **2. Parameter Menurut The_Performance_of_BERT_as_Data_Representation_of_.pdf**"
      ],
      "metadata": {
        "id": "GHMbsg7lMZ6h"
      }
    },
    {
      "cell_type": "markdown",
      "source": [
        "svd = TruncatedSVD(n_components = 5)\n",
        "\n",
        "m =1.1\n",
        "\n",
        "n_topics = [2,3,4,10]\n",
        "\n",
        "initkm = KMeans(n_clusters=n_topics, n_init=10, max_iter=300, tol=0.0001).fit(data)\n",
        "\n",
        "cntr, u = fcmeans(data.T, n_topics, m, error=0.0001, maxiter=200, init=initkm.cluster_centers_.T)"
      ],
      "metadata": {
        "id": "7g1UhiqdMcEj"
      }
    },
    {
      "cell_type": "markdown",
      "source": [
        "## n_topics=2 (model-5)"
      ],
      "metadata": {
        "id": "zqcqT3fRpnwU"
      }
    },
    {
      "cell_type": "code",
      "source": [
        "## Model EFCM - Reduksi Dimensi\n",
        "from sklearn.decomposition import TruncatedSVD\n",
        "\n",
        "svd = TruncatedSVD(n_components = 5)\n",
        "data = svd.fit_transform(bert_emb)\n",
        "\n",
        "print(data.shape)"
      ],
      "metadata": {
        "id": "IQFNhMoNzyOK",
        "colab": {
          "base_uri": "https://localhost:8080/"
        },
        "outputId": "059d6218-7184-4e74-97df-001f43b9447d"
      },
      "execution_count": null,
      "outputs": [
        {
          "output_type": "stream",
          "name": "stdout",
          "text": [
            "(1885, 5)\n"
          ]
        }
      ]
    },
    {
      "cell_type": "code",
      "source": [
        "## Model EFCM - Clustering\n",
        "from sklearn.cluster import KMeans\n",
        "import sys\n",
        "sys.path.insert(0, \"/content/drive/MyDrive/Deep Learning/FCMeans\")\n",
        "from fcmeans import fcmeans\n",
        "\n",
        "m =1.1\n",
        "n_topics = 2\n",
        "initkm = KMeans(n_clusters=n_topics, n_init=10, max_iter=300, tol=0.0001).fit(data)\n",
        "cntr, u = fcmeans(data.T, n_topics, m, error=0.0001, maxiter=200, init=initkm.cluster_centers_.T)\n",
        "cluster_membership = np.argmax(u, axis=0)\n",
        "\n",
        "print(cluster_membership.shape)"
      ],
      "metadata": {
        "id": "m-6zabiySxiP",
        "colab": {
          "base_uri": "https://localhost:8080/"
        },
        "outputId": "353d7897-8f94-4617-ee12-6a7fef3fb6bb"
      },
      "execution_count": null,
      "outputs": [
        {
          "output_type": "stream",
          "name": "stdout",
          "text": [
            "(1885,)\n"
          ]
        }
      ]
    },
    {
      "cell_type": "code",
      "source": [
        "### Topic Interpretation\n",
        "import numpy as np\n",
        "from sklearn.feature_extraction.text import CountVectorizer\n",
        "\n",
        "#### Class Based TFIDF (C-TFIDF) Functions\n",
        "def c_tf_idf(documents, m, ngram_range=(1, 1)):\n",
        "    count = CountVectorizer(ngram_range=ngram_range).fit(documents)\n",
        "    t = count.transform(documents).toarray()\n",
        "    w = t.sum(axis=1)\n",
        "    tf = np.divide(t.T, w)\n",
        "    sum_t = t.sum(axis=0)\n",
        "    idf = np.log(np.divide(m, sum_t)).reshape(-1, 1)\n",
        "    tf_idf = np.multiply(tf, idf)\n",
        "\n",
        "    return tf_idf, count\n",
        "\n",
        "def extract_top_words_per_topic(tf_idf, count, docs_per_topic, n = 10):\n",
        "    words = count.get_feature_names_out()\n",
        "    labels = list(docs_per_topic.Topic)\n",
        "    tf_idf_transposed = tf_idf.T\n",
        "    indices = tf_idf_transposed.argsort()[:, -n:]\n",
        "    top_n_words = {label: [(words[j], tf_idf_transposed[i][j]) for j in indices[i]][::-1] for i, label in enumerate(labels)}\n",
        "    top_words = []\n",
        "    for i in range(len(labels)):\n",
        "      top_words.append([words[j] for j in indices [i]][::-1])\n",
        "    return top_words\n",
        "\n",
        "#### Topic Representation\n",
        "docs = pd.DataFrame(list(dataset[\"Isi_Tweet\"]), columns=[\"Doc\"])\n",
        "docs['Topic'] = cluster_membership\n",
        "docs['Doc_ID'] = range(len(docs))\n",
        "docs_per_topic = docs.dropna(subset=['Doc']).groupby(['Topic'], as_index = False).agg({'Doc': ' '.join})\n",
        "\n",
        "tf_idf, count = c_tf_idf(docs_per_topic.Doc.values, m=len(docs))\n",
        "top_words = extract_top_words_per_topic(tf_idf, count, docs_per_topic, 10)\n",
        "print(top_words)"
      ],
      "metadata": {
        "id": "dSZSvL_KTrOS",
        "colab": {
          "base_uri": "https://localhost:8080/"
        },
        "outputId": "01bea5f4-7e12-4661-93af-b092ebf05a1c"
      },
      "execution_count": null,
      "outputs": [
        {
          "output_type": "stream",
          "name": "stdout",
          "text": [
            "[['yg', 'dan', 'jadi', 'capres', 'hatta', 'rt', 'jd', 'presiden', 'menjadi', 'jokowi'], ['rt', 'prabowo', 'jadi', 'capres', 'presiden', 'jokowi', 'dahlan', '2014', 'cawapres', 'indonesia']]\n"
          ]
        }
      ]
    },
    {
      "cell_type": "code",
      "source": [
        "### Topic Coherence\n",
        "import gensim\n",
        "from itertools import combinations\n",
        "import warnings\n",
        "warnings.filterwarnings(\"ignore\", category=FutureWarning)\n",
        "warnings.filterwarnings(\"ignore\", category=DeprecationWarning)\n",
        "\n",
        "### Memuat Model Word2Vec\n",
        "w2v_model = gensim.models.Word2Vec.load(\"/content/drive/MyDrive/Deep Learning/Data/word2vec/idwiki-berita/w2v-model.bin\")\n",
        "\n",
        "### Fungsi Menghitung Coherence\n",
        "def calculate_coherence( w2v_model, term_rankings ):\n",
        "    overall_coherence = 0.0\n",
        "    for topic_index in range(len(term_rankings)):\n",
        "        # check each pair of terms\n",
        "        pair_scores = []\n",
        "        for pair in combinations( term_rankings[topic_index], 2 ):\n",
        "            if pair[0] in w2v_model.wv.index_to_key:\n",
        "                if pair[1] in w2v_model.wv.index_to_key:\n",
        "                    pair_scores.append( abs(w2v_model.wv.similarity(pair[0], pair[1])) )\n",
        "                #else:\n",
        "                    #pair_scores.append(0)\n",
        "            #else:\n",
        "                #pair_scores.append(0)\n",
        "        \n",
        "        # get the mean for all pairs in this topic\n",
        "        if pair_scores:\n",
        "            topic_score = sum(pair_scores) / len(pair_scores)\n",
        "            overall_coherence += topic_score\n",
        "    \n",
        "    # get the mean score across all topics\n",
        "    return overall_coherence / len(term_rankings)\n",
        "\n",
        "\n",
        "### Menentukan Nilai Coherence dari Topik\n",
        "print(calculate_coherence(w2v_model, top_words))\n",
        "actual_coherences.append(calculate_coherence(w2v_model, top_words))"
      ],
      "metadata": {
        "id": "2MV0sKJuUTxI",
        "colab": {
          "base_uri": "https://localhost:8080/"
        },
        "outputId": "9fd385a2-8d9e-49a0-ebfb-4aa09aeb9f35"
      },
      "execution_count": null,
      "outputs": [
        {
          "output_type": "stream",
          "name": "stdout",
          "text": [
            "0.24832308248040225\n"
          ]
        }
      ]
    },
    {
      "cell_type": "code",
      "source": [
        "## Parameter Tuning\n",
        "### Jumlah Topik Optimal\n",
        "import pandas as pd\n",
        "\n",
        "num_topics = []\n",
        "coherences = []\n",
        "for n_topics in range(1,11,1):\n",
        "    print(\"The number of topics is \" + str(n_topics))\n",
        "    \n",
        "    coherence_sim = []\n",
        "    for i in range(1,3):\n",
        "        print(\"The simulation \" + str(i))\n",
        "               \n",
        "        #topic detection\n",
        "        m = 1.1\n",
        "        initkm = KMeans(n_clusters=n_topics, n_init=10, max_iter=300, tol=0.0001).fit(data)\n",
        "        cntr, u = fcmeans(data.T, n_topics, m, error=0.0001, maxiter=200, init=initkm.cluster_centers_.T)\n",
        "        cluster_membership = np.argmax(u, axis=0)\n",
        "        \n",
        "        docs = pd.DataFrame(list(dataset[\"Isi_Tweet\"]), columns=[\"Doc\"])\n",
        "        docs['Topic'] = cluster_membership\n",
        "        docs['Doc_ID'] = range(len(docs))\n",
        "        docs_per_topic = docs.dropna(subset=['Doc']).groupby(['Topic'], as_index = False).agg({'Doc': ' '.join})\n",
        "        \n",
        "        tf_idf, count = c_tf_idf(docs_per_topic.Doc.values, m=len(docs))\n",
        "        top_words = extract_top_words_per_topic(tf_idf, count, docs_per_topic, 10)\n",
        "        \n",
        "        coherence_sim.append(calculate_coherence(w2v_model, top_words))\n",
        "        print('Coherence value : ',coherence_sim[i-1])\n",
        "        \n",
        "    num_topics.append(n_topics)\n",
        "    coherences.append(coherence_sim)\n",
        "\n",
        "### Visualisasi\n",
        "df = pd.DataFrame.from_records(coherences).T\n",
        "df.columns = num_topics\n",
        "boxplot = df.boxplot(grid=False)\n",
        "boxplot.set_xlabel(\"Number of Topics\")\n",
        "boxplot.set_ylabel(\"Coherence\")"
      ],
      "metadata": {
        "id": "u9TpgNnBUYZP",
        "colab": {
          "base_uri": "https://localhost:8080/",
          "height": 1164
        },
        "outputId": "985ddddc-1a6d-4108-edeb-5dbf1fa97e26"
      },
      "execution_count": null,
      "outputs": [
        {
          "output_type": "stream",
          "name": "stdout",
          "text": [
            "The number of topics is 1\n",
            "The simulation 1\n",
            "Coherence value :  0.21799575076216743\n",
            "The simulation 2\n",
            "Coherence value :  0.21799575076216743\n",
            "The number of topics is 2\n",
            "The simulation 1\n",
            "Coherence value :  0.24832308248040225\n",
            "The simulation 2\n",
            "Coherence value :  0.24832308248040225\n",
            "The number of topics is 3\n",
            "The simulation 1\n",
            "Coherence value :  0.27501854046233115\n",
            "The simulation 2\n",
            "Coherence value :  0.27501854046233115\n",
            "The number of topics is 4\n",
            "The simulation 1\n",
            "Coherence value :  0.24687365373773945\n",
            "The simulation 2\n",
            "Coherence value :  0.24687365373773945\n",
            "The number of topics is 5\n",
            "The simulation 1\n",
            "Coherence value :  0.2621687633118459\n",
            "The simulation 2\n",
            "Coherence value :  0.26216876331184585\n",
            "The number of topics is 6\n",
            "The simulation 1\n",
            "Coherence value :  0.25215155082661167\n",
            "The simulation 2\n",
            "Coherence value :  0.25215155082661167\n",
            "The number of topics is 7\n",
            "The simulation 1\n",
            "Coherence value :  0.2536599823043527\n",
            "The simulation 2\n",
            "Coherence value :  0.25365998230435277\n",
            "The number of topics is 8\n",
            "The simulation 1\n",
            "Coherence value :  0.25193199775004316\n",
            "The simulation 2\n",
            "Coherence value :  0.25193199775004316\n",
            "The number of topics is 9\n",
            "The simulation 1\n",
            "Coherence value :  0.24631746682277644\n",
            "The simulation 2\n",
            "Coherence value :  0.2423752360762059\n",
            "The number of topics is 10\n",
            "The simulation 1\n",
            "Coherence value :  0.24237391818403484\n",
            "The simulation 2\n",
            "Coherence value :  0.24237391818403484\n"
          ]
        },
        {
          "output_type": "execute_result",
          "data": {
            "text/plain": [
              "Text(0, 0.5, 'Coherence')"
            ]
          },
          "metadata": {},
          "execution_count": 169
        },
        {
          "output_type": "display_data",
          "data": {
            "text/plain": [
              "<Figure size 432x288 with 1 Axes>"
            ],
            "image/png": "[encoded data removed]"
          },
          "metadata": {
            "needs_background": "light"
          }
        }
      ]
    },
    {
      "cell_type": "code",
      "source": [
        "print('Nilai Coherence Maksimal=',np.max(coherences))\n",
        "max_coherences.append(np.max(coherences))\n",
        "print('Nilai Coherence Minimal=',np.min(coherences))\n",
        "min_coherences.append(np.min(coherences))\n",
        "print('Nilai Rata-rata Coherence=',np.mean(coherences))\n",
        "mean_coherences.append(np.mean(coherences))\n",
        "print('Nilai Median Coherence=',np.median(coherences))\n",
        "med_coherences.append(np.median(coherences))"
      ],
      "metadata": {
        "id": "wfcGc-WfsNrX",
        "colab": {
          "base_uri": "https://localhost:8080/"
        },
        "outputId": "34f3eebe-2b03-47c3-b467-e189b6c49ef0"
      },
      "execution_count": null,
      "outputs": [
        {
          "output_type": "stream",
          "name": "stdout",
          "text": [
            "Nilai Coherence Maksimal= 0.27501854046233115\n",
            "Nilai Coherence Minimal= 0.21799575076216743\n",
            "Nilai Rata-rata Coherence= 0.24948435912690198\n",
            "Nilai Median Coherence= 0.2501275401152227\n"
          ]
        }
      ]
    },
    {
      "cell_type": "code",
      "source": [
        "coherences_new=[]\n",
        "num_topics_new=[]\n",
        "for i in range(len(num_topics)):\n",
        "    coherences_new.append(coherences[i][0])\n",
        "    coherences_new.append(coherences[i][1])\n",
        "    num_topics_new.append(i+1)\n",
        "    num_topics_new.append(i+1)\n",
        "print('Parameter jumlah topik untuk Coherence Maksimal:',num_topics_new[coherences_new.index(np.max(coherences_new))])"
      ],
      "metadata": {
        "id": "xO0K8pEdHPRU",
        "colab": {
          "base_uri": "https://localhost:8080/"
        },
        "outputId": "de48cfe9-ca1f-4bcc-99c6-09fe136bfb38"
      },
      "execution_count": null,
      "outputs": [
        {
          "output_type": "stream",
          "name": "stdout",
          "text": [
            "Parameter jumlah topik untuk Coherence Maksimal: 3\n"
          ]
        }
      ]
    },
    {
      "cell_type": "code",
      "source": [
        "df"
      ],
      "metadata": {
        "id": "EDOTqXl0U7Oz",
        "colab": {
          "base_uri": "https://localhost:8080/",
          "height": 112
        },
        "outputId": "91b7b87b-6c0d-4602-a8bc-82ebe913d6c3"
      },
      "execution_count": null,
      "outputs": [
        {
          "output_type": "execute_result",
          "data": {
            "text/plain": [
              "         1         2         3         4         5         6        7   \\\n",
              "0  0.217996  0.248323  0.275019  0.246874  0.262169  0.252152  0.25366   \n",
              "1  0.217996  0.248323  0.275019  0.246874  0.262169  0.252152  0.25366   \n",
              "\n",
              "         8         9         10  \n",
              "0  0.251932  0.246317  0.242374  \n",
              "1  0.251932  0.242375  0.242374  "
            ],
            "text/html": [
              "\n",
              "  <div id=\"df-2923d3f0-7134-4ab0-9bd2-675aeb076281\">\n",
              "    <div class=\"colab-df-container\">\n",
              "      <div>\n",
              "<style scoped>\n",
              "    .dataframe tbody tr th:only-of-type {\n",
              "        vertical-align: middle;\n",
              "    }\n",
              "\n",
              "    .dataframe tbody tr th {\n",
              "        vertical-align: top;\n",
              "    }\n",
              "\n",
              "    .dataframe thead th {\n",
              "        text-align: right;\n",
              "    }\n",
              "</style>\n",
              "<table border=\"1\" class=\"dataframe\">\n",
              "  <thead>\n",
              "    <tr style=\"text-align: right;\">\n",
              "      <th></th>\n",
              "      <th>1</th>\n",
              "      <th>2</th>\n",
              "      <th>3</th>\n",
              "      <th>4</th>\n",
              "      <th>5</th>\n",
              "      <th>6</th>\n",
              "      <th>7</th>\n",
              "      <th>8</th>\n",
              "      <th>9</th>\n",
              "      <th>10</th>\n",
              "    </tr>\n",
              "  </thead>\n",
              "  <tbody>\n",
              "    <tr>\n",
              "      <th>0</th>\n",
              "      <td>0.217996</td>\n",
              "      <td>0.248323</td>\n",
              "      <td>0.275019</td>\n",
              "      <td>0.246874</td>\n",
              "      <td>0.262169</td>\n",
              "      <td>0.252152</td>\n",
              "      <td>0.25366</td>\n",
              "      <td>0.251932</td>\n",
              "      <td>0.246317</td>\n",
              "      <td>0.242374</td>\n",
              "    </tr>\n",
              "    <tr>\n",
              "      <th>1</th>\n",
              "      <td>0.217996</td>\n",
              "      <td>0.248323</td>\n",
              "      <td>0.275019</td>\n",
              "      <td>0.246874</td>\n",
              "      <td>0.262169</td>\n",
              "      <td>0.252152</td>\n",
              "      <td>0.25366</td>\n",
              "      <td>0.251932</td>\n",
              "      <td>0.242375</td>\n",
              "      <td>0.242374</td>\n",
              "    </tr>\n",
              "  </tbody>\n",
              "</table>\n",
              "</div>\n",
              "      <button class=\"colab-df-convert\" onclick=\"convertToInteractive('df-2923d3f0-7134-4ab0-9bd2-675aeb076281')\"\n",
              "              title=\"Convert this dataframe to an interactive table.\"\n",
              "              style=\"display:none;\">\n",
              "        \n",
              "  <svg xmlns=\"http://www.w3.org/2000/svg\" height=\"24px\"viewBox=\"0 0 24 24\"\n",
              "       width=\"24px\">\n",
              "    <path d=\"M0 0h24v24H0V0z\" fill=\"none\"/>\n",
              "    <path d=\"M18.56 5.44l.94 2.06.94-2.06 2.06-.94-2.06-.94-.94-2.06-.94 2.06-2.06.94zm-11 1L8.5 8.5l.94-2.06 2.06-.94-2.06-.94L8.5 2.5l-.94 2.06-2.06.94zm10 10l.94 2.06.94-2.06 2.06-.94-2.06-.94-.94-2.06-.94 2.06-2.06.94z\"/><path d=\"M17.41 7.96l-1.37-1.37c-.4-.4-.92-.59-1.43-.59-.52 0-1.04.2-1.43.59L10.3 9.45l-7.72 7.72c-.78.78-.78 2.05 0 2.83L4 21.41c.39.39.9.59 1.41.59.51 0 1.02-.2 1.41-.59l7.78-7.78 2.81-2.81c.8-.78.8-2.07 0-2.86zM5.41 20L4 18.59l7.72-7.72 1.47 1.35L5.41 20z\"/>\n",
              "  </svg>\n",
              "      </button>\n",
              "      \n",
              "  <style>\n",
              "    .colab-df-container {\n",
              "      display:flex;\n",
              "      flex-wrap:wrap;\n",
              "      gap: 12px;\n",
              "    }\n",
              "\n",
              "    .colab-df-convert {\n",
              "      background-color: #E8F0FE;\n",
              "      border: none;\n",
              "      border-radius: 50%;\n",
              "      cursor: pointer;\n",
              "      display: none;\n",
              "      fill: #1967D2;\n",
              "      height: 32px;\n",
              "      padding: 0 0 0 0;\n",
              "      width: 32px;\n",
              "    }\n",
              "\n",
              "    .colab-df-convert:hover {\n",
              "      background-color: #E2EBFA;\n",
              "      box-shadow: 0px 1px 2px rgba(60, 64, 67, 0.3), 0px 1px 3px 1px rgba(60, 64, 67, 0.15);\n",
              "      fill: #174EA6;\n",
              "    }\n",
              "\n",
              "    [theme=dark] .colab-df-convert {\n",
              "      background-color: #3B4455;\n",
              "      fill: #D2E3FC;\n",
              "    }\n",
              "\n",
              "    [theme=dark] .colab-df-convert:hover {\n",
              "      background-color: #434B5C;\n",
              "      box-shadow: 0px 1px 3px 1px rgba(0, 0, 0, 0.15);\n",
              "      filter: drop-shadow(0px 1px 2px rgba(0, 0, 0, 0.3));\n",
              "      fill: #FFFFFF;\n",
              "    }\n",
              "  </style>\n",
              "\n",
              "      <script>\n",
              "        const buttonEl =\n",
              "          document.querySelector('#df-2923d3f0-7134-4ab0-9bd2-675aeb076281 button.colab-df-convert');\n",
              "        buttonEl.style.display =\n",
              "          google.colab.kernel.accessAllowed ? 'block' : 'none';\n",
              "\n",
              "        async function convertToInteractive(key) {\n",
              "          const element = document.querySelector('#df-2923d3f0-7134-4ab0-9bd2-675aeb076281');\n",
              "          const dataTable =\n",
              "            await google.colab.kernel.invokeFunction('convertToInteractive',\n",
              "                                                     [key], {});\n",
              "          if (!dataTable) return;\n",
              "\n",
              "          const docLinkHtml = 'Like what you see? Visit the ' +\n",
              "            '<a target=\"_blank\" href=https://colab.research.google.com/notebooks/data_table.ipynb>data table notebook</a>'\n",
              "            + ' to learn more about interactive tables.';\n",
              "          element.innerHTML = '';\n",
              "          dataTable['output_type'] = 'display_data';\n",
              "          await google.colab.output.renderOutput(dataTable, element);\n",
              "          const docLink = document.createElement('div');\n",
              "          docLink.innerHTML = docLinkHtml;\n",
              "          element.appendChild(docLink);\n",
              "        }\n",
              "      </script>\n",
              "    </div>\n",
              "  </div>\n",
              "  "
            ]
          },
          "metadata": {},
          "execution_count": 172
        }
      ]
    },
    {
      "cell_type": "code",
      "source": [
        "top_words"
      ],
      "metadata": {
        "id": "jA6Uz7YlU8AJ",
        "colab": {
          "base_uri": "https://localhost:8080/"
        },
        "outputId": "4b06425a-6110-4822-d9f5-4d9b2109b453"
      },
      "execution_count": null,
      "outputs": [
        {
          "output_type": "execute_result",
          "data": {
            "text/plain": [
              "[['acak',\n",
              "  'jadi',\n",
              "  'rt',\n",
              "  'guruh',\n",
              "  'kalo',\n",
              "  'apa',\n",
              "  'prabowo',\n",
              "  'dukung',\n",
              "  'jokowi',\n",
              "  'di'],\n",
              " ['hatta',\n",
              "  'menjadi',\n",
              "  'pencapresan',\n",
              "  'radjasa',\n",
              "  'evaluasi',\n",
              "  'membuka',\n",
              "  'umumnya',\n",
              "  'kemungkinan',\n",
              "  '2013pan',\n",
              "  '42'],\n",
              " ['yg',\n",
              "  'dan',\n",
              "  'saya',\n",
              "  'akan',\n",
              "  'ada',\n",
              "  'prabowo',\n",
              "  'bisa',\n",
              "  'jk',\n",
              "  'capres',\n",
              "  'indonesia'],\n",
              " ['jd',\n",
              "  'rt',\n",
              "  'jokowi',\n",
              "  'presiden',\n",
              "  'ya',\n",
              "  'jadi',\n",
              "  'emoh',\n",
              "  'aja',\n",
              "  'capres',\n",
              "  'arb'],\n",
              " ['islam',\n",
              "  'wonogiri',\n",
              "  'vihara',\n",
              "  'forum',\n",
              "  'capres',\n",
              "  'petani',\n",
              "  'jokowi',\n",
              "  'dukung',\n",
              "  'dahlan',\n",
              "  'galang'],\n",
              " ['jadi', 'kalo', 'jd', 'yg', 'mau', 'sama', 'ya', 'aja', 'arb', 'om'],\n",
              " ['2014',\n",
              "  'prabowo',\n",
              "  'indonesia',\n",
              "  'presiden',\n",
              "  'adalah',\n",
              "  'dahlan',\n",
              "  'jadi',\n",
              "  'rt',\n",
              "  'mahfud',\n",
              "  'iskan'],\n",
              " ['rt',\n",
              "  'prabowo',\n",
              "  'cawapres',\n",
              "  'bung',\n",
              "  'bungkus',\n",
              "  'capres',\n",
              "  'gimana',\n",
              "  'underdog',\n",
              "  'politika',\n",
              "  'charta'],\n",
              " ['jadi',\n",
              "  'rt',\n",
              "  'prabowo',\n",
              "  'presiden',\n",
              "  'jokowi',\n",
              "  'capres',\n",
              "  'arb',\n",
              "  'koruptor',\n",
              "  'ahok',\n",
              "  'dahlan'],\n",
              " ['capres',\n",
              "  'deklarasi',\n",
              "  'jk',\n",
              "  'rt',\n",
              "  'hanura',\n",
              "  'tdk',\n",
              "  'jd',\n",
              "  'followradiopepatah',\n",
              "  'wiranto',\n",
              "  'yg']]"
            ]
          },
          "metadata": {},
          "execution_count": 173
        }
      ]
    },
    {
      "cell_type": "markdown",
      "source": [
        "## n_topics=3 (model-6)"
      ],
      "metadata": {
        "id": "F21nZJi9qNft"
      }
    },
    {
      "cell_type": "code",
      "source": [
        "## Model EFCM - Reduksi Dimensi\n",
        "from sklearn.decomposition import TruncatedSVD\n",
        "\n",
        "svd = TruncatedSVD(n_components = 5)\n",
        "data = svd.fit_transform(bert_emb)\n",
        "\n",
        "print(data.shape)"
      ],
      "metadata": {
        "id": "D9g-xfCaqNf6",
        "colab": {
          "base_uri": "https://localhost:8080/"
        },
        "outputId": "76e3d1b9-7721-48bc-8573-0fa91bae372c"
      },
      "execution_count": null,
      "outputs": [
        {
          "output_type": "stream",
          "name": "stdout",
          "text": [
            "(1885, 5)\n"
          ]
        }
      ]
    },
    {
      "cell_type": "code",
      "source": [
        "## Model EFCM - Clustering\n",
        "from sklearn.cluster import KMeans\n",
        "import sys\n",
        "sys.path.insert(0, \"/content/drive/MyDrive/Deep Learning/FCMeans\")\n",
        "from fcmeans import fcmeans\n",
        "\n",
        "m =1.1\n",
        "n_topics = 3\n",
        "initkm = KMeans(n_clusters=n_topics, n_init=10, max_iter=300, tol=0.0001).fit(data)\n",
        "cntr, u = fcmeans(data.T, n_topics, m, error=0.0001, maxiter=200, init=initkm.cluster_centers_.T)\n",
        "cluster_membership = np.argmax(u, axis=0)\n",
        "\n",
        "print(cluster_membership.shape)"
      ],
      "metadata": {
        "id": "mpCJTiLgqNf7",
        "colab": {
          "base_uri": "https://localhost:8080/"
        },
        "outputId": "94f1e029-957b-4a2f-ac8c-999892bb83e8"
      },
      "execution_count": null,
      "outputs": [
        {
          "output_type": "stream",
          "name": "stdout",
          "text": [
            "(1885,)\n"
          ]
        }
      ]
    },
    {
      "cell_type": "code",
      "source": [
        "### Topic Interpretation\n",
        "import numpy as np\n",
        "from sklearn.feature_extraction.text import CountVectorizer\n",
        "\n",
        "#### Class Based TFIDF (C-TFIDF) Functions\n",
        "def c_tf_idf(documents, m, ngram_range=(1, 1)):\n",
        "    count = CountVectorizer(ngram_range=ngram_range).fit(documents)\n",
        "    t = count.transform(documents).toarray()\n",
        "    w = t.sum(axis=1)\n",
        "    tf = np.divide(t.T, w)\n",
        "    sum_t = t.sum(axis=0)\n",
        "    idf = np.log(np.divide(m, sum_t)).reshape(-1, 1)\n",
        "    tf_idf = np.multiply(tf, idf)\n",
        "\n",
        "    return tf_idf, count\n",
        "\n",
        "def extract_top_words_per_topic(tf_idf, count, docs_per_topic, n = 10):\n",
        "    words = count.get_feature_names_out()\n",
        "    labels = list(docs_per_topic.Topic)\n",
        "    tf_idf_transposed = tf_idf.T\n",
        "    indices = tf_idf_transposed.argsort()[:, -n:]\n",
        "    top_n_words = {label: [(words[j], tf_idf_transposed[i][j]) for j in indices[i]][::-1] for i, label in enumerate(labels)}\n",
        "    top_words = []\n",
        "    for i in range(len(labels)):\n",
        "      top_words.append([words[j] for j in indices [i]][::-1])\n",
        "    return top_words\n",
        "\n",
        "#### Topic Representation\n",
        "docs = pd.DataFrame(list(dataset[\"Isi_Tweet\"]), columns=[\"Doc\"])\n",
        "docs['Topic'] = cluster_membership\n",
        "docs['Doc_ID'] = range(len(docs))\n",
        "docs_per_topic = docs.dropna(subset=['Doc']).groupby(['Topic'], as_index = False).agg({'Doc': ' '.join})\n",
        "\n",
        "tf_idf, count = c_tf_idf(docs_per_topic.Doc.values, m=len(docs))\n",
        "top_words = extract_top_words_per_topic(tf_idf, count, docs_per_topic, 10)\n",
        "print(top_words)"
      ],
      "metadata": {
        "id": "tJ_ylYavqNf8",
        "colab": {
          "base_uri": "https://localhost:8080/"
        },
        "outputId": "d61e13c3-a4c9-47ec-b7e9-249cb2d94877"
      },
      "execution_count": null,
      "outputs": [
        {
          "output_type": "stream",
          "name": "stdout",
          "text": [
            "[['rt', 'prabowo', 'jadi', 'capres', 'jokowi', 'presiden', 'dukung', 'cawapres', 'dahlan', 'arb'], ['jadi', 'jd', 'yg', 'rt', 'jokowi', 'presiden', 'capres', 'arb', 'mau', 'di'], ['menjadi', 'hatta', 'dan', 'sebagai', 'mantan', 'tidak', 'tokoh', 'jusuf', 'wakil', 'kalla']]\n"
          ]
        }
      ]
    },
    {
      "cell_type": "code",
      "source": [
        "### Topic Coherence\n",
        "import gensim\n",
        "from itertools import combinations\n",
        "import warnings\n",
        "warnings.filterwarnings(\"ignore\", category=FutureWarning)\n",
        "warnings.filterwarnings(\"ignore\", category=DeprecationWarning)\n",
        "\n",
        "### Memuat Model Word2Vec\n",
        "w2v_model = gensim.models.Word2Vec.load(\"/content/drive/MyDrive/Deep Learning/Data/word2vec/idwiki-berita/w2v-model.bin\")\n",
        "\n",
        "### Fungsi Menghitung Coherence\n",
        "def calculate_coherence( w2v_model, term_rankings ):\n",
        "    overall_coherence = 0.0\n",
        "    for topic_index in range(len(term_rankings)):\n",
        "        # check each pair of terms\n",
        "        pair_scores = []\n",
        "        for pair in combinations( term_rankings[topic_index], 2 ):\n",
        "            if pair[0] in w2v_model.wv.index_to_key:\n",
        "                if pair[1] in w2v_model.wv.index_to_key:\n",
        "                    pair_scores.append( abs(w2v_model.wv.similarity(pair[0], pair[1])) )\n",
        "                #else:\n",
        "                    #pair_scores.append(0)\n",
        "            #else:\n",
        "                #pair_scores.append(0)\n",
        "        \n",
        "        # get the mean for all pairs in this topic\n",
        "        if pair_scores:\n",
        "            topic_score = sum(pair_scores) / len(pair_scores)\n",
        "            overall_coherence += topic_score\n",
        "    \n",
        "    # get the mean score across all topics\n",
        "    return overall_coherence / len(term_rankings)\n",
        "\n",
        "\n",
        "### Menentukan Nilai Coherence dari Topik\n",
        "print(calculate_coherence(w2v_model, top_words))\n",
        "actual_coherences.append(calculate_coherence(w2v_model, top_words))"
      ],
      "metadata": {
        "id": "Cdi8VFoOqNf8",
        "colab": {
          "base_uri": "https://localhost:8080/"
        },
        "outputId": "87d84d31-6c05-47fe-9d8a-18c38da5e198"
      },
      "execution_count": null,
      "outputs": [
        {
          "output_type": "stream",
          "name": "stdout",
          "text": [
            "0.27501854046233115\n"
          ]
        }
      ]
    },
    {
      "cell_type": "code",
      "source": [
        "## Parameter Tuning\n",
        "### Jumlah Topik Optimal\n",
        "import pandas as pd\n",
        "\n",
        "num_topics = []\n",
        "coherences = []\n",
        "for n_topics in range(1,11,1):\n",
        "    print(\"The number of topics is \" + str(n_topics))\n",
        "    \n",
        "    coherence_sim = []\n",
        "    for i in range(1,3):\n",
        "        print(\"The simulation \" + str(i))\n",
        "               \n",
        "        #topic detection\n",
        "        m = 1.1\n",
        "        initkm = KMeans(n_clusters=n_topics, n_init=10, max_iter=300, tol=0.0001).fit(data)\n",
        "        cntr, u = fcmeans(data.T, n_topics, m, error=0.0001, maxiter=200, init=initkm.cluster_centers_.T)\n",
        "        cluster_membership = np.argmax(u, axis=0)\n",
        "        \n",
        "        docs = pd.DataFrame(list(dataset[\"Isi_Tweet\"]), columns=[\"Doc\"])\n",
        "        docs['Topic'] = cluster_membership\n",
        "        docs['Doc_ID'] = range(len(docs))\n",
        "        docs_per_topic = docs.dropna(subset=['Doc']).groupby(['Topic'], as_index = False).agg({'Doc': ' '.join})\n",
        "        \n",
        "        tf_idf, count = c_tf_idf(docs_per_topic.Doc.values, m=len(docs))\n",
        "        top_words = extract_top_words_per_topic(tf_idf, count, docs_per_topic, 10)\n",
        "        \n",
        "        coherence_sim.append(calculate_coherence(w2v_model, top_words))\n",
        "        print('Coherence value : ',coherence_sim[i-1])\n",
        "        \n",
        "    num_topics.append(n_topics)\n",
        "    coherences.append(coherence_sim)\n",
        "\n",
        "### Visualisasi\n",
        "df = pd.DataFrame.from_records(coherences).T\n",
        "df.columns = num_topics\n",
        "boxplot = df.boxplot(grid=False)\n",
        "boxplot.set_xlabel(\"Number of Topics\")\n",
        "boxplot.set_ylabel(\"Coherence\")"
      ],
      "metadata": {
        "id": "Aqt3W2fuqNf8",
        "colab": {
          "base_uri": "https://localhost:8080/",
          "height": 1164
        },
        "outputId": "a8eae295-ebd3-4687-bbf8-1d0295d42a7a"
      },
      "execution_count": null,
      "outputs": [
        {
          "output_type": "stream",
          "name": "stdout",
          "text": [
            "The number of topics is 1\n",
            "The simulation 1\n",
            "Coherence value :  0.21799575076216743\n",
            "The simulation 2\n",
            "Coherence value :  0.21799575076216743\n",
            "The number of topics is 2\n",
            "The simulation 1\n",
            "Coherence value :  0.24832308248040225\n",
            "The simulation 2\n",
            "Coherence value :  0.24832308248040225\n",
            "The number of topics is 3\n",
            "The simulation 1\n",
            "Coherence value :  0.27501854046233115\n",
            "The simulation 2\n",
            "Coherence value :  0.27501854046233115\n",
            "The number of topics is 4\n",
            "The simulation 1\n",
            "Coherence value :  0.24687365373773945\n",
            "The simulation 2\n",
            "Coherence value :  0.24687365373773945\n",
            "The number of topics is 5\n",
            "The simulation 1\n",
            "Coherence value :  0.2621687633118459\n",
            "The simulation 2\n",
            "Coherence value :  0.26216876331184596\n",
            "The number of topics is 6\n",
            "The simulation 1\n",
            "Coherence value :  0.25215155082661167\n",
            "The simulation 2\n",
            "Coherence value :  0.25215155082661167\n",
            "The number of topics is 7\n",
            "The simulation 1\n",
            "Coherence value :  0.253514235774203\n",
            "The simulation 2\n",
            "Coherence value :  0.25365998230435277\n",
            "The number of topics is 8\n",
            "The simulation 1\n",
            "Coherence value :  0.2523829197304116\n",
            "The simulation 2\n",
            "Coherence value :  0.25193199775004316\n",
            "The number of topics is 9\n",
            "The simulation 1\n",
            "Coherence value :  0.2423752360762059\n",
            "The simulation 2\n",
            "Coherence value :  0.24631746682277644\n",
            "The number of topics is 10\n",
            "The simulation 1\n",
            "Coherence value :  0.24237391818403484\n",
            "The simulation 2\n",
            "Coherence value :  0.2423739181840349\n"
          ]
        },
        {
          "output_type": "execute_result",
          "data": {
            "text/plain": [
              "Text(0, 0.5, 'Coherence')"
            ]
          },
          "metadata": {},
          "execution_count": 178
        },
        {
          "output_type": "display_data",
          "data": {
            "text/plain": [
              "<Figure size 432x288 with 1 Axes>"
            ],
            "image/png": "[encoded data removed]"
          },
          "metadata": {
            "needs_background": "light"
          }
        }
      ]
    },
    {
      "cell_type": "code",
      "source": [
        "print('Nilai Coherence Maksimal=',np.max(coherences))\n",
        "max_coherences.append(np.max(coherences))\n",
        "print('Nilai Coherence Minimal=',np.min(coherences))\n",
        "min_coherences.append(np.min(coherences))\n",
        "print('Nilai Rata-rata Coherence=',np.mean(coherences))\n",
        "mean_coherences.append(np.mean(coherences))\n",
        "print('Nilai Median Coherence=',np.median(coherences))\n",
        "med_coherences.append(np.median(coherences))"
      ],
      "metadata": {
        "id": "25pu5f3_qNf9",
        "colab": {
          "base_uri": "https://localhost:8080/"
        },
        "outputId": "16f9725a-af0c-4b06-cf88-0c6f55c00700"
      },
      "execution_count": null,
      "outputs": [
        {
          "output_type": "stream",
          "name": "stdout",
          "text": [
            "Nilai Coherence Maksimal= 0.27501854046233115\n",
            "Nilai Coherence Minimal= 0.21799575076216743\n",
            "Nilai Rata-rata Coherence= 0.24949961789941294\n",
            "Nilai Median Coherence= 0.2501275401152227\n"
          ]
        }
      ]
    },
    {
      "cell_type": "code",
      "source": [
        "coherences_new=[]\n",
        "num_topics_new=[]\n",
        "for i in range(len(num_topics)):\n",
        "    coherences_new.append(coherences[i][0])\n",
        "    coherences_new.append(coherences[i][1])\n",
        "    num_topics_new.append(i+1)\n",
        "    num_topics_new.append(i+1)\n",
        "print('Parameter jumlah topik untuk Coherence Maksimal:',num_topics_new[coherences_new.index(np.max(coherences_new))])"
      ],
      "metadata": {
        "id": "oSy7BkmNqNf9",
        "colab": {
          "base_uri": "https://localhost:8080/"
        },
        "outputId": "39f7c523-41e9-439f-986d-e3a6d0a26af4"
      },
      "execution_count": null,
      "outputs": [
        {
          "output_type": "stream",
          "name": "stdout",
          "text": [
            "Parameter jumlah topik untuk Coherence Maksimal: 3\n"
          ]
        }
      ]
    },
    {
      "cell_type": "code",
      "source": [
        "df"
      ],
      "metadata": {
        "id": "Ce_KVzKTqNf-",
        "colab": {
          "base_uri": "https://localhost:8080/",
          "height": 112
        },
        "outputId": "2cd16c29-7b57-4f6e-aab7-71e42433cdaf"
      },
      "execution_count": null,
      "outputs": [
        {
          "output_type": "execute_result",
          "data": {
            "text/plain": [
              "         1         2         3         4         5         6         7   \\\n",
              "0  0.217996  0.248323  0.275019  0.246874  0.262169  0.252152  0.253514   \n",
              "1  0.217996  0.248323  0.275019  0.246874  0.262169  0.252152  0.253660   \n",
              "\n",
              "         8         9         10  \n",
              "0  0.252383  0.242375  0.242374  \n",
              "1  0.251932  0.246317  0.242374  "
            ],
            "text/html": [
              "\n",
              "  <div id=\"df-b6e77545-0377-4354-8044-7c68fdd751a3\">\n",
              "    <div class=\"colab-df-container\">\n",
              "      <div>\n",
              "<style scoped>\n",
              "    .dataframe tbody tr th:only-of-type {\n",
              "        vertical-align: middle;\n",
              "    }\n",
              "\n",
              "    .dataframe tbody tr th {\n",
              "        vertical-align: top;\n",
              "    }\n",
              "\n",
              "    .dataframe thead th {\n",
              "        text-align: right;\n",
              "    }\n",
              "</style>\n",
              "<table border=\"1\" class=\"dataframe\">\n",
              "  <thead>\n",
              "    <tr style=\"text-align: right;\">\n",
              "      <th></th>\n",
              "      <th>1</th>\n",
              "      <th>2</th>\n",
              "      <th>3</th>\n",
              "      <th>4</th>\n",
              "      <th>5</th>\n",
              "      <th>6</th>\n",
              "      <th>7</th>\n",
              "      <th>8</th>\n",
              "      <th>9</th>\n",
              "      <th>10</th>\n",
              "    </tr>\n",
              "  </thead>\n",
              "  <tbody>\n",
              "    <tr>\n",
              "      <th>0</th>\n",
              "      <td>0.217996</td>\n",
              "      <td>0.248323</td>\n",
              "      <td>0.275019</td>\n",
              "      <td>0.246874</td>\n",
              "      <td>0.262169</td>\n",
              "      <td>0.252152</td>\n",
              "      <td>0.253514</td>\n",
              "      <td>0.252383</td>\n",
              "      <td>0.242375</td>\n",
              "      <td>0.242374</td>\n",
              "    </tr>\n",
              "    <tr>\n",
              "      <th>1</th>\n",
              "      <td>0.217996</td>\n",
              "      <td>0.248323</td>\n",
              "      <td>0.275019</td>\n",
              "      <td>0.246874</td>\n",
              "      <td>0.262169</td>\n",
              "      <td>0.252152</td>\n",
              "      <td>0.253660</td>\n",
              "      <td>0.251932</td>\n",
              "      <td>0.246317</td>\n",
              "      <td>0.242374</td>\n",
              "    </tr>\n",
              "  </tbody>\n",
              "</table>\n",
              "</div>\n",
              "      <button class=\"colab-df-convert\" onclick=\"convertToInteractive('df-b6e77545-0377-4354-8044-7c68fdd751a3')\"\n",
              "              title=\"Convert this dataframe to an interactive table.\"\n",
              "              style=\"display:none;\">\n",
              "        \n",
              "  <svg xmlns=\"http://www.w3.org/2000/svg\" height=\"24px\"viewBox=\"0 0 24 24\"\n",
              "       width=\"24px\">\n",
              "    <path d=\"M0 0h24v24H0V0z\" fill=\"none\"/>\n",
              "    <path d=\"M18.56 5.44l.94 2.06.94-2.06 2.06-.94-2.06-.94-.94-2.06-.94 2.06-2.06.94zm-11 1L8.5 8.5l.94-2.06 2.06-.94-2.06-.94L8.5 2.5l-.94 2.06-2.06.94zm10 10l.94 2.06.94-2.06 2.06-.94-2.06-.94-.94-2.06-.94 2.06-2.06.94z\"/><path d=\"M17.41 7.96l-1.37-1.37c-.4-.4-.92-.59-1.43-.59-.52 0-1.04.2-1.43.59L10.3 9.45l-7.72 7.72c-.78.78-.78 2.05 0 2.83L4 21.41c.39.39.9.59 1.41.59.51 0 1.02-.2 1.41-.59l7.78-7.78 2.81-2.81c.8-.78.8-2.07 0-2.86zM5.41 20L4 18.59l7.72-7.72 1.47 1.35L5.41 20z\"/>\n",
              "  </svg>\n",
              "      </button>\n",
              "      \n",
              "  <style>\n",
              "    .colab-df-container {\n",
              "      display:flex;\n",
              "      flex-wrap:wrap;\n",
              "      gap: 12px;\n",
              "    }\n",
              "\n",
              "    .colab-df-convert {\n",
              "      background-color: #E8F0FE;\n",
              "      border: none;\n",
              "      border-radius: 50%;\n",
              "      cursor: pointer;\n",
              "      display: none;\n",
              "      fill: #1967D2;\n",
              "      height: 32px;\n",
              "      padding: 0 0 0 0;\n",
              "      width: 32px;\n",
              "    }\n",
              "\n",
              "    .colab-df-convert:hover {\n",
              "      background-color: #E2EBFA;\n",
              "      box-shadow: 0px 1px 2px rgba(60, 64, 67, 0.3), 0px 1px 3px 1px rgba(60, 64, 67, 0.15);\n",
              "      fill: #174EA6;\n",
              "    }\n",
              "\n",
              "    [theme=dark] .colab-df-convert {\n",
              "      background-color: #3B4455;\n",
              "      fill: #D2E3FC;\n",
              "    }\n",
              "\n",
              "    [theme=dark] .colab-df-convert:hover {\n",
              "      background-color: #434B5C;\n",
              "      box-shadow: 0px 1px 3px 1px rgba(0, 0, 0, 0.15);\n",
              "      filter: drop-shadow(0px 1px 2px rgba(0, 0, 0, 0.3));\n",
              "      fill: #FFFFFF;\n",
              "    }\n",
              "  </style>\n",
              "\n",
              "      <script>\n",
              "        const buttonEl =\n",
              "          document.querySelector('#df-b6e77545-0377-4354-8044-7c68fdd751a3 button.colab-df-convert');\n",
              "        buttonEl.style.display =\n",
              "          google.colab.kernel.accessAllowed ? 'block' : 'none';\n",
              "\n",
              "        async function convertToInteractive(key) {\n",
              "          const element = document.querySelector('#df-b6e77545-0377-4354-8044-7c68fdd751a3');\n",
              "          const dataTable =\n",
              "            await google.colab.kernel.invokeFunction('convertToInteractive',\n",
              "                                                     [key], {});\n",
              "          if (!dataTable) return;\n",
              "\n",
              "          const docLinkHtml = 'Like what you see? Visit the ' +\n",
              "            '<a target=\"_blank\" href=https://colab.research.google.com/notebooks/data_table.ipynb>data table notebook</a>'\n",
              "            + ' to learn more about interactive tables.';\n",
              "          element.innerHTML = '';\n",
              "          dataTable['output_type'] = 'display_data';\n",
              "          await google.colab.output.renderOutput(dataTable, element);\n",
              "          const docLink = document.createElement('div');\n",
              "          docLink.innerHTML = docLinkHtml;\n",
              "          element.appendChild(docLink);\n",
              "        }\n",
              "      </script>\n",
              "    </div>\n",
              "  </div>\n",
              "  "
            ]
          },
          "metadata": {},
          "execution_count": 181
        }
      ]
    },
    {
      "cell_type": "code",
      "source": [
        "top_words"
      ],
      "metadata": {
        "id": "OGVRwnT9qNf-",
        "colab": {
          "base_uri": "https://localhost:8080/"
        },
        "outputId": "37757c18-a505-4a84-e4d6-d7748323b8c5"
      },
      "execution_count": null,
      "outputs": [
        {
          "output_type": "execute_result",
          "data": {
            "text/plain": [
              "[['capres',\n",
              "  'deklarasi',\n",
              "  'jk',\n",
              "  'rt',\n",
              "  'hanura',\n",
              "  'tdk',\n",
              "  'jd',\n",
              "  'followradiopepatah',\n",
              "  'wiranto',\n",
              "  'yg'],\n",
              " ['rt',\n",
              "  'prabowo',\n",
              "  'cawapres',\n",
              "  'bung',\n",
              "  'bungkus',\n",
              "  'capres',\n",
              "  'gimana',\n",
              "  'underdog',\n",
              "  'politika',\n",
              "  'charta'],\n",
              " ['jd',\n",
              "  'rt',\n",
              "  'jokowi',\n",
              "  'presiden',\n",
              "  'ya',\n",
              "  'jadi',\n",
              "  'emoh',\n",
              "  'aja',\n",
              "  'capres',\n",
              "  'arb'],\n",
              " ['2014',\n",
              "  'prabowo',\n",
              "  'indonesia',\n",
              "  'presiden',\n",
              "  'adalah',\n",
              "  'dahlan',\n",
              "  'jadi',\n",
              "  'rt',\n",
              "  'mahfud',\n",
              "  'iskan'],\n",
              " ['islam',\n",
              "  'wonogiri',\n",
              "  'vihara',\n",
              "  'forum',\n",
              "  'capres',\n",
              "  'petani',\n",
              "  'jokowi',\n",
              "  'dukung',\n",
              "  'dahlan',\n",
              "  'galang'],\n",
              " ['jadi', 'kalo', 'jd', 'yg', 'mau', 'sama', 'ya', 'aja', 'arb', 'om'],\n",
              " ['jadi',\n",
              "  'rt',\n",
              "  'prabowo',\n",
              "  'presiden',\n",
              "  'jokowi',\n",
              "  'capres',\n",
              "  'arb',\n",
              "  'koruptor',\n",
              "  'ahok',\n",
              "  'dahlan'],\n",
              " ['hatta',\n",
              "  'menjadi',\n",
              "  'pencapresan',\n",
              "  'radjasa',\n",
              "  'evaluasi',\n",
              "  'membuka',\n",
              "  'umumnya',\n",
              "  'kemungkinan',\n",
              "  '2013pan',\n",
              "  '42'],\n",
              " ['acak',\n",
              "  'jadi',\n",
              "  'rt',\n",
              "  'guruh',\n",
              "  'kalo',\n",
              "  'apa',\n",
              "  'prabowo',\n",
              "  'dukung',\n",
              "  'jokowi',\n",
              "  'di'],\n",
              " ['yg',\n",
              "  'dan',\n",
              "  'saya',\n",
              "  'akan',\n",
              "  'ada',\n",
              "  'prabowo',\n",
              "  'bisa',\n",
              "  'jk',\n",
              "  'capres',\n",
              "  'indonesia']]"
            ]
          },
          "metadata": {},
          "execution_count": 182
        }
      ]
    },
    {
      "cell_type": "markdown",
      "source": [
        "## n_topics=4 (model-7)"
      ],
      "metadata": {
        "id": "s8FtpmWZqRZf"
      }
    },
    {
      "cell_type": "code",
      "source": [
        "## Model EFCM - Reduksi Dimensi\n",
        "from sklearn.decomposition import TruncatedSVD\n",
        "\n",
        "svd = TruncatedSVD(n_components = 5)\n",
        "data = svd.fit_transform(bert_emb)\n",
        "\n",
        "print(data.shape)"
      ],
      "metadata": {
        "id": "mBdyjknbqRZf",
        "colab": {
          "base_uri": "https://localhost:8080/"
        },
        "outputId": "d3e3b889-919e-4e2b-b7fb-6fe6bd4534c7"
      },
      "execution_count": null,
      "outputs": [
        {
          "output_type": "stream",
          "name": "stdout",
          "text": [
            "(1885, 5)\n"
          ]
        }
      ]
    },
    {
      "cell_type": "code",
      "source": [
        "## Model EFCM - Clustering\n",
        "from sklearn.cluster import KMeans\n",
        "import sys\n",
        "sys.path.insert(0, \"/content/drive/MyDrive/Deep Learning/FCMeans\")\n",
        "from fcmeans import fcmeans\n",
        "\n",
        "m =1.1\n",
        "n_topics = 4\n",
        "initkm = KMeans(n_clusters=n_topics, n_init=10, max_iter=300, tol=0.0001).fit(data)\n",
        "cntr, u = fcmeans(data.T, n_topics, m, error=0.0001, maxiter=200, init=initkm.cluster_centers_.T)\n",
        "cluster_membership = np.argmax(u, axis=0)\n",
        "\n",
        "print(cluster_membership.shape)"
      ],
      "metadata": {
        "id": "DkhNrv0lqRZf",
        "colab": {
          "base_uri": "https://localhost:8080/"
        },
        "outputId": "4d3c7afa-0262-4721-df91-4a43739f42d3"
      },
      "execution_count": null,
      "outputs": [
        {
          "output_type": "stream",
          "name": "stdout",
          "text": [
            "(1885,)\n"
          ]
        }
      ]
    },
    {
      "cell_type": "code",
      "source": [
        "### Topic Interpretation\n",
        "import numpy as np\n",
        "from sklearn.feature_extraction.text import CountVectorizer\n",
        "\n",
        "#### Class Based TFIDF (C-TFIDF) Functions\n",
        "def c_tf_idf(documents, m, ngram_range=(1, 1)):\n",
        "    count = CountVectorizer(ngram_range=ngram_range).fit(documents)\n",
        "    t = count.transform(documents).toarray()\n",
        "    w = t.sum(axis=1)\n",
        "    tf = np.divide(t.T, w)\n",
        "    sum_t = t.sum(axis=0)\n",
        "    idf = np.log(np.divide(m, sum_t)).reshape(-1, 1)\n",
        "    tf_idf = np.multiply(tf, idf)\n",
        "\n",
        "    return tf_idf, count\n",
        "\n",
        "def extract_top_words_per_topic(tf_idf, count, docs_per_topic, n = 10):\n",
        "    words = count.get_feature_names_out()\n",
        "    labels = list(docs_per_topic.Topic)\n",
        "    tf_idf_transposed = tf_idf.T\n",
        "    indices = tf_idf_transposed.argsort()[:, -n:]\n",
        "    top_n_words = {label: [(words[j], tf_idf_transposed[i][j]) for j in indices[i]][::-1] for i, label in enumerate(labels)}\n",
        "    top_words = []\n",
        "    for i in range(len(labels)):\n",
        "      top_words.append([words[j] for j in indices [i]][::-1])\n",
        "    return top_words\n",
        "\n",
        "#### Topic Representation\n",
        "docs = pd.DataFrame(list(dataset[\"Isi_Tweet\"]), columns=[\"Doc\"])\n",
        "docs['Topic'] = cluster_membership\n",
        "docs['Doc_ID'] = range(len(docs))\n",
        "docs_per_topic = docs.dropna(subset=['Doc']).groupby(['Topic'], as_index = False).agg({'Doc': ' '.join})\n",
        "\n",
        "tf_idf, count = c_tf_idf(docs_per_topic.Doc.values, m=len(docs))\n",
        "top_words = extract_top_words_per_topic(tf_idf, count, docs_per_topic, 10)\n",
        "print(top_words)"
      ],
      "metadata": {
        "id": "n3WcbOgiqRZg",
        "colab": {
          "base_uri": "https://localhost:8080/"
        },
        "outputId": "5372f485-6b29-4b07-ad7b-99f3173e54fb"
      },
      "execution_count": null,
      "outputs": [
        {
          "output_type": "stream",
          "name": "stdout",
          "text": [
            "[['jadi', 'yg', 'jd', 'ya', 'rt', 'presiden', 'arb', 'aja', 'jokowi', 'mau'], ['rt', 'prabowo', 'capres', 'jokowi', 'presiden', 'cawapres', 'bung', 'gimana', 'jadi', 'acak'], ['rt', 'jadi', 'capres', 'jokowi', 'presiden', 'dahlan', 'prabowo', 'di', 'jd', 'wiranto'], ['menjadi', 'hatta', 'dan', 'sebagai', 'mantan', 'tidak', 'tokoh', 'umumnya', 'jusuf', 'kemungkinan']]\n"
          ]
        }
      ]
    },
    {
      "cell_type": "code",
      "source": [
        "### Topic Coherence\n",
        "import gensim\n",
        "from itertools import combinations\n",
        "import warnings\n",
        "warnings.filterwarnings(\"ignore\", category=FutureWarning)\n",
        "warnings.filterwarnings(\"ignore\", category=DeprecationWarning)\n",
        "\n",
        "### Memuat Model Word2Vec\n",
        "w2v_model = gensim.models.Word2Vec.load(\"/content/drive/MyDrive/Deep Learning/Data/word2vec/idwiki-berita/w2v-model.bin\")\n",
        "\n",
        "### Fungsi Menghitung Coherence\n",
        "def calculate_coherence( w2v_model, term_rankings ):\n",
        "    overall_coherence = 0.0\n",
        "    for topic_index in range(len(term_rankings)):\n",
        "        # check each pair of terms\n",
        "        pair_scores = []\n",
        "        for pair in combinations( term_rankings[topic_index], 2 ):\n",
        "            if pair[0] in w2v_model.wv.index_to_key:\n",
        "                if pair[1] in w2v_model.wv.index_to_key:\n",
        "                    pair_scores.append( abs(w2v_model.wv.similarity(pair[0], pair[1])) )\n",
        "                #else:\n",
        "                    #pair_scores.append(0)\n",
        "            #else:\n",
        "                #pair_scores.append(0)\n",
        "        \n",
        "        # get the mean for all pairs in this topic\n",
        "        if pair_scores:\n",
        "            topic_score = sum(pair_scores) / len(pair_scores)\n",
        "            overall_coherence += topic_score\n",
        "    \n",
        "    # get the mean score across all topics\n",
        "    return overall_coherence / len(term_rankings)\n",
        "\n",
        "\n",
        "### Menentukan Nilai Coherence dari Topik\n",
        "print(calculate_coherence(w2v_model, top_words))\n",
        "actual_coherences.append(calculate_coherence(w2v_model, top_words))"
      ],
      "metadata": {
        "id": "eFX0mnbNqRZg",
        "colab": {
          "base_uri": "https://localhost:8080/"
        },
        "outputId": "44e1229d-142b-412c-9657-82ce29702442"
      },
      "execution_count": null,
      "outputs": [
        {
          "output_type": "stream",
          "name": "stdout",
          "text": [
            "0.24687365373773945\n"
          ]
        }
      ]
    },
    {
      "cell_type": "code",
      "source": [
        "## Parameter Tuning\n",
        "### Jumlah Topik Optimal\n",
        "import pandas as pd\n",
        "\n",
        "num_topics = []\n",
        "coherences = []\n",
        "for n_topics in range(1,11,1):\n",
        "    print(\"The number of topics is \" + str(n_topics))\n",
        "    \n",
        "    coherence_sim = []\n",
        "    for i in range(1,3):\n",
        "        print(\"The simulation \" + str(i))\n",
        "               \n",
        "        #topic detection\n",
        "        m = 1.1\n",
        "        initkm = KMeans(n_clusters=n_topics, n_init=10, max_iter=300, tol=0.0001).fit(data)\n",
        "        cntr, u = fcmeans(data.T, n_topics, m, error=0.0001, maxiter=200, init=initkm.cluster_centers_.T)\n",
        "        cluster_membership = np.argmax(u, axis=0)\n",
        "        \n",
        "        docs = pd.DataFrame(list(dataset[\"Isi_Tweet\"]), columns=[\"Doc\"])\n",
        "        docs['Topic'] = cluster_membership\n",
        "        docs['Doc_ID'] = range(len(docs))\n",
        "        docs_per_topic = docs.dropna(subset=['Doc']).groupby(['Topic'], as_index = False).agg({'Doc': ' '.join})\n",
        "        \n",
        "        tf_idf, count = c_tf_idf(docs_per_topic.Doc.values, m=len(docs))\n",
        "        top_words = extract_top_words_per_topic(tf_idf, count, docs_per_topic, 10)\n",
        "        \n",
        "        coherence_sim.append(calculate_coherence(w2v_model, top_words))\n",
        "        print('Coherence value : ',coherence_sim[i-1])\n",
        "        \n",
        "    num_topics.append(n_topics)\n",
        "    coherences.append(coherence_sim)\n",
        "\n",
        "### Visualisasi\n",
        "df = pd.DataFrame.from_records(coherences).T\n",
        "df.columns = num_topics\n",
        "boxplot = df.boxplot(grid=False)\n",
        "boxplot.set_xlabel(\"Number of Topics\")\n",
        "boxplot.set_ylabel(\"Coherence\")"
      ],
      "metadata": {
        "id": "Kre0F4QOqRZh",
        "colab": {
          "base_uri": "https://localhost:8080/",
          "height": 1164
        },
        "outputId": "32a6f947-06ca-4de1-8b8f-cc4b4d4cfbdb"
      },
      "execution_count": null,
      "outputs": [
        {
          "output_type": "stream",
          "name": "stdout",
          "text": [
            "The number of topics is 1\n",
            "The simulation 1\n",
            "Coherence value :  0.21799575076216743\n",
            "The simulation 2\n",
            "Coherence value :  0.21799575076216743\n",
            "The number of topics is 2\n",
            "The simulation 1\n",
            "Coherence value :  0.24832308248040225\n",
            "The simulation 2\n",
            "Coherence value :  0.24832308248040225\n",
            "The number of topics is 3\n",
            "The simulation 1\n",
            "Coherence value :  0.27501854046233115\n",
            "The simulation 2\n",
            "Coherence value :  0.27501854046233115\n",
            "The number of topics is 4\n",
            "The simulation 1\n",
            "Coherence value :  0.24687365373773945\n",
            "The simulation 2\n",
            "Coherence value :  0.24687365373773945\n",
            "The number of topics is 5\n",
            "The simulation 1\n",
            "Coherence value :  0.2621687633118459\n",
            "The simulation 2\n",
            "Coherence value :  0.23793469657027533\n",
            "The number of topics is 6\n",
            "The simulation 1\n",
            "Coherence value :  0.25215155082661167\n",
            "The simulation 2\n",
            "Coherence value :  0.25215155082661167\n",
            "The number of topics is 7\n",
            "The simulation 1\n",
            "Coherence value :  0.253514235774203\n",
            "The simulation 2\n",
            "Coherence value :  0.25365998230435277\n",
            "The number of topics is 8\n",
            "The simulation 1\n",
            "Coherence value :  0.25193199775004316\n",
            "The simulation 2\n",
            "Coherence value :  0.25193199775004316\n",
            "The number of topics is 9\n",
            "The simulation 1\n",
            "Coherence value :  0.24631746682277644\n",
            "The simulation 2\n",
            "Coherence value :  0.24631746682277644\n",
            "The number of topics is 10\n",
            "The simulation 1\n",
            "Coherence value :  0.23000265670666797\n",
            "The simulation 2\n",
            "Coherence value :  0.2423739181840349\n"
          ]
        },
        {
          "output_type": "execute_result",
          "data": {
            "text/plain": [
              "Text(0, 0.5, 'Coherence')"
            ]
          },
          "metadata": {},
          "execution_count": 187
        },
        {
          "output_type": "display_data",
          "data": {
            "text/plain": [
              "<Figure size 432x288 with 1 Axes>"
            ],
            "image/png": "[encoded data removed]"
          },
          "metadata": {
            "needs_background": "light"
          }
        }
      ]
    },
    {
      "cell_type": "code",
      "source": [
        "print('Nilai Coherence Maksimal=',np.max(coherences))\n",
        "max_coherences.append(np.max(coherences))\n",
        "print('Nilai Coherence Minimal=',np.min(coherences))\n",
        "min_coherences.append(np.min(coherences))\n",
        "print('Nilai Rata-rata Coherence=',np.mean(coherences))\n",
        "mean_coherences.append(np.mean(coherences))\n",
        "print('Nilai Median Coherence=',np.median(coherences))\n",
        "med_coherences.append(np.median(coherences))"
      ],
      "metadata": {
        "id": "49sShOi6qRZh",
        "colab": {
          "base_uri": "https://localhost:8080/"
        },
        "outputId": "ff85d71b-9003-47c0-95da-ace24a1fe126"
      },
      "execution_count": null,
      "outputs": [
        {
          "output_type": "stream",
          "name": "stdout",
          "text": [
            "Nilai Coherence Maksimal= 0.27501854046233115\n",
            "Nilai Coherence Minimal= 0.21799575076216743\n",
            "Nilai Rata-rata Coherence= 0.24784391692677618\n",
            "Nilai Median Coherence= 0.24832308248040225\n"
          ]
        }
      ]
    },
    {
      "cell_type": "code",
      "source": [
        "coherences_new=[]\n",
        "num_topics_new=[]\n",
        "for i in range(len(num_topics)):\n",
        "    coherences_new.append(coherences[i][0])\n",
        "    coherences_new.append(coherences[i][1])\n",
        "    num_topics_new.append(i+1)\n",
        "    num_topics_new.append(i+1)\n",
        "print('Parameter jumlah topik untuk Coherence Maksimal:',num_topics_new[coherences_new.index(np.max(coherences_new))])"
      ],
      "metadata": {
        "id": "SGDPh2hdqRZh",
        "colab": {
          "base_uri": "https://localhost:8080/"
        },
        "outputId": "1d9b27b4-9ac2-4d5f-bdfd-e222567a1311"
      },
      "execution_count": null,
      "outputs": [
        {
          "output_type": "stream",
          "name": "stdout",
          "text": [
            "Parameter jumlah topik untuk Coherence Maksimal: 3\n"
          ]
        }
      ]
    },
    {
      "cell_type": "code",
      "source": [
        "df"
      ],
      "metadata": {
        "id": "b5fBr6bhqRZi",
        "colab": {
          "base_uri": "https://localhost:8080/",
          "height": 112
        },
        "outputId": "5db845b5-3a0b-4cc7-ef3c-7c45cffe0391"
      },
      "execution_count": null,
      "outputs": [
        {
          "output_type": "execute_result",
          "data": {
            "text/plain": [
              "         1         2         3         4         5         6         7   \\\n",
              "0  0.217996  0.248323  0.275019  0.246874  0.262169  0.252152  0.253514   \n",
              "1  0.217996  0.248323  0.275019  0.246874  0.237935  0.252152  0.253660   \n",
              "\n",
              "         8         9         10  \n",
              "0  0.251932  0.246317  0.230003  \n",
              "1  0.251932  0.246317  0.242374  "
            ],
            "text/html": [
              "\n",
              "  <div id=\"df-f3270267-103f-4475-abb6-fcfc9b8f75f1\">\n",
              "    <div class=\"colab-df-container\">\n",
              "      <div>\n",
              "<style scoped>\n",
              "    .dataframe tbody tr th:only-of-type {\n",
              "        vertical-align: middle;\n",
              "    }\n",
              "\n",
              "    .dataframe tbody tr th {\n",
              "        vertical-align: top;\n",
              "    }\n",
              "\n",
              "    .dataframe thead th {\n",
              "        text-align: right;\n",
              "    }\n",
              "</style>\n",
              "<table border=\"1\" class=\"dataframe\">\n",
              "  <thead>\n",
              "    <tr style=\"text-align: right;\">\n",
              "      <th></th>\n",
              "      <th>1</th>\n",
              "      <th>2</th>\n",
              "      <th>3</th>\n",
              "      <th>4</th>\n",
              "      <th>5</th>\n",
              "      <th>6</th>\n",
              "      <th>7</th>\n",
              "      <th>8</th>\n",
              "      <th>9</th>\n",
              "      <th>10</th>\n",
              "    </tr>\n",
              "  </thead>\n",
              "  <tbody>\n",
              "    <tr>\n",
              "      <th>0</th>\n",
              "      <td>0.217996</td>\n",
              "      <td>0.248323</td>\n",
              "      <td>0.275019</td>\n",
              "      <td>0.246874</td>\n",
              "      <td>0.262169</td>\n",
              "      <td>0.252152</td>\n",
              "      <td>0.253514</td>\n",
              "      <td>0.251932</td>\n",
              "      <td>0.246317</td>\n",
              "      <td>0.230003</td>\n",
              "    </tr>\n",
              "    <tr>\n",
              "      <th>1</th>\n",
              "      <td>0.217996</td>\n",
              "      <td>0.248323</td>\n",
              "      <td>0.275019</td>\n",
              "      <td>0.246874</td>\n",
              "      <td>0.237935</td>\n",
              "      <td>0.252152</td>\n",
              "      <td>0.253660</td>\n",
              "      <td>0.251932</td>\n",
              "      <td>0.246317</td>\n",
              "      <td>0.242374</td>\n",
              "    </tr>\n",
              "  </tbody>\n",
              "</table>\n",
              "</div>\n",
              "      <button class=\"colab-df-convert\" onclick=\"convertToInteractive('df-f3270267-103f-4475-abb6-fcfc9b8f75f1')\"\n",
              "              title=\"Convert this dataframe to an interactive table.\"\n",
              "              style=\"display:none;\">\n",
              "        \n",
              "  <svg xmlns=\"http://www.w3.org/2000/svg\" height=\"24px\"viewBox=\"0 0 24 24\"\n",
              "       width=\"24px\">\n",
              "    <path d=\"M0 0h24v24H0V0z\" fill=\"none\"/>\n",
              "    <path d=\"M18.56 5.44l.94 2.06.94-2.06 2.06-.94-2.06-.94-.94-2.06-.94 2.06-2.06.94zm-11 1L8.5 8.5l.94-2.06 2.06-.94-2.06-.94L8.5 2.5l-.94 2.06-2.06.94zm10 10l.94 2.06.94-2.06 2.06-.94-2.06-.94-.94-2.06-.94 2.06-2.06.94z\"/><path d=\"M17.41 7.96l-1.37-1.37c-.4-.4-.92-.59-1.43-.59-.52 0-1.04.2-1.43.59L10.3 9.45l-7.72 7.72c-.78.78-.78 2.05 0 2.83L4 21.41c.39.39.9.59 1.41.59.51 0 1.02-.2 1.41-.59l7.78-7.78 2.81-2.81c.8-.78.8-2.07 0-2.86zM5.41 20L4 18.59l7.72-7.72 1.47 1.35L5.41 20z\"/>\n",
              "  </svg>\n",
              "      </button>\n",
              "      \n",
              "  <style>\n",
              "    .colab-df-container {\n",
              "      display:flex;\n",
              "      flex-wrap:wrap;\n",
              "      gap: 12px;\n",
              "    }\n",
              "\n",
              "    .colab-df-convert {\n",
              "      background-color: #E8F0FE;\n",
              "      border: none;\n",
              "      border-radius: 50%;\n",
              "      cursor: pointer;\n",
              "      display: none;\n",
              "      fill: #1967D2;\n",
              "      height: 32px;\n",
              "      padding: 0 0 0 0;\n",
              "      width: 32px;\n",
              "    }\n",
              "\n",
              "    .colab-df-convert:hover {\n",
              "      background-color: #E2EBFA;\n",
              "      box-shadow: 0px 1px 2px rgba(60, 64, 67, 0.3), 0px 1px 3px 1px rgba(60, 64, 67, 0.15);\n",
              "      fill: #174EA6;\n",
              "    }\n",
              "\n",
              "    [theme=dark] .colab-df-convert {\n",
              "      background-color: #3B4455;\n",
              "      fill: #D2E3FC;\n",
              "    }\n",
              "\n",
              "    [theme=dark] .colab-df-convert:hover {\n",
              "      background-color: #434B5C;\n",
              "      box-shadow: 0px 1px 3px 1px rgba(0, 0, 0, 0.15);\n",
              "      filter: drop-shadow(0px 1px 2px rgba(0, 0, 0, 0.3));\n",
              "      fill: #FFFFFF;\n",
              "    }\n",
              "  </style>\n",
              "\n",
              "      <script>\n",
              "        const buttonEl =\n",
              "          document.querySelector('#df-f3270267-103f-4475-abb6-fcfc9b8f75f1 button.colab-df-convert');\n",
              "        buttonEl.style.display =\n",
              "          google.colab.kernel.accessAllowed ? 'block' : 'none';\n",
              "\n",
              "        async function convertToInteractive(key) {\n",
              "          const element = document.querySelector('#df-f3270267-103f-4475-abb6-fcfc9b8f75f1');\n",
              "          const dataTable =\n",
              "            await google.colab.kernel.invokeFunction('convertToInteractive',\n",
              "                                                     [key], {});\n",
              "          if (!dataTable) return;\n",
              "\n",
              "          const docLinkHtml = 'Like what you see? Visit the ' +\n",
              "            '<a target=\"_blank\" href=https://colab.research.google.com/notebooks/data_table.ipynb>data table notebook</a>'\n",
              "            + ' to learn more about interactive tables.';\n",
              "          element.innerHTML = '';\n",
              "          dataTable['output_type'] = 'display_data';\n",
              "          await google.colab.output.renderOutput(dataTable, element);\n",
              "          const docLink = document.createElement('div');\n",
              "          docLink.innerHTML = docLinkHtml;\n",
              "          element.appendChild(docLink);\n",
              "        }\n",
              "      </script>\n",
              "    </div>\n",
              "  </div>\n",
              "  "
            ]
          },
          "metadata": {},
          "execution_count": 190
        }
      ]
    },
    {
      "cell_type": "code",
      "source": [
        "top_words"
      ],
      "metadata": {
        "id": "j4S8qEx3qRZi",
        "colab": {
          "base_uri": "https://localhost:8080/"
        },
        "outputId": "73a0598f-4091-4c53-9a52-cb28d44d33e8"
      },
      "execution_count": null,
      "outputs": [
        {
          "output_type": "execute_result",
          "data": {
            "text/plain": [
              "[['capres',\n",
              "  'deklarasi',\n",
              "  'jk',\n",
              "  'rt',\n",
              "  'hanura',\n",
              "  'tdk',\n",
              "  'jd',\n",
              "  'followradiopepatah',\n",
              "  'wiranto',\n",
              "  'yg'],\n",
              " ['2014',\n",
              "  'prabowo',\n",
              "  'indonesia',\n",
              "  'presiden',\n",
              "  'adalah',\n",
              "  'dahlan',\n",
              "  'jadi',\n",
              "  'rt',\n",
              "  'mahfud',\n",
              "  'iskan'],\n",
              " ['acak',\n",
              "  'jadi',\n",
              "  'rt',\n",
              "  'guruh',\n",
              "  'kalo',\n",
              "  'apa',\n",
              "  'prabowo',\n",
              "  'dukung',\n",
              "  'jokowi',\n",
              "  'di'],\n",
              " ['jadi', 'kalo', 'jd', 'yg', 'mau', 'sama', 'ya', 'aja', 'arb', 'om'],\n",
              " ['islam',\n",
              "  'wonogiri',\n",
              "  'vihara',\n",
              "  'forum',\n",
              "  'capres',\n",
              "  'petani',\n",
              "  'jokowi',\n",
              "  'dukung',\n",
              "  'dahlan',\n",
              "  'galang'],\n",
              " ['hatta',\n",
              "  'menjadi',\n",
              "  'pencapresan',\n",
              "  'radjasa',\n",
              "  'evaluasi',\n",
              "  'membuka',\n",
              "  'umumnya',\n",
              "  'kemungkinan',\n",
              "  '2013pan',\n",
              "  '42'],\n",
              " ['jadi',\n",
              "  'rt',\n",
              "  'prabowo',\n",
              "  'presiden',\n",
              "  'jokowi',\n",
              "  'capres',\n",
              "  'arb',\n",
              "  'koruptor',\n",
              "  'ahok',\n",
              "  'dahlan'],\n",
              " ['rt',\n",
              "  'prabowo',\n",
              "  'cawapres',\n",
              "  'bung',\n",
              "  'bungkus',\n",
              "  'capres',\n",
              "  'gimana',\n",
              "  'underdog',\n",
              "  'politika',\n",
              "  'charta'],\n",
              " ['jd',\n",
              "  'rt',\n",
              "  'jokowi',\n",
              "  'presiden',\n",
              "  'ya',\n",
              "  'jadi',\n",
              "  'emoh',\n",
              "  'aja',\n",
              "  'capres',\n",
              "  'arb'],\n",
              " ['yg',\n",
              "  'dan',\n",
              "  'saya',\n",
              "  'akan',\n",
              "  'ada',\n",
              "  'prabowo',\n",
              "  'bisa',\n",
              "  'jk',\n",
              "  'capres',\n",
              "  'indonesia']]"
            ]
          },
          "metadata": {},
          "execution_count": 191
        }
      ]
    },
    {
      "cell_type": "markdown",
      "source": [
        "## n_topics=10 (model-8)"
      ],
      "metadata": {
        "id": "MurPfFJ1qUsB"
      }
    },
    {
      "cell_type": "code",
      "source": [
        "## Model EFCM - Reduksi Dimensi\n",
        "from sklearn.decomposition import TruncatedSVD\n",
        "\n",
        "svd = TruncatedSVD(n_components = 5)\n",
        "data = svd.fit_transform(bert_emb)\n",
        "\n",
        "print(data.shape)"
      ],
      "metadata": {
        "id": "p80CzC3MqUsC",
        "colab": {
          "base_uri": "https://localhost:8080/"
        },
        "outputId": "191972fb-59c7-487e-ce2d-6ebda215ff07"
      },
      "execution_count": null,
      "outputs": [
        {
          "output_type": "stream",
          "name": "stdout",
          "text": [
            "(1885, 5)\n"
          ]
        }
      ]
    },
    {
      "cell_type": "code",
      "source": [
        "## Model EFCM - Clustering\n",
        "from sklearn.cluster import KMeans\n",
        "import sys\n",
        "sys.path.insert(0, \"/content/drive/MyDrive/Deep Learning/FCMeans\")\n",
        "from fcmeans import fcmeans\n",
        "\n",
        "m =1.1\n",
        "n_topics = 10\n",
        "initkm = KMeans(n_clusters=n_topics, n_init=10, max_iter=300, tol=0.0001).fit(data)\n",
        "cntr, u = fcmeans(data.T, n_topics, m, error=0.0001, maxiter=200, init=initkm.cluster_centers_.T)\n",
        "cluster_membership = np.argmax(u, axis=0)\n",
        "\n",
        "print(cluster_membership.shape)"
      ],
      "metadata": {
        "id": "AK9qm_fuqUsD",
        "colab": {
          "base_uri": "https://localhost:8080/"
        },
        "outputId": "7fc343df-3546-49c0-c457-c7e9535db14f"
      },
      "execution_count": null,
      "outputs": [
        {
          "output_type": "stream",
          "name": "stdout",
          "text": [
            "(1885,)\n"
          ]
        }
      ]
    },
    {
      "cell_type": "code",
      "source": [
        "### Topic Interpretation\n",
        "import numpy as np\n",
        "from sklearn.feature_extraction.text import CountVectorizer\n",
        "\n",
        "#### Class Based TFIDF (C-TFIDF) Functions\n",
        "def c_tf_idf(documents, m, ngram_range=(1, 1)):\n",
        "    count = CountVectorizer(ngram_range=ngram_range).fit(documents)\n",
        "    t = count.transform(documents).toarray()\n",
        "    w = t.sum(axis=1)\n",
        "    tf = np.divide(t.T, w)\n",
        "    sum_t = t.sum(axis=0)\n",
        "    idf = np.log(np.divide(m, sum_t)).reshape(-1, 1)\n",
        "    tf_idf = np.multiply(tf, idf)\n",
        "\n",
        "    return tf_idf, count\n",
        "\n",
        "def extract_top_words_per_topic(tf_idf, count, docs_per_topic, n = 10):\n",
        "    words = count.get_feature_names_out()\n",
        "    labels = list(docs_per_topic.Topic)\n",
        "    tf_idf_transposed = tf_idf.T\n",
        "    indices = tf_idf_transposed.argsort()[:, -n:]\n",
        "    top_n_words = {label: [(words[j], tf_idf_transposed[i][j]) for j in indices[i]][::-1] for i, label in enumerate(labels)}\n",
        "    top_words = []\n",
        "    for i in range(len(labels)):\n",
        "      top_words.append([words[j] for j in indices [i]][::-1])\n",
        "    return top_words\n",
        "\n",
        "#### Topic Representation\n",
        "docs = pd.DataFrame(list(dataset[\"Isi_Tweet\"]), columns=[\"Doc\"])\n",
        "docs['Topic'] = cluster_membership\n",
        "docs['Doc_ID'] = range(len(docs))\n",
        "docs_per_topic = docs.dropna(subset=['Doc']).groupby(['Topic'], as_index = False).agg({'Doc': ' '.join})\n",
        "\n",
        "tf_idf, count = c_tf_idf(docs_per_topic.Doc.values, m=len(docs))\n",
        "top_words = extract_top_words_per_topic(tf_idf, count, docs_per_topic, 10)\n",
        "print(top_words)"
      ],
      "metadata": {
        "id": "WUaxakmDqUsD",
        "colab": {
          "base_uri": "https://localhost:8080/"
        },
        "outputId": "3193fada-ec59-4112-f5a8-27d9ac64c83a"
      },
      "execution_count": null,
      "outputs": [
        {
          "output_type": "stream",
          "name": "stdout",
          "text": [
            "[['islam', 'wonogiri', 'vihara', 'forum', 'capres', 'petani', 'jokowi', 'dukung', 'dahlan', 'galang'], ['jadi', 'rt', 'prabowo', 'presiden', 'jokowi', 'capres', 'arb', 'koruptor', 'ahok', 'dahlan'], ['yg', 'dan', 'saya', 'akan', 'ada', 'prabowo', 'bisa', 'jk', 'capres', 'indonesia'], ['jadi', 'kalo', 'jd', 'yg', 'mau', 'sama', 'ya', 'aja', 'arb', 'om'], ['acak', 'jadi', 'rt', 'guruh', 'kalo', 'apa', 'prabowo', 'dukung', 'jokowi', 'di'], ['rt', 'prabowo', 'cawapres', 'bung', 'bungkus', 'capres', 'gimana', 'underdog', 'politika', 'charta'], ['2014', 'prabowo', 'indonesia', 'presiden', 'adalah', 'dahlan', 'jadi', 'rt', 'mahfud', 'iskan'], ['jd', 'rt', 'jokowi', 'presiden', 'ya', 'jadi', 'emoh', 'aja', 'capres', 'arb'], ['hatta', 'menjadi', 'pencapresan', 'radjasa', 'evaluasi', 'membuka', 'umumnya', 'kemungkinan', '2013pan', '42'], ['capres', 'deklarasi', 'jk', 'rt', 'hanura', 'tdk', 'jd', 'followradiopepatah', 'wiranto', 'yg']]\n"
          ]
        }
      ]
    },
    {
      "cell_type": "code",
      "source": [
        "### Topic Coherence\n",
        "import gensim\n",
        "from itertools import combinations\n",
        "import warnings\n",
        "warnings.filterwarnings(\"ignore\", category=FutureWarning)\n",
        "warnings.filterwarnings(\"ignore\", category=DeprecationWarning)\n",
        "\n",
        "### Memuat Model Word2Vec\n",
        "w2v_model = gensim.models.Word2Vec.load(\"/content/drive/MyDrive/Deep Learning/Data/word2vec/idwiki-berita/w2v-model.bin\")\n",
        "\n",
        "### Fungsi Menghitung Coherence\n",
        "def calculate_coherence( w2v_model, term_rankings ):\n",
        "    overall_coherence = 0.0\n",
        "    for topic_index in range(len(term_rankings)):\n",
        "        # check each pair of terms\n",
        "        pair_scores = []\n",
        "        for pair in combinations( term_rankings[topic_index], 2 ):\n",
        "            if pair[0] in w2v_model.wv.index_to_key:\n",
        "                if pair[1] in w2v_model.wv.index_to_key:\n",
        "                    pair_scores.append( abs(w2v_model.wv.similarity(pair[0], pair[1])) )\n",
        "                #else:\n",
        "                    #pair_scores.append(0)\n",
        "            #else:\n",
        "                #pair_scores.append(0)\n",
        "        \n",
        "        # get the mean for all pairs in this topic\n",
        "        if pair_scores:\n",
        "            topic_score = sum(pair_scores) / len(pair_scores)\n",
        "            overall_coherence += topic_score\n",
        "    \n",
        "    # get the mean score across all topics\n",
        "    return overall_coherence / len(term_rankings)\n",
        "\n",
        "\n",
        "### Menentukan Nilai Coherence dari Topik\n",
        "print(calculate_coherence(w2v_model, top_words))\n",
        "actual_coherences.append(calculate_coherence(w2v_model, top_words))"
      ],
      "metadata": {
        "id": "67D4bBHkqUsD",
        "colab": {
          "base_uri": "https://localhost:8080/"
        },
        "outputId": "2813c233-ee54-4aa0-9049-62b5c10969f6"
      },
      "execution_count": null,
      "outputs": [
        {
          "output_type": "stream",
          "name": "stdout",
          "text": [
            "0.24237391818403484\n"
          ]
        }
      ]
    },
    {
      "cell_type": "code",
      "source": [
        "## Parameter Tuning\n",
        "### Jumlah Topik Optimal\n",
        "import pandas as pd\n",
        "\n",
        "num_topics = []\n",
        "coherences = []\n",
        "for n_topics in range(1,11,1):\n",
        "    print(\"The number of topics is \" + str(n_topics))\n",
        "    \n",
        "    coherence_sim = []\n",
        "    for i in range(1,3):\n",
        "        print(\"The simulation \" + str(i))\n",
        "               \n",
        "        #topic detection\n",
        "        m = 1.1\n",
        "        initkm = KMeans(n_clusters=n_topics, n_init=10, max_iter=300, tol=0.0001).fit(data)\n",
        "        cntr, u = fcmeans(data.T, n_topics, m, error=0.0001, maxiter=200, init=initkm.cluster_centers_.T)\n",
        "        cluster_membership = np.argmax(u, axis=0)\n",
        "        \n",
        "        docs = pd.DataFrame(list(dataset[\"Isi_Tweet\"]), columns=[\"Doc\"])\n",
        "        docs['Topic'] = cluster_membership\n",
        "        docs['Doc_ID'] = range(len(docs))\n",
        "        docs_per_topic = docs.dropna(subset=['Doc']).groupby(['Topic'], as_index = False).agg({'Doc': ' '.join})\n",
        "        \n",
        "        tf_idf, count = c_tf_idf(docs_per_topic.Doc.values, m=len(docs))\n",
        "        top_words = extract_top_words_per_topic(tf_idf, count, docs_per_topic, 10)\n",
        "        \n",
        "        coherence_sim.append(calculate_coherence(w2v_model, top_words))\n",
        "        print('Coherence value : ',coherence_sim[i-1])\n",
        "        \n",
        "    num_topics.append(n_topics)\n",
        "    coherences.append(coherence_sim)\n",
        "\n",
        "### Visualisasi\n",
        "df = pd.DataFrame.from_records(coherences).T\n",
        "df.columns = num_topics\n",
        "boxplot = df.boxplot(grid=False)\n",
        "boxplot.set_xlabel(\"Number of Topics\")\n",
        "boxplot.set_ylabel(\"Coherence\")"
      ],
      "metadata": {
        "id": "RP5ibE20qUsE",
        "colab": {
          "base_uri": "https://localhost:8080/",
          "height": 1164
        },
        "outputId": "c87013f1-b07a-4b13-b41c-48ac5323fa66"
      },
      "execution_count": null,
      "outputs": [
        {
          "output_type": "stream",
          "name": "stdout",
          "text": [
            "The number of topics is 1\n",
            "The simulation 1\n",
            "Coherence value :  0.21799575076216743\n",
            "The simulation 2\n",
            "Coherence value :  0.21799575076216743\n",
            "The number of topics is 2\n",
            "The simulation 1\n",
            "Coherence value :  0.24832308248040225\n",
            "The simulation 2\n",
            "Coherence value :  0.24832308248040225\n",
            "The number of topics is 3\n",
            "The simulation 1\n",
            "Coherence value :  0.27501854046233115\n",
            "The simulation 2\n",
            "Coherence value :  0.27501854046233115\n",
            "The number of topics is 4\n",
            "The simulation 1\n",
            "Coherence value :  0.24687365373773945\n",
            "The simulation 2\n",
            "Coherence value :  0.24687365373773945\n",
            "The number of topics is 5\n",
            "The simulation 1\n",
            "Coherence value :  0.2621687633118459\n",
            "The simulation 2\n",
            "Coherence value :  0.2621687633118459\n",
            "The number of topics is 6\n",
            "The simulation 1\n",
            "Coherence value :  0.25215155082661167\n",
            "The simulation 2\n",
            "Coherence value :  0.25215155082661167\n",
            "The number of topics is 7\n",
            "The simulation 1\n",
            "Coherence value :  0.2536599823043527\n",
            "The simulation 2\n",
            "Coherence value :  0.25351423577420296\n",
            "The number of topics is 8\n",
            "The simulation 1\n",
            "Coherence value :  0.25238291973041166\n",
            "The simulation 2\n",
            "Coherence value :  0.2523829197304116\n",
            "The number of topics is 9\n",
            "The simulation 1\n",
            "Coherence value :  0.24631746682277644\n",
            "The simulation 2\n",
            "Coherence value :  0.24631746682277644\n",
            "The number of topics is 10\n",
            "The simulation 1\n",
            "Coherence value :  0.2335363052262082\n",
            "The simulation 2\n",
            "Coherence value :  0.2335363052262082\n"
          ]
        },
        {
          "output_type": "execute_result",
          "data": {
            "text/plain": [
              "Text(0, 0.5, 'Coherence')"
            ]
          },
          "metadata": {},
          "execution_count": 196
        },
        {
          "output_type": "display_data",
          "data": {
            "text/plain": [
              "<Figure size 432x288 with 1 Axes>"
            ],
            "image/png": "[encoded data removed]"
          },
          "metadata": {
            "needs_background": "light"
          }
        }
      ]
    },
    {
      "cell_type": "code",
      "source": [
        "print('Nilai Coherence Maksimal=',np.max(coherences))\n",
        "max_coherences.append(np.max(coherences))\n",
        "print('Nilai Coherence Minimal=',np.min(coherences))\n",
        "min_coherences.append(np.min(coherences))\n",
        "print('Nilai Rata-rata Coherence=',np.mean(coherences))\n",
        "mean_coherences.append(np.mean(coherences))\n",
        "print('Nilai Median Coherence=',np.median(coherences))\n",
        "med_coherences.append(np.median(coherences))"
      ],
      "metadata": {
        "id": "4VJYQRaIqUsE",
        "colab": {
          "base_uri": "https://localhost:8080/"
        },
        "outputId": "7e3afbc5-d81d-46a1-e25d-2038721f5e3e"
      },
      "execution_count": null,
      "outputs": [
        {
          "output_type": "stream",
          "name": "stdout",
          "text": [
            "Nilai Coherence Maksimal= 0.27501854046233115\n",
            "Nilai Coherence Minimal= 0.21799575076216743\n",
            "Nilai Rata-rata Coherence= 0.24883551423997713\n",
            "Nilai Median Coherence= 0.25023731665350696\n"
          ]
        }
      ]
    },
    {
      "cell_type": "code",
      "source": [
        "coherences_new=[]\n",
        "num_topics_new=[]\n",
        "for i in range(len(num_topics)):\n",
        "    coherences_new.append(coherences[i][0])\n",
        "    coherences_new.append(coherences[i][1])\n",
        "    num_topics_new.append(i+1)\n",
        "    num_topics_new.append(i+1)\n",
        "print('Parameter jumlah topik untuk Coherence Maksimal:',num_topics_new[coherences_new.index(np.max(coherences_new))])"
      ],
      "metadata": {
        "id": "ZF_VCjUtqUsF",
        "colab": {
          "base_uri": "https://localhost:8080/"
        },
        "outputId": "07b4d4cd-51e2-41dc-8741-9a90c1071a46"
      },
      "execution_count": null,
      "outputs": [
        {
          "output_type": "stream",
          "name": "stdout",
          "text": [
            "Parameter jumlah topik untuk Coherence Maksimal: 3\n"
          ]
        }
      ]
    },
    {
      "cell_type": "code",
      "source": [
        "df"
      ],
      "metadata": {
        "id": "mYUxSFK6qUsF",
        "colab": {
          "base_uri": "https://localhost:8080/",
          "height": 112
        },
        "outputId": "c69a3b23-0304-45b1-b273-40b1fd67d1a3"
      },
      "execution_count": null,
      "outputs": [
        {
          "output_type": "execute_result",
          "data": {
            "text/plain": [
              "         1         2         3         4         5         6         7   \\\n",
              "0  0.217996  0.248323  0.275019  0.246874  0.262169  0.252152  0.253660   \n",
              "1  0.217996  0.248323  0.275019  0.246874  0.262169  0.252152  0.253514   \n",
              "\n",
              "         8         9         10  \n",
              "0  0.252383  0.246317  0.233536  \n",
              "1  0.252383  0.246317  0.233536  "
            ],
            "text/html": [
              "\n",
              "  <div id=\"df-0d84cc43-a29c-4e18-83c0-d4217e180319\">\n",
              "    <div class=\"colab-df-container\">\n",
              "      <div>\n",
              "<style scoped>\n",
              "    .dataframe tbody tr th:only-of-type {\n",
              "        vertical-align: middle;\n",
              "    }\n",
              "\n",
              "    .dataframe tbody tr th {\n",
              "        vertical-align: top;\n",
              "    }\n",
              "\n",
              "    .dataframe thead th {\n",
              "        text-align: right;\n",
              "    }\n",
              "</style>\n",
              "<table border=\"1\" class=\"dataframe\">\n",
              "  <thead>\n",
              "    <tr style=\"text-align: right;\">\n",
              "      <th></th>\n",
              "      <th>1</th>\n",
              "      <th>2</th>\n",
              "      <th>3</th>\n",
              "      <th>4</th>\n",
              "      <th>5</th>\n",
              "      <th>6</th>\n",
              "      <th>7</th>\n",
              "      <th>8</th>\n",
              "      <th>9</th>\n",
              "      <th>10</th>\n",
              "    </tr>\n",
              "  </thead>\n",
              "  <tbody>\n",
              "    <tr>\n",
              "      <th>0</th>\n",
              "      <td>0.217996</td>\n",
              "      <td>0.248323</td>\n",
              "      <td>0.275019</td>\n",
              "      <td>0.246874</td>\n",
              "      <td>0.262169</td>\n",
              "      <td>0.252152</td>\n",
              "      <td>0.253660</td>\n",
              "      <td>0.252383</td>\n",
              "      <td>0.246317</td>\n",
              "      <td>0.233536</td>\n",
              "    </tr>\n",
              "    <tr>\n",
              "      <th>1</th>\n",
              "      <td>0.217996</td>\n",
              "      <td>0.248323</td>\n",
              "      <td>0.275019</td>\n",
              "      <td>0.246874</td>\n",
              "      <td>0.262169</td>\n",
              "      <td>0.252152</td>\n",
              "      <td>0.253514</td>\n",
              "      <td>0.252383</td>\n",
              "      <td>0.246317</td>\n",
              "      <td>0.233536</td>\n",
              "    </tr>\n",
              "  </tbody>\n",
              "</table>\n",
              "</div>\n",
              "      <button class=\"colab-df-convert\" onclick=\"convertToInteractive('df-0d84cc43-a29c-4e18-83c0-d4217e180319')\"\n",
              "              title=\"Convert this dataframe to an interactive table.\"\n",
              "              style=\"display:none;\">\n",
              "        \n",
              "  <svg xmlns=\"http://www.w3.org/2000/svg\" height=\"24px\"viewBox=\"0 0 24 24\"\n",
              "       width=\"24px\">\n",
              "    <path d=\"M0 0h24v24H0V0z\" fill=\"none\"/>\n",
              "    <path d=\"M18.56 5.44l.94 2.06.94-2.06 2.06-.94-2.06-.94-.94-2.06-.94 2.06-2.06.94zm-11 1L8.5 8.5l.94-2.06 2.06-.94-2.06-.94L8.5 2.5l-.94 2.06-2.06.94zm10 10l.94 2.06.94-2.06 2.06-.94-2.06-.94-.94-2.06-.94 2.06-2.06.94z\"/><path d=\"M17.41 7.96l-1.37-1.37c-.4-.4-.92-.59-1.43-.59-.52 0-1.04.2-1.43.59L10.3 9.45l-7.72 7.72c-.78.78-.78 2.05 0 2.83L4 21.41c.39.39.9.59 1.41.59.51 0 1.02-.2 1.41-.59l7.78-7.78 2.81-2.81c.8-.78.8-2.07 0-2.86zM5.41 20L4 18.59l7.72-7.72 1.47 1.35L5.41 20z\"/>\n",
              "  </svg>\n",
              "      </button>\n",
              "      \n",
              "  <style>\n",
              "    .colab-df-container {\n",
              "      display:flex;\n",
              "      flex-wrap:wrap;\n",
              "      gap: 12px;\n",
              "    }\n",
              "\n",
              "    .colab-df-convert {\n",
              "      background-color: #E8F0FE;\n",
              "      border: none;\n",
              "      border-radius: 50%;\n",
              "      cursor: pointer;\n",
              "      display: none;\n",
              "      fill: #1967D2;\n",
              "      height: 32px;\n",
              "      padding: 0 0 0 0;\n",
              "      width: 32px;\n",
              "    }\n",
              "\n",
              "    .colab-df-convert:hover {\n",
              "      background-color: #E2EBFA;\n",
              "      box-shadow: 0px 1px 2px rgba(60, 64, 67, 0.3), 0px 1px 3px 1px rgba(60, 64, 67, 0.15);\n",
              "      fill: #174EA6;\n",
              "    }\n",
              "\n",
              "    [theme=dark] .colab-df-convert {\n",
              "      background-color: #3B4455;\n",
              "      fill: #D2E3FC;\n",
              "    }\n",
              "\n",
              "    [theme=dark] .colab-df-convert:hover {\n",
              "      background-color: #434B5C;\n",
              "      box-shadow: 0px 1px 3px 1px rgba(0, 0, 0, 0.15);\n",
              "      filter: drop-shadow(0px 1px 2px rgba(0, 0, 0, 0.3));\n",
              "      fill: #FFFFFF;\n",
              "    }\n",
              "  </style>\n",
              "\n",
              "      <script>\n",
              "        const buttonEl =\n",
              "          document.querySelector('#df-0d84cc43-a29c-4e18-83c0-d4217e180319 button.colab-df-convert');\n",
              "        buttonEl.style.display =\n",
              "          google.colab.kernel.accessAllowed ? 'block' : 'none';\n",
              "\n",
              "        async function convertToInteractive(key) {\n",
              "          const element = document.querySelector('#df-0d84cc43-a29c-4e18-83c0-d4217e180319');\n",
              "          const dataTable =\n",
              "            await google.colab.kernel.invokeFunction('convertToInteractive',\n",
              "                                                     [key], {});\n",
              "          if (!dataTable) return;\n",
              "\n",
              "          const docLinkHtml = 'Like what you see? Visit the ' +\n",
              "            '<a target=\"_blank\" href=https://colab.research.google.com/notebooks/data_table.ipynb>data table notebook</a>'\n",
              "            + ' to learn more about interactive tables.';\n",
              "          element.innerHTML = '';\n",
              "          dataTable['output_type'] = 'display_data';\n",
              "          await google.colab.output.renderOutput(dataTable, element);\n",
              "          const docLink = document.createElement('div');\n",
              "          docLink.innerHTML = docLinkHtml;\n",
              "          element.appendChild(docLink);\n",
              "        }\n",
              "      </script>\n",
              "    </div>\n",
              "  </div>\n",
              "  "
            ]
          },
          "metadata": {},
          "execution_count": 199
        }
      ]
    },
    {
      "cell_type": "code",
      "source": [
        "top_words"
      ],
      "metadata": {
        "id": "KvxLvtNwqUsF",
        "colab": {
          "base_uri": "https://localhost:8080/"
        },
        "outputId": "8335f9e0-7008-4e4c-d536-3b98ee19fc28"
      },
      "execution_count": null,
      "outputs": [
        {
          "output_type": "execute_result",
          "data": {
            "text/plain": [
              "[['jadi', 'jd', 'yg', 'kalo', 'mau', 'sama', 'ya', 'aja', 'arb', 'om'],\n",
              " ['wonogiri',\n",
              "  'vihara',\n",
              "  'forum',\n",
              "  'petani',\n",
              "  'guruh',\n",
              "  'capres',\n",
              "  'rt',\n",
              "  'jokowi',\n",
              "  'islam',\n",
              "  'pdip'],\n",
              " ['hatta',\n",
              "  'menjadi',\n",
              "  'pencapresan',\n",
              "  'radjasa',\n",
              "  'evaluasi',\n",
              "  'membuka',\n",
              "  'umumnya',\n",
              "  'kemungkinan',\n",
              "  '2013pan',\n",
              "  '09'],\n",
              " ['bungkus',\n",
              "  'gimana',\n",
              "  'bung',\n",
              "  'rt',\n",
              "  'cawapres',\n",
              "  'underdog',\n",
              "  'prabowo',\n",
              "  'charta',\n",
              "  'politika',\n",
              "  'mampu'],\n",
              " ['rt',\n",
              "  'jd',\n",
              "  'jokowi',\n",
              "  'presiden',\n",
              "  'jadi',\n",
              "  'ya',\n",
              "  'arb',\n",
              "  'emoh',\n",
              "  'capres',\n",
              "  'aja'],\n",
              " ['yg',\n",
              "  'dan',\n",
              "  'saya',\n",
              "  'akan',\n",
              "  'prabowo',\n",
              "  'ada',\n",
              "  'jadi',\n",
              "  'capres',\n",
              "  'no',\n",
              "  'bisa'],\n",
              " ['2014',\n",
              "  'prabowo',\n",
              "  'indonesia',\n",
              "  'jadi',\n",
              "  'iskan',\n",
              "  'dahlan',\n",
              "  'presiden',\n",
              "  'mahfud',\n",
              "  'untuk',\n",
              "  'rt'],\n",
              " ['jadi',\n",
              "  'rt',\n",
              "  'prabowo',\n",
              "  'acak',\n",
              "  'presiden',\n",
              "  'jokowi',\n",
              "  'capres',\n",
              "  'dukung',\n",
              "  'nya',\n",
              "  'arb'],\n",
              " ['prabowo',\n",
              "  'jadi',\n",
              "  'harus',\n",
              "  'saya',\n",
              "  'itu',\n",
              "  'rt',\n",
              "  'dahlan',\n",
              "  'dan',\n",
              "  'presiden',\n",
              "  'capres'],\n",
              " ['capres',\n",
              "  'jd',\n",
              "  'deklarasi',\n",
              "  'rt',\n",
              "  'jk',\n",
              "  'hanura',\n",
              "  'tdk',\n",
              "  'wiranto',\n",
              "  'followradiopepatah',\n",
              "  'yg']]"
            ]
          },
          "metadata": {},
          "execution_count": 200
        }
      ]
    },
    {
      "cell_type": "markdown",
      "source": [
        "# **3. Parameter Menurut Open Access proceedings Journal of Physics: Conference series**"
      ],
      "metadata": {
        "id": "NhMRqAnLVxkP"
      }
    },
    {
      "cell_type": "markdown",
      "source": [
        "svd=5\n",
        "\n",
        "m =1.1\n",
        "\n",
        "n_topics = [2,3,4,10]\n",
        "\n",
        "initkm = KMeans(n_clusters=n_topics, n_init=1).fit(data)\n",
        "\n",
        "cntr, u = fcmeans(data.T, n_topics, m, error=0.005, maxiter=1000, init=initkm.cluster_centers_.T)"
      ],
      "metadata": {
        "id": "kIalWD7DVxkk"
      }
    },
    {
      "cell_type": "markdown",
      "source": [
        "## n_topics=2 (model-9)"
      ],
      "metadata": {
        "id": "zujThmVmqxRm"
      }
    },
    {
      "cell_type": "code",
      "source": [
        "## Model EFCM - Reduksi Dimensi\n",
        "from sklearn.decomposition import TruncatedSVD\n",
        "\n",
        "svd = TruncatedSVD(n_components = 5)\n",
        "data = svd.fit_transform(bert_emb)\n",
        "\n",
        "print(data.shape)"
      ],
      "metadata": {
        "id": "26Hzdn_aVxkk",
        "colab": {
          "base_uri": "https://localhost:8080/"
        },
        "outputId": "e7eec062-a6c0-4b5c-bcaa-86b22ea475f7"
      },
      "execution_count": null,
      "outputs": [
        {
          "output_type": "stream",
          "name": "stdout",
          "text": [
            "(1885, 5)\n"
          ]
        }
      ]
    },
    {
      "cell_type": "code",
      "source": [
        "## Model EFCM - Clustering\n",
        "from sklearn.cluster import KMeans\n",
        "import sys\n",
        "sys.path.insert(0, \"/content/drive/MyDrive/Deep Learning/FCMeans\")\n",
        "from fcmeans import fcmeans\n",
        "\n",
        "m =1.1\n",
        "n_topics = 2\n",
        "initkm = KMeans(n_clusters=n_topics, n_init=1).fit(data)\n",
        "cntr, u = fcmeans(data.T, n_topics, m, error=0.005, maxiter=1000, init=initkm.cluster_centers_.T)\n",
        "cluster_membership = np.argmax(u, axis=0)\n",
        "\n",
        "print(cluster_membership.shape)"
      ],
      "metadata": {
        "id": "zw1k6ZeVVxkl",
        "colab": {
          "base_uri": "https://localhost:8080/"
        },
        "outputId": "fc9be31b-b690-41ce-d264-368b64ce1e19"
      },
      "execution_count": null,
      "outputs": [
        {
          "output_type": "stream",
          "name": "stdout",
          "text": [
            "(1885,)\n"
          ]
        }
      ]
    },
    {
      "cell_type": "code",
      "source": [
        "### Topic Interpretation\n",
        "import numpy as np\n",
        "from sklearn.feature_extraction.text import CountVectorizer\n",
        "\n",
        "#### Class Based TFIDF (C-TFIDF) Functions\n",
        "def c_tf_idf(documents, m, ngram_range=(1, 1)):\n",
        "    count = CountVectorizer(ngram_range=ngram_range).fit(documents)\n",
        "    t = count.transform(documents).toarray()\n",
        "    w = t.sum(axis=1)\n",
        "    tf = np.divide(t.T, w)\n",
        "    sum_t = t.sum(axis=0)\n",
        "    idf = np.log(np.divide(m, sum_t)).reshape(-1, 1)\n",
        "    tf_idf = np.multiply(tf, idf)\n",
        "\n",
        "    return tf_idf, count\n",
        "\n",
        "def extract_top_words_per_topic(tf_idf, count, docs_per_topic, n = 10):\n",
        "    words = count.get_feature_names_out()\n",
        "    labels = list(docs_per_topic.Topic)\n",
        "    tf_idf_transposed = tf_idf.T\n",
        "    indices = tf_idf_transposed.argsort()[:, -n:]\n",
        "    top_n_words = {label: [(words[j], tf_idf_transposed[i][j]) for j in indices[i]][::-1] for i, label in enumerate(labels)}\n",
        "    top_words = []\n",
        "    for i in range(len(labels)):\n",
        "      top_words.append([words[j] for j in indices [i]][::-1])\n",
        "    return top_words\n",
        "\n",
        "#### Topic Representation\n",
        "docs = pd.DataFrame(list(dataset[\"Isi_Tweet\"]), columns=[\"Doc\"])\n",
        "docs['Topic'] = cluster_membership\n",
        "docs['Doc_ID'] = range(len(docs))\n",
        "docs_per_topic = docs.dropna(subset=['Doc']).groupby(['Topic'], as_index = False).agg({'Doc': ' '.join})\n",
        "\n",
        "tf_idf, count = c_tf_idf(docs_per_topic.Doc.values, m=len(docs))\n",
        "top_words = extract_top_words_per_topic(tf_idf, count, docs_per_topic, 10)\n",
        "print(top_words)"
      ],
      "metadata": {
        "id": "9WmdRPcKVxkl",
        "colab": {
          "base_uri": "https://localhost:8080/"
        },
        "outputId": "3eab526b-3691-400f-cb2c-f7ac8e7def41"
      },
      "execution_count": null,
      "outputs": [
        {
          "output_type": "stream",
          "name": "stdout",
          "text": [
            "[['yg', 'dan', 'jadi', 'capres', 'hatta', 'rt', 'jd', 'presiden', 'menjadi', 'jokowi'], ['rt', 'prabowo', 'jadi', 'capres', 'presiden', 'jokowi', 'dahlan', '2014', 'cawapres', 'indonesia']]\n"
          ]
        }
      ]
    },
    {
      "cell_type": "code",
      "source": [
        "### Topic Coherence\n",
        "import gensim\n",
        "from itertools import combinations\n",
        "import warnings\n",
        "warnings.filterwarnings(\"ignore\", category=FutureWarning)\n",
        "warnings.filterwarnings(\"ignore\", category=DeprecationWarning)\n",
        "\n",
        "### Memuat Model Word2Vec\n",
        "w2v_model = gensim.models.Word2Vec.load(\"/content/drive/MyDrive/Deep Learning/Data/word2vec/idwiki-berita/w2v-model.bin\")\n",
        "\n",
        "### Fungsi Menghitung Coherence\n",
        "def calculate_coherence( w2v_model, term_rankings ):\n",
        "    overall_coherence = 0.0\n",
        "    for topic_index in range(len(term_rankings)):\n",
        "        # check each pair of terms\n",
        "        pair_scores = []\n",
        "        for pair in combinations( term_rankings[topic_index], 2 ):\n",
        "            if pair[0] in w2v_model.wv.index_to_key:\n",
        "                if pair[1] in w2v_model.wv.index_to_key:\n",
        "                    pair_scores.append( abs(w2v_model.wv.similarity(pair[0], pair[1])) )\n",
        "                #else:\n",
        "                    #pair_scores.append(0)\n",
        "            #else:\n",
        "                #pair_scores.append(0)\n",
        "        \n",
        "        # get the mean for all pairs in this topic\n",
        "        if pair_scores:\n",
        "            topic_score = sum(pair_scores) / len(pair_scores)\n",
        "            overall_coherence += topic_score\n",
        "    \n",
        "    # get the mean score across all topics\n",
        "    return overall_coherence / len(term_rankings)\n",
        "\n",
        "\n",
        "### Menentukan Nilai Coherence dari Topik\n",
        "print(calculate_coherence(w2v_model, top_words))\n",
        "actual_coherences.append(calculate_coherence(w2v_model, top_words))"
      ],
      "metadata": {
        "id": "KrK140UEVxkm",
        "colab": {
          "base_uri": "https://localhost:8080/"
        },
        "outputId": "d2b4afd5-5da5-4570-d125-afe86ca47b1d"
      },
      "execution_count": null,
      "outputs": [
        {
          "output_type": "stream",
          "name": "stdout",
          "text": [
            "0.24832308248040225\n"
          ]
        }
      ]
    },
    {
      "cell_type": "code",
      "source": [
        "## Parameter Tuning\n",
        "### Jumlah Topik Optimal\n",
        "import pandas as pd\n",
        "\n",
        "num_topics = []\n",
        "coherences = []\n",
        "for n_topics in range(1,11,1):\n",
        "    print(\"The number of topics is \" + str(n_topics))\n",
        "    \n",
        "    coherence_sim = []\n",
        "    for i in range(1,3):\n",
        "        print(\"The simulation \" + str(i))\n",
        "               \n",
        "        #topic detection\n",
        "        m = 1.3\n",
        "        initkm = KMeans(n_clusters=n_topics, n_init=1).fit(data)\n",
        "        cntr, u = fcmeans(data.T, n_topics, m, error=0.005, maxiter=1000, init=initkm.cluster_centers_.T)\n",
        "        cluster_membership = np.argmax(u, axis=0)\n",
        "        \n",
        "        docs = pd.DataFrame(list(dataset[\"Isi_Tweet\"]), columns=[\"Doc\"])\n",
        "        docs['Topic'] = cluster_membership\n",
        "        docs['Doc_ID'] = range(len(docs))\n",
        "        docs_per_topic = docs.dropna(subset=['Doc']).groupby(['Topic'], as_index = False).agg({'Doc': ' '.join})\n",
        "        \n",
        "        tf_idf, count = c_tf_idf(docs_per_topic.Doc.values, m=len(docs))\n",
        "        top_words = extract_top_words_per_topic(tf_idf, count, docs_per_topic, 10)\n",
        "        \n",
        "        coherence_sim.append(calculate_coherence(w2v_model, top_words))\n",
        "        print('Coherence value : ',coherence_sim[i-1])\n",
        "        \n",
        "    num_topics.append(n_topics)\n",
        "    coherences.append(coherence_sim)\n",
        "\n",
        "### Visualisasi\n",
        "df = pd.DataFrame.from_records(coherences).T\n",
        "df.columns = num_topics\n",
        "boxplot = df.boxplot(grid=False)\n",
        "boxplot.set_xlabel(\"Number of Topics\")\n",
        "boxplot.set_ylabel(\"Coherence\")"
      ],
      "metadata": {
        "id": "6mKcvjpKVxkm",
        "colab": {
          "base_uri": "https://localhost:8080/",
          "height": 1165
        },
        "outputId": "e8182bd0-9c3a-4d9f-d8a0-4e41590d865b"
      },
      "execution_count": null,
      "outputs": [
        {
          "output_type": "stream",
          "name": "stdout",
          "text": [
            "The number of topics is 1\n",
            "The simulation 1\n",
            "Coherence value :  0.21799575076216743\n",
            "The simulation 2\n",
            "Coherence value :  0.21799575076216743\n",
            "The number of topics is 2\n",
            "The simulation 1\n",
            "Coherence value :  0.24832308248040225\n",
            "The simulation 2\n",
            "Coherence value :  0.24832308248040225\n",
            "The number of topics is 3\n",
            "The simulation 1\n",
            "Coherence value :  0.2684237623892764\n",
            "The simulation 2\n",
            "Coherence value :  0.2684237623892764\n",
            "The number of topics is 4\n",
            "The simulation 1\n",
            "Coherence value :  0.24687365373773945\n",
            "The simulation 2\n",
            "Coherence value :  0.24687365373773945\n",
            "The number of topics is 5\n",
            "The simulation 1\n",
            "Coherence value :  0.24240177230584242\n",
            "The simulation 2\n",
            "Coherence value :  0.24240177230584242\n",
            "The number of topics is 6\n",
            "The simulation 1\n",
            "Coherence value :  0.2553428252400072\n",
            "The simulation 2\n",
            "Coherence value :  0.2553428252400072\n",
            "The number of topics is 7\n",
            "The simulation 1\n",
            "Coherence value :  0.25132449132024975\n",
            "The simulation 2\n",
            "Coherence value :  0.25132449132024975\n",
            "The number of topics is 8\n",
            "The simulation 1\n",
            "Coherence value :  0.253433620363533\n",
            "The simulation 2\n",
            "Coherence value :  0.253433620363533\n",
            "The number of topics is 9\n",
            "The simulation 1\n",
            "Coherence value :  0.24041962050052598\n",
            "The simulation 2\n",
            "Coherence value :  0.24222817192645824\n",
            "The number of topics is 10\n",
            "The simulation 1\n",
            "Coherence value :  0.23818264431009686\n",
            "The simulation 2\n",
            "Coherence value :  0.2462992403050146\n"
          ]
        },
        {
          "output_type": "execute_result",
          "data": {
            "text/plain": [
              "Text(0, 0.5, 'Coherence')"
            ]
          },
          "metadata": {},
          "execution_count": 205
        },
        {
          "output_type": "display_data",
          "data": {
            "text/plain": [
              "<Figure size 432x288 with 1 Axes>"
            ],
            "image/png": "[encoded data removed]"
          },
          "metadata": {
            "needs_background": "light"
          }
        }
      ]
    },
    {
      "cell_type": "code",
      "source": [
        "print('Nilai Coherence Maksimal=',np.max(coherences))\n",
        "max_coherences.append(np.max(coherences))\n",
        "print('Nilai Coherence Minimal=',np.min(coherences))\n",
        "min_coherences.append(np.min(coherences))\n",
        "print('Nilai Rata-rata Coherence=',np.mean(coherences))\n",
        "mean_coherences.append(np.mean(coherences))\n",
        "print('Nilai Median Coherence=',np.median(coherences))\n",
        "med_coherences.append(np.median(coherences))"
      ],
      "metadata": {
        "id": "6rkadkiWsUlS",
        "colab": {
          "base_uri": "https://localhost:8080/"
        },
        "outputId": "81bdd059-1249-4821-f17e-9e1bf7c07050"
      },
      "execution_count": null,
      "outputs": [
        {
          "output_type": "stream",
          "name": "stdout",
          "text": [
            "Nilai Coherence Maksimal= 0.2684237623892764\n",
            "Nilai Coherence Minimal= 0.21799575076216743\n",
            "Nilai Rata-rata Coherence= 0.24676837971202653\n",
            "Nilai Median Coherence= 0.24759836810907085\n"
          ]
        }
      ]
    },
    {
      "cell_type": "code",
      "source": [
        "coherences_new=[]\n",
        "num_topics_new=[]\n",
        "for i in range(len(num_topics)):\n",
        "    coherences_new.append(coherences[i][0])\n",
        "    coherences_new.append(coherences[i][1])\n",
        "    num_topics_new.append(i+1)\n",
        "    num_topics_new.append(i+1)\n",
        "print('Parameter jumlah topik untuk Coherence Maksimal:',num_topics_new[coherences_new.index(np.max(coherences_new))])"
      ],
      "metadata": {
        "id": "mtmBKB_RHdoG",
        "colab": {
          "base_uri": "https://localhost:8080/"
        },
        "outputId": "e8afba43-3d70-4bd6-e71c-05736718f5e1"
      },
      "execution_count": null,
      "outputs": [
        {
          "output_type": "stream",
          "name": "stdout",
          "text": [
            "Parameter jumlah topik untuk Coherence Maksimal: 3\n"
          ]
        }
      ]
    },
    {
      "cell_type": "code",
      "source": [
        "df"
      ],
      "metadata": {
        "id": "4yhzn79_Vxkn",
        "colab": {
          "base_uri": "https://localhost:8080/",
          "height": 112
        },
        "outputId": "31ed83f1-7418-4d9a-a236-293934f4b245"
      },
      "execution_count": null,
      "outputs": [
        {
          "output_type": "execute_result",
          "data": {
            "text/plain": [
              "         1         2         3         4         5         6         7   \\\n",
              "0  0.217996  0.248323  0.268424  0.246874  0.242402  0.255343  0.251324   \n",
              "1  0.217996  0.248323  0.268424  0.246874  0.242402  0.255343  0.251324   \n",
              "\n",
              "         8         9         10  \n",
              "0  0.253434  0.240420  0.238183  \n",
              "1  0.253434  0.242228  0.246299  "
            ],
            "text/html": [
              "\n",
              "  <div id=\"df-0f5491a3-0186-4246-b38d-586ba80da9ec\">\n",
              "    <div class=\"colab-df-container\">\n",
              "      <div>\n",
              "<style scoped>\n",
              "    .dataframe tbody tr th:only-of-type {\n",
              "        vertical-align: middle;\n",
              "    }\n",
              "\n",
              "    .dataframe tbody tr th {\n",
              "        vertical-align: top;\n",
              "    }\n",
              "\n",
              "    .dataframe thead th {\n",
              "        text-align: right;\n",
              "    }\n",
              "</style>\n",
              "<table border=\"1\" class=\"dataframe\">\n",
              "  <thead>\n",
              "    <tr style=\"text-align: right;\">\n",
              "      <th></th>\n",
              "      <th>1</th>\n",
              "      <th>2</th>\n",
              "      <th>3</th>\n",
              "      <th>4</th>\n",
              "      <th>5</th>\n",
              "      <th>6</th>\n",
              "      <th>7</th>\n",
              "      <th>8</th>\n",
              "      <th>9</th>\n",
              "      <th>10</th>\n",
              "    </tr>\n",
              "  </thead>\n",
              "  <tbody>\n",
              "    <tr>\n",
              "      <th>0</th>\n",
              "      <td>0.217996</td>\n",
              "      <td>0.248323</td>\n",
              "      <td>0.268424</td>\n",
              "      <td>0.246874</td>\n",
              "      <td>0.242402</td>\n",
              "      <td>0.255343</td>\n",
              "      <td>0.251324</td>\n",
              "      <td>0.253434</td>\n",
              "      <td>0.240420</td>\n",
              "      <td>0.238183</td>\n",
              "    </tr>\n",
              "    <tr>\n",
              "      <th>1</th>\n",
              "      <td>0.217996</td>\n",
              "      <td>0.248323</td>\n",
              "      <td>0.268424</td>\n",
              "      <td>0.246874</td>\n",
              "      <td>0.242402</td>\n",
              "      <td>0.255343</td>\n",
              "      <td>0.251324</td>\n",
              "      <td>0.253434</td>\n",
              "      <td>0.242228</td>\n",
              "      <td>0.246299</td>\n",
              "    </tr>\n",
              "  </tbody>\n",
              "</table>\n",
              "</div>\n",
              "      <button class=\"colab-df-convert\" onclick=\"convertToInteractive('df-0f5491a3-0186-4246-b38d-586ba80da9ec')\"\n",
              "              title=\"Convert this dataframe to an interactive table.\"\n",
              "              style=\"display:none;\">\n",
              "        \n",
              "  <svg xmlns=\"http://www.w3.org/2000/svg\" height=\"24px\"viewBox=\"0 0 24 24\"\n",
              "       width=\"24px\">\n",
              "    <path d=\"M0 0h24v24H0V0z\" fill=\"none\"/>\n",
              "    <path d=\"M18.56 5.44l.94 2.06.94-2.06 2.06-.94-2.06-.94-.94-2.06-.94 2.06-2.06.94zm-11 1L8.5 8.5l.94-2.06 2.06-.94-2.06-.94L8.5 2.5l-.94 2.06-2.06.94zm10 10l.94 2.06.94-2.06 2.06-.94-2.06-.94-.94-2.06-.94 2.06-2.06.94z\"/><path d=\"M17.41 7.96l-1.37-1.37c-.4-.4-.92-.59-1.43-.59-.52 0-1.04.2-1.43.59L10.3 9.45l-7.72 7.72c-.78.78-.78 2.05 0 2.83L4 21.41c.39.39.9.59 1.41.59.51 0 1.02-.2 1.41-.59l7.78-7.78 2.81-2.81c.8-.78.8-2.07 0-2.86zM5.41 20L4 18.59l7.72-7.72 1.47 1.35L5.41 20z\"/>\n",
              "  </svg>\n",
              "      </button>\n",
              "      \n",
              "  <style>\n",
              "    .colab-df-container {\n",
              "      display:flex;\n",
              "      flex-wrap:wrap;\n",
              "      gap: 12px;\n",
              "    }\n",
              "\n",
              "    .colab-df-convert {\n",
              "      background-color: #E8F0FE;\n",
              "      border: none;\n",
              "      border-radius: 50%;\n",
              "      cursor: pointer;\n",
              "      display: none;\n",
              "      fill: #1967D2;\n",
              "      height: 32px;\n",
              "      padding: 0 0 0 0;\n",
              "      width: 32px;\n",
              "    }\n",
              "\n",
              "    .colab-df-convert:hover {\n",
              "      background-color: #E2EBFA;\n",
              "      box-shadow: 0px 1px 2px rgba(60, 64, 67, 0.3), 0px 1px 3px 1px rgba(60, 64, 67, 0.15);\n",
              "      fill: #174EA6;\n",
              "    }\n",
              "\n",
              "    [theme=dark] .colab-df-convert {\n",
              "      background-color: #3B4455;\n",
              "      fill: #D2E3FC;\n",
              "    }\n",
              "\n",
              "    [theme=dark] .colab-df-convert:hover {\n",
              "      background-color: #434B5C;\n",
              "      box-shadow: 0px 1px 3px 1px rgba(0, 0, 0, 0.15);\n",
              "      filter: drop-shadow(0px 1px 2px rgba(0, 0, 0, 0.3));\n",
              "      fill: #FFFFFF;\n",
              "    }\n",
              "  </style>\n",
              "\n",
              "      <script>\n",
              "        const buttonEl =\n",
              "          document.querySelector('#df-0f5491a3-0186-4246-b38d-586ba80da9ec button.colab-df-convert');\n",
              "        buttonEl.style.display =\n",
              "          google.colab.kernel.accessAllowed ? 'block' : 'none';\n",
              "\n",
              "        async function convertToInteractive(key) {\n",
              "          const element = document.querySelector('#df-0f5491a3-0186-4246-b38d-586ba80da9ec');\n",
              "          const dataTable =\n",
              "            await google.colab.kernel.invokeFunction('convertToInteractive',\n",
              "                                                     [key], {});\n",
              "          if (!dataTable) return;\n",
              "\n",
              "          const docLinkHtml = 'Like what you see? Visit the ' +\n",
              "            '<a target=\"_blank\" href=https://colab.research.google.com/notebooks/data_table.ipynb>data table notebook</a>'\n",
              "            + ' to learn more about interactive tables.';\n",
              "          element.innerHTML = '';\n",
              "          dataTable['output_type'] = 'display_data';\n",
              "          await google.colab.output.renderOutput(dataTable, element);\n",
              "          const docLink = document.createElement('div');\n",
              "          docLink.innerHTML = docLinkHtml;\n",
              "          element.appendChild(docLink);\n",
              "        }\n",
              "      </script>\n",
              "    </div>\n",
              "  </div>\n",
              "  "
            ]
          },
          "metadata": {},
          "execution_count": 208
        }
      ]
    },
    {
      "cell_type": "code",
      "source": [
        "top_words"
      ],
      "metadata": {
        "id": "FcEGS_peVxkn",
        "colab": {
          "base_uri": "https://localhost:8080/"
        },
        "outputId": "dbbaa6d5-425f-4618-8bcf-0c365c444140"
      },
      "execution_count": null,
      "outputs": [
        {
          "output_type": "execute_result",
          "data": {
            "text/plain": [
              "[['prabowo',\n",
              "  'indonesia',\n",
              "  'yg',\n",
              "  'jadi',\n",
              "  'akan',\n",
              "  'dan',\n",
              "  'jk',\n",
              "  'hanya',\n",
              "  'tdk',\n",
              "  'di'],\n",
              " ['rt',\n",
              "  'capres',\n",
              "  'wiranto',\n",
              "  'dahlan',\n",
              "  'jokowi',\n",
              "  'deklarasi',\n",
              "  'yakin',\n",
              "  'jd',\n",
              "  'jadi',\n",
              "  'hanura'],\n",
              " ['rt',\n",
              "  'prabowo',\n",
              "  'cawapres',\n",
              "  'capres',\n",
              "  'gimana',\n",
              "  'bung',\n",
              "  'bungkus',\n",
              "  'underdog',\n",
              "  'jokowi',\n",
              "  'charta'],\n",
              " ['islam',\n",
              "  'wonogiri',\n",
              "  'vihara',\n",
              "  'capres',\n",
              "  'forum',\n",
              "  'petani',\n",
              "  'jokowi',\n",
              "  'galang',\n",
              "  'rt',\n",
              "  'partai2'],\n",
              " ['hatta',\n",
              "  'menjadi',\n",
              "  'membuka',\n",
              "  'evaluasi',\n",
              "  'pencapresan',\n",
              "  'radjasa',\n",
              "  'umumnya',\n",
              "  'kemungkinan',\n",
              "  '2013pan',\n",
              "  '09'],\n",
              " ['rt',\n",
              "  'jokowi',\n",
              "  'jd',\n",
              "  'ya',\n",
              "  'jadi',\n",
              "  'presiden',\n",
              "  'arb',\n",
              "  'emoh',\n",
              "  'aja',\n",
              "  'capres'],\n",
              " ['jadi',\n",
              "  'rt',\n",
              "  'acak',\n",
              "  'prabowo',\n",
              "  'presiden',\n",
              "  'apa',\n",
              "  'jokowi',\n",
              "  'guruh',\n",
              "  'dukung',\n",
              "  'aku'],\n",
              " ['yg', 'dan', 'mau', 'no', 'jk', 'capres', 'mikir', 'jadi', 'ndak', 'saya'],\n",
              " ['2014',\n",
              "  'prabowo',\n",
              "  'dahlan',\n",
              "  'presiden',\n",
              "  'adalah',\n",
              "  'md',\n",
              "  'klo',\n",
              "  'mahfud',\n",
              "  'indonesia',\n",
              "  'iskan'],\n",
              " ['jadi',\n",
              "  'jd',\n",
              "  'yg',\n",
              "  'sama',\n",
              "  'kalo',\n",
              "  'ya',\n",
              "  'presiden',\n",
              "  'optimis',\n",
              "  'di',\n",
              "  'aja']]"
            ]
          },
          "metadata": {},
          "execution_count": 209
        }
      ]
    },
    {
      "cell_type": "markdown",
      "source": [
        "## n_topics=3 (model-10)"
      ],
      "metadata": {
        "id": "AGoZJdx8sFzi"
      }
    },
    {
      "cell_type": "code",
      "source": [
        "## Model EFCM - Reduksi Dimensi\n",
        "from sklearn.decomposition import TruncatedSVD\n",
        "\n",
        "svd = TruncatedSVD(n_components = 5)\n",
        "data = svd.fit_transform(bert_emb)\n",
        "\n",
        "print(data.shape)"
      ],
      "metadata": {
        "id": "FLz5pFC7sFzt",
        "colab": {
          "base_uri": "https://localhost:8080/"
        },
        "outputId": "5beedcf6-5895-4b33-809a-988bbb6a31be"
      },
      "execution_count": null,
      "outputs": [
        {
          "output_type": "stream",
          "name": "stdout",
          "text": [
            "(1885, 5)\n"
          ]
        }
      ]
    },
    {
      "cell_type": "code",
      "source": [
        "## Model EFCM - Clustering\n",
        "from sklearn.cluster import KMeans\n",
        "import sys\n",
        "sys.path.insert(0, \"/content/drive/MyDrive/Deep Learning/FCMeans\")\n",
        "from fcmeans import fcmeans\n",
        "\n",
        "m =1.1\n",
        "n_topics = 3\n",
        "initkm = KMeans(n_clusters=n_topics, n_init=1).fit(data)\n",
        "cntr, u = fcmeans(data.T, n_topics, m, error=0.005, maxiter=1000, init=initkm.cluster_centers_.T)\n",
        "cluster_membership = np.argmax(u, axis=0)\n",
        "\n",
        "print(cluster_membership.shape)"
      ],
      "metadata": {
        "id": "OHb8msaAsFzt",
        "colab": {
          "base_uri": "https://localhost:8080/"
        },
        "outputId": "a59914a2-7eda-42fa-be3c-ec61053f7d17"
      },
      "execution_count": null,
      "outputs": [
        {
          "output_type": "stream",
          "name": "stdout",
          "text": [
            "(1885,)\n"
          ]
        }
      ]
    },
    {
      "cell_type": "code",
      "source": [
        "### Topic Interpretation\n",
        "import numpy as np\n",
        "from sklearn.feature_extraction.text import CountVectorizer\n",
        "\n",
        "#### Class Based TFIDF (C-TFIDF) Functions\n",
        "def c_tf_idf(documents, m, ngram_range=(1, 1)):\n",
        "    count = CountVectorizer(ngram_range=ngram_range).fit(documents)\n",
        "    t = count.transform(documents).toarray()\n",
        "    w = t.sum(axis=1)\n",
        "    tf = np.divide(t.T, w)\n",
        "    sum_t = t.sum(axis=0)\n",
        "    idf = np.log(np.divide(m, sum_t)).reshape(-1, 1)\n",
        "    tf_idf = np.multiply(tf, idf)\n",
        "\n",
        "    return tf_idf, count\n",
        "\n",
        "def extract_top_words_per_topic(tf_idf, count, docs_per_topic, n = 10):\n",
        "    words = count.get_feature_names_out()\n",
        "    labels = list(docs_per_topic.Topic)\n",
        "    tf_idf_transposed = tf_idf.T\n",
        "    indices = tf_idf_transposed.argsort()[:, -n:]\n",
        "    top_n_words = {label: [(words[j], tf_idf_transposed[i][j]) for j in indices[i]][::-1] for i, label in enumerate(labels)}\n",
        "    top_words = []\n",
        "    for i in range(len(labels)):\n",
        "      top_words.append([words[j] for j in indices [i]][::-1])\n",
        "    return top_words\n",
        "\n",
        "#### Topic Representation\n",
        "docs = pd.DataFrame(list(dataset[\"Isi_Tweet\"]), columns=[\"Doc\"])\n",
        "docs['Topic'] = cluster_membership\n",
        "docs['Doc_ID'] = range(len(docs))\n",
        "docs_per_topic = docs.dropna(subset=['Doc']).groupby(['Topic'], as_index = False).agg({'Doc': ' '.join})\n",
        "\n",
        "tf_idf, count = c_tf_idf(docs_per_topic.Doc.values, m=len(docs))\n",
        "top_words = extract_top_words_per_topic(tf_idf, count, docs_per_topic, 10)\n",
        "print(top_words)"
      ],
      "metadata": {
        "id": "DJWwXK99sFzu",
        "colab": {
          "base_uri": "https://localhost:8080/"
        },
        "outputId": "c1f1f78e-8048-442d-d74e-d32735c0776f"
      },
      "execution_count": null,
      "outputs": [
        {
          "output_type": "stream",
          "name": "stdout",
          "text": [
            "[['jadi', 'jd', 'yg', 'rt', 'jokowi', 'presiden', 'capres', 'arb', 'mau', 'di'], ['rt', 'prabowo', 'jadi', 'capres', 'jokowi', 'presiden', 'dukung', 'cawapres', 'dahlan', 'arb'], ['menjadi', 'hatta', 'dan', 'sebagai', 'mantan', 'tidak', 'tokoh', 'jusuf', 'wakil', 'kalla']]\n"
          ]
        }
      ]
    },
    {
      "cell_type": "code",
      "source": [
        "### Topic Coherence\n",
        "import gensim\n",
        "from itertools import combinations\n",
        "import warnings\n",
        "warnings.filterwarnings(\"ignore\", category=FutureWarning)\n",
        "warnings.filterwarnings(\"ignore\", category=DeprecationWarning)\n",
        "\n",
        "### Memuat Model Word2Vec\n",
        "w2v_model = gensim.models.Word2Vec.load(\"/content/drive/MyDrive/Deep Learning/Data/word2vec/idwiki-berita/w2v-model.bin\")\n",
        "\n",
        "### Fungsi Menghitung Coherence\n",
        "def calculate_coherence( w2v_model, term_rankings ):\n",
        "    overall_coherence = 0.0\n",
        "    for topic_index in range(len(term_rankings)):\n",
        "        # check each pair of terms\n",
        "        pair_scores = []\n",
        "        for pair in combinations( term_rankings[topic_index], 2 ):\n",
        "            if pair[0] in w2v_model.wv.index_to_key:\n",
        "                if pair[1] in w2v_model.wv.index_to_key:\n",
        "                    pair_scores.append( abs(w2v_model.wv.similarity(pair[0], pair[1])) )\n",
        "                #else:\n",
        "                    #pair_scores.append(0)\n",
        "            #else:\n",
        "                #pair_scores.append(0)\n",
        "        \n",
        "        # get the mean for all pairs in this topic\n",
        "        if pair_scores:\n",
        "            topic_score = sum(pair_scores) / len(pair_scores)\n",
        "            overall_coherence += topic_score\n",
        "    \n",
        "    # get the mean score across all topics\n",
        "    return overall_coherence / len(term_rankings)\n",
        "\n",
        "\n",
        "### Menentukan Nilai Coherence dari Topik\n",
        "print(calculate_coherence(w2v_model, top_words))\n",
        "actual_coherences.append(calculate_coherence(w2v_model, top_words))"
      ],
      "metadata": {
        "id": "fJmIt8p1sFzu",
        "colab": {
          "base_uri": "https://localhost:8080/"
        },
        "outputId": "64687079-cd5d-4d6c-94ca-eebc0f17a758"
      },
      "execution_count": null,
      "outputs": [
        {
          "output_type": "stream",
          "name": "stdout",
          "text": [
            "0.27501854046233115\n"
          ]
        }
      ]
    },
    {
      "cell_type": "code",
      "source": [
        "## Parameter Tuning\n",
        "### Jumlah Topik Optimal\n",
        "import pandas as pd\n",
        "\n",
        "num_topics = []\n",
        "coherences = []\n",
        "for n_topics in range(1,11,1):\n",
        "    print(\"The number of topics is \" + str(n_topics))\n",
        "    \n",
        "    coherence_sim = []\n",
        "    for i in range(1,3):\n",
        "        print(\"The simulation \" + str(i))\n",
        "               \n",
        "        #topic detection\n",
        "        m = 1.3\n",
        "        initkm = KMeans(n_clusters=n_topics, n_init=1).fit(data)\n",
        "        cntr, u = fcmeans(data.T, n_topics, m, error=0.005, maxiter=1000, init=initkm.cluster_centers_.T)\n",
        "        cluster_membership = np.argmax(u, axis=0)\n",
        "        \n",
        "        docs = pd.DataFrame(list(dataset[\"Isi_Tweet\"]), columns=[\"Doc\"])\n",
        "        docs['Topic'] = cluster_membership\n",
        "        docs['Doc_ID'] = range(len(docs))\n",
        "        docs_per_topic = docs.dropna(subset=['Doc']).groupby(['Topic'], as_index = False).agg({'Doc': ' '.join})\n",
        "        \n",
        "        tf_idf, count = c_tf_idf(docs_per_topic.Doc.values, m=len(docs))\n",
        "        top_words = extract_top_words_per_topic(tf_idf, count, docs_per_topic, 10)\n",
        "        \n",
        "        coherence_sim.append(calculate_coherence(w2v_model, top_words))\n",
        "        print('Coherence value : ',coherence_sim[i-1])\n",
        "        \n",
        "    num_topics.append(n_topics)\n",
        "    coherences.append(coherence_sim)\n",
        "\n",
        "### Visualisasi\n",
        "df = pd.DataFrame.from_records(coherences).T\n",
        "df.columns = num_topics\n",
        "boxplot = df.boxplot(grid=False)\n",
        "boxplot.set_xlabel(\"Number of Topics\")\n",
        "boxplot.set_ylabel(\"Coherence\")"
      ],
      "metadata": {
        "id": "UEV7JL8psFzu",
        "colab": {
          "base_uri": "https://localhost:8080/",
          "height": 1165
        },
        "outputId": "85b37481-327a-4f09-dd78-595959aaafd9"
      },
      "execution_count": null,
      "outputs": [
        {
          "output_type": "stream",
          "name": "stdout",
          "text": [
            "The number of topics is 1\n",
            "The simulation 1\n",
            "Coherence value :  0.21799575076216743\n",
            "The simulation 2\n",
            "Coherence value :  0.21799575076216743\n",
            "The number of topics is 2\n",
            "The simulation 1\n",
            "Coherence value :  0.24832308248040225\n",
            "The simulation 2\n",
            "Coherence value :  0.24832308248040225\n",
            "The number of topics is 3\n",
            "The simulation 1\n",
            "Coherence value :  0.2684237623892764\n",
            "The simulation 2\n",
            "Coherence value :  0.2684237623892764\n",
            "The number of topics is 4\n",
            "The simulation 1\n",
            "Coherence value :  0.24687365373773945\n",
            "The simulation 2\n",
            "Coherence value :  0.24687365373773945\n",
            "The number of topics is 5\n",
            "The simulation 1\n",
            "Coherence value :  0.24240177230584242\n",
            "The simulation 2\n",
            "Coherence value :  0.24240177230584242\n",
            "The number of topics is 6\n",
            "The simulation 1\n",
            "Coherence value :  0.2553428252400071\n",
            "The simulation 2\n",
            "Coherence value :  0.2553428252400072\n",
            "The number of topics is 7\n",
            "The simulation 1\n",
            "Coherence value :  0.2513244913202497\n",
            "The simulation 2\n",
            "Coherence value :  0.25132449132024975\n",
            "The number of topics is 8\n",
            "The simulation 1\n",
            "Coherence value :  0.253433620363533\n",
            "The simulation 2\n",
            "Coherence value :  0.253433620363533\n",
            "The number of topics is 9\n",
            "The simulation 1\n",
            "Coherence value :  0.24041962050052598\n",
            "The simulation 2\n",
            "Coherence value :  0.23902220839447294\n",
            "The number of topics is 10\n",
            "The simulation 1\n",
            "Coherence value :  0.23818264431009686\n",
            "The simulation 2\n",
            "Coherence value :  0.23818264431009686\n"
          ]
        },
        {
          "output_type": "execute_result",
          "data": {
            "text/plain": [
              "Text(0, 0.5, 'Coherence')"
            ]
          },
          "metadata": {},
          "execution_count": 214
        },
        {
          "output_type": "display_data",
          "data": {
            "text/plain": [
              "<Figure size 432x288 with 1 Axes>"
            ],
            "image/png": "[encoded data removed]"
          },
          "metadata": {
            "needs_background": "light"
          }
        }
      ]
    },
    {
      "cell_type": "code",
      "source": [
        "print('Nilai Coherence Maksimal=',np.max(coherences))\n",
        "max_coherences.append(np.max(coherences))\n",
        "print('Nilai Coherence Minimal=',np.min(coherences))\n",
        "min_coherences.append(np.min(coherences))\n",
        "print('Nilai Rata-rata Coherence=',np.mean(coherences))\n",
        "mean_coherences.append(np.mean(coherences))\n",
        "print('Nilai Median Coherence=',np.median(coherences))\n",
        "med_coherences.append(np.median(coherences))"
      ],
      "metadata": {
        "id": "uCpknHpPsFzv",
        "colab": {
          "base_uri": "https://localhost:8080/"
        },
        "outputId": "8ce66cab-6a19-4339-b60b-736ffd3f01bd"
      },
      "execution_count": null,
      "outputs": [
        {
          "output_type": "stream",
          "name": "stdout",
          "text": [
            "Nilai Coherence Maksimal= 0.2684237623892764\n",
            "Nilai Coherence Minimal= 0.21799575076216743\n",
            "Nilai Rata-rata Coherence= 0.2462022517356814\n",
            "Nilai Median Coherence= 0.24759836810907085\n"
          ]
        }
      ]
    },
    {
      "cell_type": "code",
      "source": [
        "coherences_new=[]\n",
        "num_topics_new=[]\n",
        "for i in range(len(num_topics)):\n",
        "    coherences_new.append(coherences[i][0])\n",
        "    coherences_new.append(coherences[i][1])\n",
        "    num_topics_new.append(i+1)\n",
        "    num_topics_new.append(i+1)\n",
        "print('Parameter jumlah topik untuk Coherence Maksimal:',num_topics_new[coherences_new.index(np.max(coherences_new))])"
      ],
      "metadata": {
        "id": "G2We_J2ysFzv",
        "colab": {
          "base_uri": "https://localhost:8080/"
        },
        "outputId": "c77c76bf-87be-4c09-ac5c-b7bdb4fd01ef"
      },
      "execution_count": null,
      "outputs": [
        {
          "output_type": "stream",
          "name": "stdout",
          "text": [
            "Parameter jumlah topik untuk Coherence Maksimal: 3\n"
          ]
        }
      ]
    },
    {
      "cell_type": "code",
      "source": [
        "df"
      ],
      "metadata": {
        "id": "-u7utwz5sFzw",
        "colab": {
          "base_uri": "https://localhost:8080/",
          "height": 112
        },
        "outputId": "59fd3852-0f4a-4ad7-8e51-e63f17184ce1"
      },
      "execution_count": null,
      "outputs": [
        {
          "output_type": "execute_result",
          "data": {
            "text/plain": [
              "         1         2         3         4         5         6         7   \\\n",
              "0  0.217996  0.248323  0.268424  0.246874  0.242402  0.255343  0.251324   \n",
              "1  0.217996  0.248323  0.268424  0.246874  0.242402  0.255343  0.251324   \n",
              "\n",
              "         8         9         10  \n",
              "0  0.253434  0.240420  0.238183  \n",
              "1  0.253434  0.239022  0.238183  "
            ],
            "text/html": [
              "\n",
              "  <div id=\"df-cbad6b11-ec8e-4b46-bb03-264281d3c93c\">\n",
              "    <div class=\"colab-df-container\">\n",
              "      <div>\n",
              "<style scoped>\n",
              "    .dataframe tbody tr th:only-of-type {\n",
              "        vertical-align: middle;\n",
              "    }\n",
              "\n",
              "    .dataframe tbody tr th {\n",
              "        vertical-align: top;\n",
              "    }\n",
              "\n",
              "    .dataframe thead th {\n",
              "        text-align: right;\n",
              "    }\n",
              "</style>\n",
              "<table border=\"1\" class=\"dataframe\">\n",
              "  <thead>\n",
              "    <tr style=\"text-align: right;\">\n",
              "      <th></th>\n",
              "      <th>1</th>\n",
              "      <th>2</th>\n",
              "      <th>3</th>\n",
              "      <th>4</th>\n",
              "      <th>5</th>\n",
              "      <th>6</th>\n",
              "      <th>7</th>\n",
              "      <th>8</th>\n",
              "      <th>9</th>\n",
              "      <th>10</th>\n",
              "    </tr>\n",
              "  </thead>\n",
              "  <tbody>\n",
              "    <tr>\n",
              "      <th>0</th>\n",
              "      <td>0.217996</td>\n",
              "      <td>0.248323</td>\n",
              "      <td>0.268424</td>\n",
              "      <td>0.246874</td>\n",
              "      <td>0.242402</td>\n",
              "      <td>0.255343</td>\n",
              "      <td>0.251324</td>\n",
              "      <td>0.253434</td>\n",
              "      <td>0.240420</td>\n",
              "      <td>0.238183</td>\n",
              "    </tr>\n",
              "    <tr>\n",
              "      <th>1</th>\n",
              "      <td>0.217996</td>\n",
              "      <td>0.248323</td>\n",
              "      <td>0.268424</td>\n",
              "      <td>0.246874</td>\n",
              "      <td>0.242402</td>\n",
              "      <td>0.255343</td>\n",
              "      <td>0.251324</td>\n",
              "      <td>0.253434</td>\n",
              "      <td>0.239022</td>\n",
              "      <td>0.238183</td>\n",
              "    </tr>\n",
              "  </tbody>\n",
              "</table>\n",
              "</div>\n",
              "      <button class=\"colab-df-convert\" onclick=\"convertToInteractive('df-cbad6b11-ec8e-4b46-bb03-264281d3c93c')\"\n",
              "              title=\"Convert this dataframe to an interactive table.\"\n",
              "              style=\"display:none;\">\n",
              "        \n",
              "  <svg xmlns=\"http://www.w3.org/2000/svg\" height=\"24px\"viewBox=\"0 0 24 24\"\n",
              "       width=\"24px\">\n",
              "    <path d=\"M0 0h24v24H0V0z\" fill=\"none\"/>\n",
              "    <path d=\"M18.56 5.44l.94 2.06.94-2.06 2.06-.94-2.06-.94-.94-2.06-.94 2.06-2.06.94zm-11 1L8.5 8.5l.94-2.06 2.06-.94-2.06-.94L8.5 2.5l-.94 2.06-2.06.94zm10 10l.94 2.06.94-2.06 2.06-.94-2.06-.94-.94-2.06-.94 2.06-2.06.94z\"/><path d=\"M17.41 7.96l-1.37-1.37c-.4-.4-.92-.59-1.43-.59-.52 0-1.04.2-1.43.59L10.3 9.45l-7.72 7.72c-.78.78-.78 2.05 0 2.83L4 21.41c.39.39.9.59 1.41.59.51 0 1.02-.2 1.41-.59l7.78-7.78 2.81-2.81c.8-.78.8-2.07 0-2.86zM5.41 20L4 18.59l7.72-7.72 1.47 1.35L5.41 20z\"/>\n",
              "  </svg>\n",
              "      </button>\n",
              "      \n",
              "  <style>\n",
              "    .colab-df-container {\n",
              "      display:flex;\n",
              "      flex-wrap:wrap;\n",
              "      gap: 12px;\n",
              "    }\n",
              "\n",
              "    .colab-df-convert {\n",
              "      background-color: #E8F0FE;\n",
              "      border: none;\n",
              "      border-radius: 50%;\n",
              "      cursor: pointer;\n",
              "      display: none;\n",
              "      fill: #1967D2;\n",
              "      height: 32px;\n",
              "      padding: 0 0 0 0;\n",
              "      width: 32px;\n",
              "    }\n",
              "\n",
              "    .colab-df-convert:hover {\n",
              "      background-color: #E2EBFA;\n",
              "      box-shadow: 0px 1px 2px rgba(60, 64, 67, 0.3), 0px 1px 3px 1px rgba(60, 64, 67, 0.15);\n",
              "      fill: #174EA6;\n",
              "    }\n",
              "\n",
              "    [theme=dark] .colab-df-convert {\n",
              "      background-color: #3B4455;\n",
              "      fill: #D2E3FC;\n",
              "    }\n",
              "\n",
              "    [theme=dark] .colab-df-convert:hover {\n",
              "      background-color: #434B5C;\n",
              "      box-shadow: 0px 1px 3px 1px rgba(0, 0, 0, 0.15);\n",
              "      filter: drop-shadow(0px 1px 2px rgba(0, 0, 0, 0.3));\n",
              "      fill: #FFFFFF;\n",
              "    }\n",
              "  </style>\n",
              "\n",
              "      <script>\n",
              "        const buttonEl =\n",
              "          document.querySelector('#df-cbad6b11-ec8e-4b46-bb03-264281d3c93c button.colab-df-convert');\n",
              "        buttonEl.style.display =\n",
              "          google.colab.kernel.accessAllowed ? 'block' : 'none';\n",
              "\n",
              "        async function convertToInteractive(key) {\n",
              "          const element = document.querySelector('#df-cbad6b11-ec8e-4b46-bb03-264281d3c93c');\n",
              "          const dataTable =\n",
              "            await google.colab.kernel.invokeFunction('convertToInteractive',\n",
              "                                                     [key], {});\n",
              "          if (!dataTable) return;\n",
              "\n",
              "          const docLinkHtml = 'Like what you see? Visit the ' +\n",
              "            '<a target=\"_blank\" href=https://colab.research.google.com/notebooks/data_table.ipynb>data table notebook</a>'\n",
              "            + ' to learn more about interactive tables.';\n",
              "          element.innerHTML = '';\n",
              "          dataTable['output_type'] = 'display_data';\n",
              "          await google.colab.output.renderOutput(dataTable, element);\n",
              "          const docLink = document.createElement('div');\n",
              "          docLink.innerHTML = docLinkHtml;\n",
              "          element.appendChild(docLink);\n",
              "        }\n",
              "      </script>\n",
              "    </div>\n",
              "  </div>\n",
              "  "
            ]
          },
          "metadata": {},
          "execution_count": 217
        }
      ]
    },
    {
      "cell_type": "code",
      "source": [
        "top_words"
      ],
      "metadata": {
        "id": "9XlpF-DrsFzw",
        "colab": {
          "base_uri": "https://localhost:8080/"
        },
        "outputId": "7fdb7c54-1e18-4cd6-a190-8b7622faf968"
      },
      "execution_count": null,
      "outputs": [
        {
          "output_type": "execute_result",
          "data": {
            "text/plain": [
              "[['jadi', 'kalo', 'yg', 'jd', 'mau', 'sama', 'ya', 'aja', 'arb', 'om'],\n",
              " ['capres',\n",
              "  'rt',\n",
              "  'deklarasi',\n",
              "  'hanura',\n",
              "  'jd',\n",
              "  'jk',\n",
              "  'wiranto',\n",
              "  'tdk',\n",
              "  'yg',\n",
              "  'followradiopepatah'],\n",
              " ['jadi',\n",
              "  'acak',\n",
              "  'rt',\n",
              "  'prabowo',\n",
              "  'guruh',\n",
              "  'kalo',\n",
              "  'apa',\n",
              "  'di',\n",
              "  'presiden',\n",
              "  'jokowi'],\n",
              " ['hatta',\n",
              "  'menjadi',\n",
              "  'membuka',\n",
              "  'pencapresan',\n",
              "  'radjasa',\n",
              "  'evaluasi',\n",
              "  'umumnya',\n",
              "  'kemungkinan',\n",
              "  '2013pan',\n",
              "  '21'],\n",
              " ['rt',\n",
              "  'jd',\n",
              "  'jokowi',\n",
              "  'presiden',\n",
              "  'jadi',\n",
              "  'ya',\n",
              "  'emoh',\n",
              "  'arb',\n",
              "  'aja',\n",
              "  'capres'],\n",
              " ['rt',\n",
              "  'cawapres',\n",
              "  'prabowo',\n",
              "  'bung',\n",
              "  'bungkus',\n",
              "  'gimana',\n",
              "  'capres',\n",
              "  'underdog',\n",
              "  'charta',\n",
              "  'politika'],\n",
              " ['yg',\n",
              "  'dan',\n",
              "  'saya',\n",
              "  'akan',\n",
              "  'ada',\n",
              "  'prabowo',\n",
              "  'bisa',\n",
              "  'jk',\n",
              "  'capres',\n",
              "  'indonesia'],\n",
              " ['vihara',\n",
              "  'wonogiri',\n",
              "  'islam',\n",
              "  'forum',\n",
              "  'petani',\n",
              "  'capres',\n",
              "  'jokowi',\n",
              "  'dukung',\n",
              "  'dahlan',\n",
              "  'ppp'],\n",
              " ['jadi',\n",
              "  'rt',\n",
              "  'prabowo',\n",
              "  'presiden',\n",
              "  'jokowi',\n",
              "  'capres',\n",
              "  'for',\n",
              "  'arb',\n",
              "  'koruptor',\n",
              "  'sirik'],\n",
              " ['2014',\n",
              "  'prabowo',\n",
              "  'indonesia',\n",
              "  'presiden',\n",
              "  'dahlan',\n",
              "  'jadi',\n",
              "  'adalah',\n",
              "  'mahfud',\n",
              "  'rt',\n",
              "  'iskan']]"
            ]
          },
          "metadata": {},
          "execution_count": 218
        }
      ]
    },
    {
      "cell_type": "markdown",
      "source": [
        "## n_topics=4 (model-11)"
      ],
      "metadata": {
        "id": "99URsGrjsJwF"
      }
    },
    {
      "cell_type": "code",
      "source": [
        "## Model EFCM - Reduksi Dimensi\n",
        "from sklearn.decomposition import TruncatedSVD\n",
        "\n",
        "svd = TruncatedSVD(n_components = 5)\n",
        "data = svd.fit_transform(bert_emb)\n",
        "\n",
        "print(data.shape)"
      ],
      "metadata": {
        "id": "aMBgLBWpsJwF",
        "colab": {
          "base_uri": "https://localhost:8080/"
        },
        "outputId": "37dbd667-8b4a-4759-be32-403cfe3be81c"
      },
      "execution_count": null,
      "outputs": [
        {
          "output_type": "stream",
          "name": "stdout",
          "text": [
            "(1885, 5)\n"
          ]
        }
      ]
    },
    {
      "cell_type": "code",
      "source": [
        "## Model EFCM - Clustering\n",
        "from sklearn.cluster import KMeans\n",
        "import sys\n",
        "sys.path.insert(0, \"/content/drive/MyDrive/Deep Learning/FCMeans\")\n",
        "from fcmeans import fcmeans\n",
        "\n",
        "m =1.1\n",
        "n_topics = 4\n",
        "initkm = KMeans(n_clusters=n_topics, n_init=1).fit(data)\n",
        "cntr, u = fcmeans(data.T, n_topics, m, error=0.005, maxiter=1000, init=initkm.cluster_centers_.T)\n",
        "cluster_membership = np.argmax(u, axis=0)\n",
        "\n",
        "print(cluster_membership.shape)"
      ],
      "metadata": {
        "id": "gxfYzeP7sJwG",
        "colab": {
          "base_uri": "https://localhost:8080/"
        },
        "outputId": "2581af8e-554f-4b1c-c00f-deb24098fe36"
      },
      "execution_count": null,
      "outputs": [
        {
          "output_type": "stream",
          "name": "stdout",
          "text": [
            "(1885,)\n"
          ]
        }
      ]
    },
    {
      "cell_type": "code",
      "source": [
        "### Topic Interpretation\n",
        "import numpy as np\n",
        "from sklearn.feature_extraction.text import CountVectorizer\n",
        "\n",
        "#### Class Based TFIDF (C-TFIDF) Functions\n",
        "def c_tf_idf(documents, m, ngram_range=(1, 1)):\n",
        "    count = CountVectorizer(ngram_range=ngram_range).fit(documents)\n",
        "    t = count.transform(documents).toarray()\n",
        "    w = t.sum(axis=1)\n",
        "    tf = np.divide(t.T, w)\n",
        "    sum_t = t.sum(axis=0)\n",
        "    idf = np.log(np.divide(m, sum_t)).reshape(-1, 1)\n",
        "    tf_idf = np.multiply(tf, idf)\n",
        "\n",
        "    return tf_idf, count\n",
        "\n",
        "def extract_top_words_per_topic(tf_idf, count, docs_per_topic, n = 10):\n",
        "    words = count.get_feature_names_out()\n",
        "    labels = list(docs_per_topic.Topic)\n",
        "    tf_idf_transposed = tf_idf.T\n",
        "    indices = tf_idf_transposed.argsort()[:, -n:]\n",
        "    top_n_words = {label: [(words[j], tf_idf_transposed[i][j]) for j in indices[i]][::-1] for i, label in enumerate(labels)}\n",
        "    top_words = []\n",
        "    for i in range(len(labels)):\n",
        "      top_words.append([words[j] for j in indices [i]][::-1])\n",
        "    return top_words\n",
        "\n",
        "#### Topic Representation\n",
        "docs = pd.DataFrame(list(dataset[\"Isi_Tweet\"]), columns=[\"Doc\"])\n",
        "docs['Topic'] = cluster_membership\n",
        "docs['Doc_ID'] = range(len(docs))\n",
        "docs_per_topic = docs.dropna(subset=['Doc']).groupby(['Topic'], as_index = False).agg({'Doc': ' '.join})\n",
        "\n",
        "tf_idf, count = c_tf_idf(docs_per_topic.Doc.values, m=len(docs))\n",
        "top_words = extract_top_words_per_topic(tf_idf, count, docs_per_topic, 10)\n",
        "print(top_words)"
      ],
      "metadata": {
        "id": "c_mBM8n2sJwG",
        "colab": {
          "base_uri": "https://localhost:8080/"
        },
        "outputId": "16d4d94f-6d04-4a66-fa91-49735e279b91"
      },
      "execution_count": null,
      "outputs": [
        {
          "output_type": "stream",
          "name": "stdout",
          "text": [
            "[['rt', 'prabowo', 'capres', 'jokowi', 'presiden', 'cawapres', 'bung', 'gimana', 'jadi', 'acak'], ['menjadi', 'hatta', 'dan', 'sebagai', 'mantan', 'tidak', 'tokoh', 'umumnya', 'jusuf', 'kemungkinan'], ['rt', 'jadi', 'capres', 'jokowi', 'presiden', 'dahlan', 'prabowo', 'di', 'jd', 'wiranto'], ['jadi', 'yg', 'jd', 'ya', 'rt', 'presiden', 'arb', 'aja', 'jokowi', 'mau']]\n"
          ]
        }
      ]
    },
    {
      "cell_type": "code",
      "source": [
        "### Topic Coherence\n",
        "import gensim\n",
        "from itertools import combinations\n",
        "import warnings\n",
        "warnings.filterwarnings(\"ignore\", category=FutureWarning)\n",
        "warnings.filterwarnings(\"ignore\", category=DeprecationWarning)\n",
        "\n",
        "### Memuat Model Word2Vec\n",
        "w2v_model = gensim.models.Word2Vec.load(\"/content/drive/MyDrive/Deep Learning/Data/word2vec/idwiki-berita/w2v-model.bin\")\n",
        "\n",
        "### Fungsi Menghitung Coherence\n",
        "def calculate_coherence( w2v_model, term_rankings ):\n",
        "    overall_coherence = 0.0\n",
        "    for topic_index in range(len(term_rankings)):\n",
        "        # check each pair of terms\n",
        "        pair_scores = []\n",
        "        for pair in combinations( term_rankings[topic_index], 2 ):\n",
        "            if pair[0] in w2v_model.wv.index_to_key:\n",
        "                if pair[1] in w2v_model.wv.index_to_key:\n",
        "                    pair_scores.append( abs(w2v_model.wv.similarity(pair[0], pair[1])) )\n",
        "                #else:\n",
        "                    #pair_scores.append(0)\n",
        "            #else:\n",
        "                #pair_scores.append(0)\n",
        "        \n",
        "        # get the mean for all pairs in this topic\n",
        "        if pair_scores:\n",
        "            topic_score = sum(pair_scores) / len(pair_scores)\n",
        "            overall_coherence += topic_score\n",
        "    \n",
        "    # get the mean score across all topics\n",
        "    return overall_coherence / len(term_rankings)\n",
        "\n",
        "\n",
        "### Menentukan Nilai Coherence dari Topik\n",
        "print(calculate_coherence(w2v_model, top_words))\n",
        "actual_coherences.append(calculate_coherence(w2v_model, top_words))"
      ],
      "metadata": {
        "id": "mz0TzmV9sJwH",
        "colab": {
          "base_uri": "https://localhost:8080/"
        },
        "outputId": "7106ea04-6040-4af4-80d8-93bbe0bb5f3e"
      },
      "execution_count": null,
      "outputs": [
        {
          "output_type": "stream",
          "name": "stdout",
          "text": [
            "0.24687365373773945\n"
          ]
        }
      ]
    },
    {
      "cell_type": "code",
      "source": [
        "## Parameter Tuning\n",
        "### Jumlah Topik Optimal\n",
        "import pandas as pd\n",
        "\n",
        "num_topics = []\n",
        "coherences = []\n",
        "for n_topics in range(1,11,1):\n",
        "    print(\"The number of topics is \" + str(n_topics))\n",
        "    \n",
        "    coherence_sim = []\n",
        "    for i in range(1,3):\n",
        "        print(\"The simulation \" + str(i))\n",
        "               \n",
        "        #topic detection\n",
        "        m = 1.3\n",
        "        initkm = KMeans(n_clusters=n_topics, n_init=1).fit(data)\n",
        "        cntr, u = fcmeans(data.T, n_topics, m, error=0.005, maxiter=1000, init=initkm.cluster_centers_.T)\n",
        "        cluster_membership = np.argmax(u, axis=0)\n",
        "        \n",
        "        docs = pd.DataFrame(list(dataset[\"Isi_Tweet\"]), columns=[\"Doc\"])\n",
        "        docs['Topic'] = cluster_membership\n",
        "        docs['Doc_ID'] = range(len(docs))\n",
        "        docs_per_topic = docs.dropna(subset=['Doc']).groupby(['Topic'], as_index = False).agg({'Doc': ' '.join})\n",
        "        \n",
        "        tf_idf, count = c_tf_idf(docs_per_topic.Doc.values, m=len(docs))\n",
        "        top_words = extract_top_words_per_topic(tf_idf, count, docs_per_topic, 10)\n",
        "        \n",
        "        coherence_sim.append(calculate_coherence(w2v_model, top_words))\n",
        "        print('Coherence value : ',coherence_sim[i-1])\n",
        "        \n",
        "    num_topics.append(n_topics)\n",
        "    coherences.append(coherence_sim)\n",
        "\n",
        "### Visualisasi\n",
        "df = pd.DataFrame.from_records(coherences).T\n",
        "df.columns = num_topics\n",
        "boxplot = df.boxplot(grid=False)\n",
        "boxplot.set_xlabel(\"Number of Topics\")\n",
        "boxplot.set_ylabel(\"Coherence\")"
      ],
      "metadata": {
        "id": "022SrF4DsJwH",
        "colab": {
          "base_uri": "https://localhost:8080/",
          "height": 1165
        },
        "outputId": "104e8389-82d0-4470-882c-96b84e731e71"
      },
      "execution_count": null,
      "outputs": [
        {
          "output_type": "stream",
          "name": "stdout",
          "text": [
            "The number of topics is 1\n",
            "The simulation 1\n",
            "Coherence value :  0.21799575076216743\n",
            "The simulation 2\n",
            "Coherence value :  0.21799575076216743\n",
            "The number of topics is 2\n",
            "The simulation 1\n",
            "Coherence value :  0.24832308248040225\n",
            "The simulation 2\n",
            "Coherence value :  0.24832308248040225\n",
            "The number of topics is 3\n",
            "The simulation 1\n",
            "Coherence value :  0.2684237623892764\n",
            "The simulation 2\n",
            "Coherence value :  0.2684237623892764\n",
            "The number of topics is 4\n",
            "The simulation 1\n",
            "Coherence value :  0.24687365373773945\n",
            "The simulation 2\n",
            "Coherence value :  0.24687365373773942\n",
            "The number of topics is 5\n",
            "The simulation 1\n",
            "Coherence value :  0.24240177230584242\n",
            "The simulation 2\n",
            "Coherence value :  0.24240177230584242\n",
            "The number of topics is 6\n",
            "The simulation 1\n",
            "Coherence value :  0.2553428252400071\n",
            "The simulation 2\n",
            "Coherence value :  0.2553428252400071\n",
            "The number of topics is 7\n",
            "The simulation 1\n",
            "Coherence value :  0.25132449132024975\n",
            "The simulation 2\n",
            "Coherence value :  0.25132449132024975\n",
            "The number of topics is 8\n",
            "The simulation 1\n",
            "Coherence value :  0.253433620363533\n",
            "The simulation 2\n",
            "Coherence value :  0.253433620363533\n",
            "The number of topics is 9\n",
            "The simulation 1\n",
            "Coherence value :  0.24625975106476528\n",
            "The simulation 2\n",
            "Coherence value :  0.24625975106476528\n",
            "The number of topics is 10\n",
            "The simulation 1\n",
            "Coherence value :  0.24078422749001116\n",
            "The simulation 2\n",
            "Coherence value :  0.24629924030501452\n"
          ]
        },
        {
          "output_type": "execute_result",
          "data": {
            "text/plain": [
              "Text(0, 0.5, 'Coherence')"
            ]
          },
          "metadata": {},
          "execution_count": 223
        },
        {
          "output_type": "display_data",
          "data": {
            "text/plain": [
              "<Figure size 432x288 with 1 Axes>"
            ],
            "image/png": "[encoded data removed]"
          },
          "metadata": {
            "needs_background": "light"
          }
        }
      ]
    },
    {
      "cell_type": "code",
      "source": [
        "print('Nilai Coherence Maksimal=',np.max(coherences))\n",
        "max_coherences.append(np.max(coherences))\n",
        "print('Nilai Coherence Minimal=',np.min(coherences))\n",
        "min_coherences.append(np.min(coherences))\n",
        "print('Nilai Rata-rata Coherence=',np.mean(coherences))\n",
        "mean_coherences.append(np.mean(coherences))\n",
        "print('Nilai Median Coherence=',np.median(coherences))\n",
        "med_coherences.append(np.median(coherences))"
      ],
      "metadata": {
        "id": "oSixzrfRsJwI",
        "colab": {
          "base_uri": "https://localhost:8080/"
        },
        "outputId": "e32fd1d7-9e55-4f54-8de8-bdd15585603c"
      },
      "execution_count": null,
      "outputs": [
        {
          "output_type": "stream",
          "name": "stdout",
          "text": [
            "Nilai Coherence Maksimal= 0.2684237623892764\n",
            "Nilai Coherence Minimal= 0.21799575076216743\n",
            "Nilai Rata-rata Coherence= 0.24739204435614962\n",
            "Nilai Median Coherence= 0.24759836810907085\n"
          ]
        }
      ]
    },
    {
      "cell_type": "code",
      "source": [
        "coherences_new=[]\n",
        "num_topics_new=[]\n",
        "for i in range(len(num_topics)):\n",
        "    coherences_new.append(coherences[i][0])\n",
        "    coherences_new.append(coherences[i][1])\n",
        "    num_topics_new.append(i+1)\n",
        "    num_topics_new.append(i+1)\n",
        "print('Parameter jumlah topik untuk Coherence Maksimal:',num_topics_new[coherences_new.index(np.max(coherences_new))])"
      ],
      "metadata": {
        "id": "Ffn3d7DxsJwI",
        "colab": {
          "base_uri": "https://localhost:8080/"
        },
        "outputId": "85857ab1-307a-448b-a7b1-5f8e1bf75d52"
      },
      "execution_count": null,
      "outputs": [
        {
          "output_type": "stream",
          "name": "stdout",
          "text": [
            "Parameter jumlah topik untuk Coherence Maksimal: 3\n"
          ]
        }
      ]
    },
    {
      "cell_type": "code",
      "source": [
        "df"
      ],
      "metadata": {
        "id": "5lsd0CONsJwI",
        "colab": {
          "base_uri": "https://localhost:8080/",
          "height": 112
        },
        "outputId": "3edf3f18-3107-4976-83b8-a16c864a6747"
      },
      "execution_count": null,
      "outputs": [
        {
          "output_type": "execute_result",
          "data": {
            "text/plain": [
              "         1         2         3         4         5         6         7   \\\n",
              "0  0.217996  0.248323  0.268424  0.246874  0.242402  0.255343  0.251324   \n",
              "1  0.217996  0.248323  0.268424  0.246874  0.242402  0.255343  0.251324   \n",
              "\n",
              "         8        9         10  \n",
              "0  0.253434  0.24626  0.240784  \n",
              "1  0.253434  0.24626  0.246299  "
            ],
            "text/html": [
              "\n",
              "  <div id=\"df-062c8a96-0126-4927-8ed8-7814559526dc\">\n",
              "    <div class=\"colab-df-container\">\n",
              "      <div>\n",
              "<style scoped>\n",
              "    .dataframe tbody tr th:only-of-type {\n",
              "        vertical-align: middle;\n",
              "    }\n",
              "\n",
              "    .dataframe tbody tr th {\n",
              "        vertical-align: top;\n",
              "    }\n",
              "\n",
              "    .dataframe thead th {\n",
              "        text-align: right;\n",
              "    }\n",
              "</style>\n",
              "<table border=\"1\" class=\"dataframe\">\n",
              "  <thead>\n",
              "    <tr style=\"text-align: right;\">\n",
              "      <th></th>\n",
              "      <th>1</th>\n",
              "      <th>2</th>\n",
              "      <th>3</th>\n",
              "      <th>4</th>\n",
              "      <th>5</th>\n",
              "      <th>6</th>\n",
              "      <th>7</th>\n",
              "      <th>8</th>\n",
              "      <th>9</th>\n",
              "      <th>10</th>\n",
              "    </tr>\n",
              "  </thead>\n",
              "  <tbody>\n",
              "    <tr>\n",
              "      <th>0</th>\n",
              "      <td>0.217996</td>\n",
              "      <td>0.248323</td>\n",
              "      <td>0.268424</td>\n",
              "      <td>0.246874</td>\n",
              "      <td>0.242402</td>\n",
              "      <td>0.255343</td>\n",
              "      <td>0.251324</td>\n",
              "      <td>0.253434</td>\n",
              "      <td>0.24626</td>\n",
              "      <td>0.240784</td>\n",
              "    </tr>\n",
              "    <tr>\n",
              "      <th>1</th>\n",
              "      <td>0.217996</td>\n",
              "      <td>0.248323</td>\n",
              "      <td>0.268424</td>\n",
              "      <td>0.246874</td>\n",
              "      <td>0.242402</td>\n",
              "      <td>0.255343</td>\n",
              "      <td>0.251324</td>\n",
              "      <td>0.253434</td>\n",
              "      <td>0.24626</td>\n",
              "      <td>0.246299</td>\n",
              "    </tr>\n",
              "  </tbody>\n",
              "</table>\n",
              "</div>\n",
              "      <button class=\"colab-df-convert\" onclick=\"convertToInteractive('df-062c8a96-0126-4927-8ed8-7814559526dc')\"\n",
              "              title=\"Convert this dataframe to an interactive table.\"\n",
              "              style=\"display:none;\">\n",
              "        \n",
              "  <svg xmlns=\"http://www.w3.org/2000/svg\" height=\"24px\"viewBox=\"0 0 24 24\"\n",
              "       width=\"24px\">\n",
              "    <path d=\"M0 0h24v24H0V0z\" fill=\"none\"/>\n",
              "    <path d=\"M18.56 5.44l.94 2.06.94-2.06 2.06-.94-2.06-.94-.94-2.06-.94 2.06-2.06.94zm-11 1L8.5 8.5l.94-2.06 2.06-.94-2.06-.94L8.5 2.5l-.94 2.06-2.06.94zm10 10l.94 2.06.94-2.06 2.06-.94-2.06-.94-.94-2.06-.94 2.06-2.06.94z\"/><path d=\"M17.41 7.96l-1.37-1.37c-.4-.4-.92-.59-1.43-.59-.52 0-1.04.2-1.43.59L10.3 9.45l-7.72 7.72c-.78.78-.78 2.05 0 2.83L4 21.41c.39.39.9.59 1.41.59.51 0 1.02-.2 1.41-.59l7.78-7.78 2.81-2.81c.8-.78.8-2.07 0-2.86zM5.41 20L4 18.59l7.72-7.72 1.47 1.35L5.41 20z\"/>\n",
              "  </svg>\n",
              "      </button>\n",
              "      \n",
              "  <style>\n",
              "    .colab-df-container {\n",
              "      display:flex;\n",
              "      flex-wrap:wrap;\n",
              "      gap: 12px;\n",
              "    }\n",
              "\n",
              "    .colab-df-convert {\n",
              "      background-color: #E8F0FE;\n",
              "      border: none;\n",
              "      border-radius: 50%;\n",
              "      cursor: pointer;\n",
              "      display: none;\n",
              "      fill: #1967D2;\n",
              "      height: 32px;\n",
              "      padding: 0 0 0 0;\n",
              "      width: 32px;\n",
              "    }\n",
              "\n",
              "    .colab-df-convert:hover {\n",
              "      background-color: #E2EBFA;\n",
              "      box-shadow: 0px 1px 2px rgba(60, 64, 67, 0.3), 0px 1px 3px 1px rgba(60, 64, 67, 0.15);\n",
              "      fill: #174EA6;\n",
              "    }\n",
              "\n",
              "    [theme=dark] .colab-df-convert {\n",
              "      background-color: #3B4455;\n",
              "      fill: #D2E3FC;\n",
              "    }\n",
              "\n",
              "    [theme=dark] .colab-df-convert:hover {\n",
              "      background-color: #434B5C;\n",
              "      box-shadow: 0px 1px 3px 1px rgba(0, 0, 0, 0.15);\n",
              "      filter: drop-shadow(0px 1px 2px rgba(0, 0, 0, 0.3));\n",
              "      fill: #FFFFFF;\n",
              "    }\n",
              "  </style>\n",
              "\n",
              "      <script>\n",
              "        const buttonEl =\n",
              "          document.querySelector('#df-062c8a96-0126-4927-8ed8-7814559526dc button.colab-df-convert');\n",
              "        buttonEl.style.display =\n",
              "          google.colab.kernel.accessAllowed ? 'block' : 'none';\n",
              "\n",
              "        async function convertToInteractive(key) {\n",
              "          const element = document.querySelector('#df-062c8a96-0126-4927-8ed8-7814559526dc');\n",
              "          const dataTable =\n",
              "            await google.colab.kernel.invokeFunction('convertToInteractive',\n",
              "                                                     [key], {});\n",
              "          if (!dataTable) return;\n",
              "\n",
              "          const docLinkHtml = 'Like what you see? Visit the ' +\n",
              "            '<a target=\"_blank\" href=https://colab.research.google.com/notebooks/data_table.ipynb>data table notebook</a>'\n",
              "            + ' to learn more about interactive tables.';\n",
              "          element.innerHTML = '';\n",
              "          dataTable['output_type'] = 'display_data';\n",
              "          await google.colab.output.renderOutput(dataTable, element);\n",
              "          const docLink = document.createElement('div');\n",
              "          docLink.innerHTML = docLinkHtml;\n",
              "          element.appendChild(docLink);\n",
              "        }\n",
              "      </script>\n",
              "    </div>\n",
              "  </div>\n",
              "  "
            ]
          },
          "metadata": {},
          "execution_count": 226
        }
      ]
    },
    {
      "cell_type": "code",
      "source": [
        "top_words"
      ],
      "metadata": {
        "id": "mTIIZyPJsJwJ",
        "colab": {
          "base_uri": "https://localhost:8080/"
        },
        "outputId": "4a39f44b-d41b-4cc8-b60d-8db0ad16dbf6"
      },
      "execution_count": null,
      "outputs": [
        {
          "output_type": "execute_result",
          "data": {
            "text/plain": [
              "[['prabowo',\n",
              "  'indonesia',\n",
              "  'yg',\n",
              "  'jadi',\n",
              "  'akan',\n",
              "  'dan',\n",
              "  'jk',\n",
              "  'hanya',\n",
              "  'tdk',\n",
              "  'di'],\n",
              " ['2014',\n",
              "  'prabowo',\n",
              "  'dahlan',\n",
              "  'presiden',\n",
              "  'adalah',\n",
              "  'md',\n",
              "  'klo',\n",
              "  'mahfud',\n",
              "  'indonesia',\n",
              "  'iskan'],\n",
              " ['jadi',\n",
              "  'jd',\n",
              "  'yg',\n",
              "  'sama',\n",
              "  'kalo',\n",
              "  'ya',\n",
              "  'presiden',\n",
              "  'optimis',\n",
              "  'di',\n",
              "  'aja'],\n",
              " ['rt',\n",
              "  'jokowi',\n",
              "  'jd',\n",
              "  'ya',\n",
              "  'jadi',\n",
              "  'presiden',\n",
              "  'arb',\n",
              "  'emoh',\n",
              "  'aja',\n",
              "  'capres'],\n",
              " ['jadi',\n",
              "  'rt',\n",
              "  'acak',\n",
              "  'prabowo',\n",
              "  'presiden',\n",
              "  'apa',\n",
              "  'jokowi',\n",
              "  'guruh',\n",
              "  'dukung',\n",
              "  'aku'],\n",
              " ['rt',\n",
              "  'capres',\n",
              "  'wiranto',\n",
              "  'dahlan',\n",
              "  'jokowi',\n",
              "  'deklarasi',\n",
              "  'yakin',\n",
              "  'jd',\n",
              "  'jadi',\n",
              "  'hanura'],\n",
              " ['yg', 'dan', 'mau', 'no', 'jk', 'capres', 'mikir', 'jadi', 'ndak', 'saya'],\n",
              " ['rt',\n",
              "  'prabowo',\n",
              "  'cawapres',\n",
              "  'capres',\n",
              "  'gimana',\n",
              "  'bung',\n",
              "  'bungkus',\n",
              "  'underdog',\n",
              "  'jokowi',\n",
              "  'charta'],\n",
              " ['islam',\n",
              "  'wonogiri',\n",
              "  'vihara',\n",
              "  'capres',\n",
              "  'forum',\n",
              "  'petani',\n",
              "  'jokowi',\n",
              "  'galang',\n",
              "  'rt',\n",
              "  'partai2'],\n",
              " ['hatta',\n",
              "  'menjadi',\n",
              "  'membuka',\n",
              "  'evaluasi',\n",
              "  'pencapresan',\n",
              "  'radjasa',\n",
              "  'umumnya',\n",
              "  'kemungkinan',\n",
              "  '2013pan',\n",
              "  '09']]"
            ]
          },
          "metadata": {},
          "execution_count": 227
        }
      ]
    },
    {
      "cell_type": "markdown",
      "source": [
        "## n_topics=10 (model-12)"
      ],
      "metadata": {
        "id": "6JUtXYYGsODA"
      }
    },
    {
      "cell_type": "code",
      "source": [
        "## Model EFCM - Reduksi Dimensi\n",
        "from sklearn.decomposition import TruncatedSVD\n",
        "\n",
        "svd = TruncatedSVD(n_components = 5)\n",
        "data = svd.fit_transform(bert_emb)\n",
        "\n",
        "print(data.shape)"
      ],
      "metadata": {
        "id": "cs1Amwz-sODB",
        "colab": {
          "base_uri": "https://localhost:8080/"
        },
        "outputId": "14763ad6-5e08-49c1-b360-367d32f2b392"
      },
      "execution_count": null,
      "outputs": [
        {
          "output_type": "stream",
          "name": "stdout",
          "text": [
            "(1885, 5)\n"
          ]
        }
      ]
    },
    {
      "cell_type": "code",
      "source": [
        "## Model EFCM - Clustering\n",
        "from sklearn.cluster import KMeans\n",
        "import sys\n",
        "sys.path.insert(0, \"/content/drive/MyDrive/Deep Learning/FCMeans\")\n",
        "from fcmeans import fcmeans\n",
        "\n",
        "m =1.1\n",
        "n_topics = 2\n",
        "initkm = KMeans(n_clusters=n_topics, n_init=1).fit(data)\n",
        "cntr, u = fcmeans(data.T, n_topics, m, error=0.005, maxiter=1000, init=initkm.cluster_centers_.T)\n",
        "cluster_membership = np.argmax(u, axis=0)\n",
        "\n",
        "print(cluster_membership.shape)"
      ],
      "metadata": {
        "id": "9nydR3DksODB",
        "colab": {
          "base_uri": "https://localhost:8080/"
        },
        "outputId": "1724a924-8dba-48af-e23e-fcc58ef2e016"
      },
      "execution_count": null,
      "outputs": [
        {
          "output_type": "stream",
          "name": "stdout",
          "text": [
            "(1885,)\n"
          ]
        }
      ]
    },
    {
      "cell_type": "code",
      "source": [
        "### Topic Interpretation\n",
        "import numpy as np\n",
        "from sklearn.feature_extraction.text import CountVectorizer\n",
        "\n",
        "#### Class Based TFIDF (C-TFIDF) Functions\n",
        "def c_tf_idf(documents, m, ngram_range=(1, 1)):\n",
        "    count = CountVectorizer(ngram_range=ngram_range).fit(documents)\n",
        "    t = count.transform(documents).toarray()\n",
        "    w = t.sum(axis=1)\n",
        "    tf = np.divide(t.T, w)\n",
        "    sum_t = t.sum(axis=0)\n",
        "    idf = np.log(np.divide(m, sum_t)).reshape(-1, 1)\n",
        "    tf_idf = np.multiply(tf, idf)\n",
        "\n",
        "    return tf_idf, count\n",
        "\n",
        "def extract_top_words_per_topic(tf_idf, count, docs_per_topic, n = 10):\n",
        "    words = count.get_feature_names_out()\n",
        "    labels = list(docs_per_topic.Topic)\n",
        "    tf_idf_transposed = tf_idf.T\n",
        "    indices = tf_idf_transposed.argsort()[:, -n:]\n",
        "    top_n_words = {label: [(words[j], tf_idf_transposed[i][j]) for j in indices[i]][::-1] for i, label in enumerate(labels)}\n",
        "    top_words = []\n",
        "    for i in range(len(labels)):\n",
        "      top_words.append([words[j] for j in indices [i]][::-1])\n",
        "    return top_words\n",
        "\n",
        "#### Topic Representation\n",
        "docs = pd.DataFrame(list(dataset[\"Isi_Tweet\"]), columns=[\"Doc\"])\n",
        "docs['Topic'] = cluster_membership\n",
        "docs['Doc_ID'] = range(len(docs))\n",
        "docs_per_topic = docs.dropna(subset=['Doc']).groupby(['Topic'], as_index = False).agg({'Doc': ' '.join})\n",
        "\n",
        "tf_idf, count = c_tf_idf(docs_per_topic.Doc.values, m=len(docs))\n",
        "top_words = extract_top_words_per_topic(tf_idf, count, docs_per_topic, 10)\n",
        "print(top_words)"
      ],
      "metadata": {
        "id": "wf0fbcJGsODC",
        "colab": {
          "base_uri": "https://localhost:8080/"
        },
        "outputId": "2bf10276-3924-41a8-d2b1-df9fa6387b1c"
      },
      "execution_count": null,
      "outputs": [
        {
          "output_type": "stream",
          "name": "stdout",
          "text": [
            "[['yg', 'dan', 'jadi', 'capres', 'hatta', 'rt', 'jd', 'presiden', 'menjadi', 'jokowi'], ['rt', 'prabowo', 'jadi', 'capres', 'presiden', 'jokowi', 'dahlan', '2014', 'cawapres', 'indonesia']]\n"
          ]
        }
      ]
    },
    {
      "cell_type": "code",
      "source": [
        "### Topic Coherence\n",
        "import gensim\n",
        "from itertools import combinations\n",
        "import warnings\n",
        "warnings.filterwarnings(\"ignore\", category=FutureWarning)\n",
        "warnings.filterwarnings(\"ignore\", category=DeprecationWarning)\n",
        "\n",
        "### Memuat Model Word2Vec\n",
        "w2v_model = gensim.models.Word2Vec.load(\"/content/drive/MyDrive/Deep Learning/Data/word2vec/idwiki-berita/w2v-model.bin\")\n",
        "\n",
        "### Fungsi Menghitung Coherence\n",
        "def calculate_coherence( w2v_model, term_rankings ):\n",
        "    overall_coherence = 0.0\n",
        "    for topic_index in range(len(term_rankings)):\n",
        "        # check each pair of terms\n",
        "        pair_scores = []\n",
        "        for pair in combinations( term_rankings[topic_index], 2 ):\n",
        "            if pair[0] in w2v_model.wv.index_to_key:\n",
        "                if pair[1] in w2v_model.wv.index_to_key:\n",
        "                    pair_scores.append( abs(w2v_model.wv.similarity(pair[0], pair[1])) )\n",
        "                #else:\n",
        "                    #pair_scores.append(0)\n",
        "            #else:\n",
        "                #pair_scores.append(0)\n",
        "        \n",
        "        # get the mean for all pairs in this topic\n",
        "        if pair_scores:\n",
        "            topic_score = sum(pair_scores) / len(pair_scores)\n",
        "            overall_coherence += topic_score\n",
        "    \n",
        "    # get the mean score across all topics\n",
        "    return overall_coherence / len(term_rankings)\n",
        "\n",
        "\n",
        "### Menentukan Nilai Coherence dari Topik\n",
        "print(calculate_coherence(w2v_model, top_words))\n",
        "actual_coherences.append(calculate_coherence(w2v_model, top_words))"
      ],
      "metadata": {
        "id": "gpuPjcbGsODC",
        "colab": {
          "base_uri": "https://localhost:8080/"
        },
        "outputId": "bd5afac9-bd4c-4646-efbd-825f6a3380a0"
      },
      "execution_count": null,
      "outputs": [
        {
          "output_type": "stream",
          "name": "stdout",
          "text": [
            "0.24832308248040225\n"
          ]
        }
      ]
    },
    {
      "cell_type": "code",
      "source": [
        "## Parameter Tuning\n",
        "### Jumlah Topik Optimal\n",
        "import pandas as pd\n",
        "\n",
        "num_topics = []\n",
        "coherences = []\n",
        "for n_topics in range(1,11,1):\n",
        "    print(\"The number of topics is \" + str(n_topics))\n",
        "    \n",
        "    coherence_sim = []\n",
        "    for i in range(1,3):\n",
        "        print(\"The simulation \" + str(i))\n",
        "               \n",
        "        #topic detection\n",
        "        m = 1.3\n",
        "        initkm = KMeans(n_clusters=n_topics, n_init=1).fit(data)\n",
        "        cntr, u = fcmeans(data.T, n_topics, m, error=0.005, maxiter=1000, init=initkm.cluster_centers_.T)\n",
        "        cluster_membership = np.argmax(u, axis=0)\n",
        "        \n",
        "        docs = pd.DataFrame(list(dataset[\"Isi_Tweet\"]), columns=[\"Doc\"])\n",
        "        docs['Topic'] = cluster_membership\n",
        "        docs['Doc_ID'] = range(len(docs))\n",
        "        docs_per_topic = docs.dropna(subset=['Doc']).groupby(['Topic'], as_index = False).agg({'Doc': ' '.join})\n",
        "        \n",
        "        tf_idf, count = c_tf_idf(docs_per_topic.Doc.values, m=len(docs))\n",
        "        top_words = extract_top_words_per_topic(tf_idf, count, docs_per_topic, 10)\n",
        "        \n",
        "        coherence_sim.append(calculate_coherence(w2v_model, top_words))\n",
        "        print('Coherence value : ',coherence_sim[i-1])\n",
        "        \n",
        "    num_topics.append(n_topics)\n",
        "    coherences.append(coherence_sim)\n",
        "\n",
        "### Visualisasi\n",
        "df = pd.DataFrame.from_records(coherences).T\n",
        "df.columns = num_topics\n",
        "boxplot = df.boxplot(grid=False)\n",
        "boxplot.set_xlabel(\"Number of Topics\")\n",
        "boxplot.set_ylabel(\"Coherence\")"
      ],
      "metadata": {
        "id": "YvrR5ST3sODD",
        "colab": {
          "base_uri": "https://localhost:8080/",
          "height": 1165
        },
        "outputId": "35011b4d-7e10-4599-9c26-03196f0c05b7"
      },
      "execution_count": null,
      "outputs": [
        {
          "output_type": "stream",
          "name": "stdout",
          "text": [
            "The number of topics is 1\n",
            "The simulation 1\n",
            "Coherence value :  0.21799575076216743\n",
            "The simulation 2\n",
            "Coherence value :  0.21799575076216743\n",
            "The number of topics is 2\n",
            "The simulation 1\n",
            "Coherence value :  0.24832308248040225\n",
            "The simulation 2\n",
            "Coherence value :  0.24832308248040225\n",
            "The number of topics is 3\n",
            "The simulation 1\n",
            "Coherence value :  0.2684237623892764\n",
            "The simulation 2\n",
            "Coherence value :  0.2684237623892764\n",
            "The number of topics is 4\n",
            "The simulation 1\n",
            "Coherence value :  0.24687365373773945\n",
            "The simulation 2\n",
            "Coherence value :  0.24687365373773945\n",
            "The number of topics is 5\n",
            "The simulation 1\n",
            "Coherence value :  0.24240177230584242\n",
            "The simulation 2\n",
            "Coherence value :  0.2424017723058424\n",
            "The number of topics is 6\n",
            "The simulation 1\n",
            "Coherence value :  0.2553428252400072\n",
            "The simulation 2\n",
            "Coherence value :  0.2553428252400072\n",
            "The number of topics is 7\n",
            "The simulation 1\n",
            "Coherence value :  0.25132449132024975\n",
            "The simulation 2\n",
            "Coherence value :  0.25132449132024975\n",
            "The number of topics is 8\n",
            "The simulation 1\n",
            "Coherence value :  0.253433620363533\n",
            "The simulation 2\n",
            "Coherence value :  0.253433620363533\n",
            "The number of topics is 9\n",
            "The simulation 1\n",
            "Coherence value :  0.24625975106476533\n",
            "The simulation 2\n",
            "Coherence value :  0.2422281719264583\n",
            "The number of topics is 10\n",
            "The simulation 1\n",
            "Coherence value :  0.24420756820855397\n",
            "The simulation 2\n",
            "Coherence value :  0.24629924030501454\n"
          ]
        },
        {
          "output_type": "execute_result",
          "data": {
            "text/plain": [
              "Text(0, 0.5, 'Coherence')"
            ]
          },
          "metadata": {},
          "execution_count": 232
        },
        {
          "output_type": "display_data",
          "data": {
            "text/plain": [
              "<Figure size 432x288 with 1 Axes>"
            ],
            "image/png": "[encoded data removed]"
          },
          "metadata": {
            "needs_background": "light"
          }
        }
      ]
    },
    {
      "cell_type": "code",
      "source": [
        "print('Nilai Coherence Maksimal=',np.max(coherences))\n",
        "max_coherences.append(np.max(coherences))\n",
        "print('Nilai Coherence Minimal=',np.min(coherences))\n",
        "min_coherences.append(np.min(coherences))\n",
        "print('Nilai Rata-rata Coherence=',np.mean(coherences))\n",
        "mean_coherences.append(np.mean(coherences))\n",
        "print('Nilai Median Coherence=',np.median(coherences))\n",
        "med_coherences.append(np.median(coherences))"
      ],
      "metadata": {
        "id": "nzC8sqHBsODD",
        "colab": {
          "base_uri": "https://localhost:8080/"
        },
        "outputId": "af526406-7638-4ea7-9271-fddd485418d0"
      },
      "execution_count": null,
      "outputs": [
        {
          "output_type": "stream",
          "name": "stdout",
          "text": [
            "Nilai Coherence Maksimal= 0.2684237623892764\n",
            "Nilai Coherence Minimal= 0.21799575076216743\n",
            "Nilai Rata-rata Coherence= 0.24736163243516138\n",
            "Nilai Median Coherence= 0.24759836810907085\n"
          ]
        }
      ]
    },
    {
      "cell_type": "code",
      "source": [
        "coherences_new=[]\n",
        "num_topics_new=[]\n",
        "for i in range(len(num_topics)):\n",
        "    coherences_new.append(coherences[i][0])\n",
        "    coherences_new.append(coherences[i][1])\n",
        "    num_topics_new.append(i+1)\n",
        "    num_topics_new.append(i+1)\n",
        "print('Parameter jumlah topik untuk Coherence Maksimal:',num_topics_new[coherences_new.index(np.max(coherences_new))])"
      ],
      "metadata": {
        "id": "pnboMSkosODD",
        "colab": {
          "base_uri": "https://localhost:8080/"
        },
        "outputId": "f617fd20-e2ad-4160-a86b-95b90fb23490"
      },
      "execution_count": null,
      "outputs": [
        {
          "output_type": "stream",
          "name": "stdout",
          "text": [
            "Parameter jumlah topik untuk Coherence Maksimal: 3\n"
          ]
        }
      ]
    },
    {
      "cell_type": "code",
      "source": [
        "df"
      ],
      "metadata": {
        "id": "vM146ts1sODE",
        "colab": {
          "base_uri": "https://localhost:8080/",
          "height": 112
        },
        "outputId": "6865cf37-ad83-4c38-df1e-fe08f6bf70c4"
      },
      "execution_count": null,
      "outputs": [
        {
          "output_type": "execute_result",
          "data": {
            "text/plain": [
              "         1         2         3         4         5         6         7   \\\n",
              "0  0.217996  0.248323  0.268424  0.246874  0.242402  0.255343  0.251324   \n",
              "1  0.217996  0.248323  0.268424  0.246874  0.242402  0.255343  0.251324   \n",
              "\n",
              "         8         9         10  \n",
              "0  0.253434  0.246260  0.244208  \n",
              "1  0.253434  0.242228  0.246299  "
            ],
            "text/html": [
              "\n",
              "  <div id=\"df-6d05ddb9-91b9-402e-a7d7-400199854fb9\">\n",
              "    <div class=\"colab-df-container\">\n",
              "      <div>\n",
              "<style scoped>\n",
              "    .dataframe tbody tr th:only-of-type {\n",
              "        vertical-align: middle;\n",
              "    }\n",
              "\n",
              "    .dataframe tbody tr th {\n",
              "        vertical-align: top;\n",
              "    }\n",
              "\n",
              "    .dataframe thead th {\n",
              "        text-align: right;\n",
              "    }\n",
              "</style>\n",
              "<table border=\"1\" class=\"dataframe\">\n",
              "  <thead>\n",
              "    <tr style=\"text-align: right;\">\n",
              "      <th></th>\n",
              "      <th>1</th>\n",
              "      <th>2</th>\n",
              "      <th>3</th>\n",
              "      <th>4</th>\n",
              "      <th>5</th>\n",
              "      <th>6</th>\n",
              "      <th>7</th>\n",
              "      <th>8</th>\n",
              "      <th>9</th>\n",
              "      <th>10</th>\n",
              "    </tr>\n",
              "  </thead>\n",
              "  <tbody>\n",
              "    <tr>\n",
              "      <th>0</th>\n",
              "      <td>0.217996</td>\n",
              "      <td>0.248323</td>\n",
              "      <td>0.268424</td>\n",
              "      <td>0.246874</td>\n",
              "      <td>0.242402</td>\n",
              "      <td>0.255343</td>\n",
              "      <td>0.251324</td>\n",
              "      <td>0.253434</td>\n",
              "      <td>0.246260</td>\n",
              "      <td>0.244208</td>\n",
              "    </tr>\n",
              "    <tr>\n",
              "      <th>1</th>\n",
              "      <td>0.217996</td>\n",
              "      <td>0.248323</td>\n",
              "      <td>0.268424</td>\n",
              "      <td>0.246874</td>\n",
              "      <td>0.242402</td>\n",
              "      <td>0.255343</td>\n",
              "      <td>0.251324</td>\n",
              "      <td>0.253434</td>\n",
              "      <td>0.242228</td>\n",
              "      <td>0.246299</td>\n",
              "    </tr>\n",
              "  </tbody>\n",
              "</table>\n",
              "</div>\n",
              "      <button class=\"colab-df-convert\" onclick=\"convertToInteractive('df-6d05ddb9-91b9-402e-a7d7-400199854fb9')\"\n",
              "              title=\"Convert this dataframe to an interactive table.\"\n",
              "              style=\"display:none;\">\n",
              "        \n",
              "  <svg xmlns=\"http://www.w3.org/2000/svg\" height=\"24px\"viewBox=\"0 0 24 24\"\n",
              "       width=\"24px\">\n",
              "    <path d=\"M0 0h24v24H0V0z\" fill=\"none\"/>\n",
              "    <path d=\"M18.56 5.44l.94 2.06.94-2.06 2.06-.94-2.06-.94-.94-2.06-.94 2.06-2.06.94zm-11 1L8.5 8.5l.94-2.06 2.06-.94-2.06-.94L8.5 2.5l-.94 2.06-2.06.94zm10 10l.94 2.06.94-2.06 2.06-.94-2.06-.94-.94-2.06-.94 2.06-2.06.94z\"/><path d=\"M17.41 7.96l-1.37-1.37c-.4-.4-.92-.59-1.43-.59-.52 0-1.04.2-1.43.59L10.3 9.45l-7.72 7.72c-.78.78-.78 2.05 0 2.83L4 21.41c.39.39.9.59 1.41.59.51 0 1.02-.2 1.41-.59l7.78-7.78 2.81-2.81c.8-.78.8-2.07 0-2.86zM5.41 20L4 18.59l7.72-7.72 1.47 1.35L5.41 20z\"/>\n",
              "  </svg>\n",
              "      </button>\n",
              "      \n",
              "  <style>\n",
              "    .colab-df-container {\n",
              "      display:flex;\n",
              "      flex-wrap:wrap;\n",
              "      gap: 12px;\n",
              "    }\n",
              "\n",
              "    .colab-df-convert {\n",
              "      background-color: #E8F0FE;\n",
              "      border: none;\n",
              "      border-radius: 50%;\n",
              "      cursor: pointer;\n",
              "      display: none;\n",
              "      fill: #1967D2;\n",
              "      height: 32px;\n",
              "      padding: 0 0 0 0;\n",
              "      width: 32px;\n",
              "    }\n",
              "\n",
              "    .colab-df-convert:hover {\n",
              "      background-color: #E2EBFA;\n",
              "      box-shadow: 0px 1px 2px rgba(60, 64, 67, 0.3), 0px 1px 3px 1px rgba(60, 64, 67, 0.15);\n",
              "      fill: #174EA6;\n",
              "    }\n",
              "\n",
              "    [theme=dark] .colab-df-convert {\n",
              "      background-color: #3B4455;\n",
              "      fill: #D2E3FC;\n",
              "    }\n",
              "\n",
              "    [theme=dark] .colab-df-convert:hover {\n",
              "      background-color: #434B5C;\n",
              "      box-shadow: 0px 1px 3px 1px rgba(0, 0, 0, 0.15);\n",
              "      filter: drop-shadow(0px 1px 2px rgba(0, 0, 0, 0.3));\n",
              "      fill: #FFFFFF;\n",
              "    }\n",
              "  </style>\n",
              "\n",
              "      <script>\n",
              "        const buttonEl =\n",
              "          document.querySelector('#df-6d05ddb9-91b9-402e-a7d7-400199854fb9 button.colab-df-convert');\n",
              "        buttonEl.style.display =\n",
              "          google.colab.kernel.accessAllowed ? 'block' : 'none';\n",
              "\n",
              "        async function convertToInteractive(key) {\n",
              "          const element = document.querySelector('#df-6d05ddb9-91b9-402e-a7d7-400199854fb9');\n",
              "          const dataTable =\n",
              "            await google.colab.kernel.invokeFunction('convertToInteractive',\n",
              "                                                     [key], {});\n",
              "          if (!dataTable) return;\n",
              "\n",
              "          const docLinkHtml = 'Like what you see? Visit the ' +\n",
              "            '<a target=\"_blank\" href=https://colab.research.google.com/notebooks/data_table.ipynb>data table notebook</a>'\n",
              "            + ' to learn more about interactive tables.';\n",
              "          element.innerHTML = '';\n",
              "          dataTable['output_type'] = 'display_data';\n",
              "          await google.colab.output.renderOutput(dataTable, element);\n",
              "          const docLink = document.createElement('div');\n",
              "          docLink.innerHTML = docLinkHtml;\n",
              "          element.appendChild(docLink);\n",
              "        }\n",
              "      </script>\n",
              "    </div>\n",
              "  </div>\n",
              "  "
            ]
          },
          "metadata": {},
          "execution_count": 235
        }
      ]
    },
    {
      "cell_type": "code",
      "source": [
        "top_words"
      ],
      "metadata": {
        "id": "gin_l1yBsODE",
        "colab": {
          "base_uri": "https://localhost:8080/"
        },
        "outputId": "81d46f3b-ece3-4d60-892f-dca49e7d1dcd"
      },
      "execution_count": null,
      "outputs": [
        {
          "output_type": "execute_result",
          "data": {
            "text/plain": [
              "[['islam',\n",
              "  'wonogiri',\n",
              "  'vihara',\n",
              "  'capres',\n",
              "  'forum',\n",
              "  'petani',\n",
              "  'jokowi',\n",
              "  'galang',\n",
              "  'rt',\n",
              "  'partai2'],\n",
              " ['rt',\n",
              "  'capres',\n",
              "  'wiranto',\n",
              "  'dahlan',\n",
              "  'jokowi',\n",
              "  'deklarasi',\n",
              "  'yakin',\n",
              "  'jd',\n",
              "  'jadi',\n",
              "  'hanura'],\n",
              " ['2014',\n",
              "  'prabowo',\n",
              "  'dahlan',\n",
              "  'presiden',\n",
              "  'adalah',\n",
              "  'md',\n",
              "  'klo',\n",
              "  'mahfud',\n",
              "  'indonesia',\n",
              "  'iskan'],\n",
              " ['jadi',\n",
              "  'jd',\n",
              "  'yg',\n",
              "  'sama',\n",
              "  'kalo',\n",
              "  'ya',\n",
              "  'presiden',\n",
              "  'optimis',\n",
              "  'di',\n",
              "  'aja'],\n",
              " ['prabowo',\n",
              "  'indonesia',\n",
              "  'yg',\n",
              "  'jadi',\n",
              "  'akan',\n",
              "  'dan',\n",
              "  'jk',\n",
              "  'hanya',\n",
              "  'tdk',\n",
              "  'di'],\n",
              " ['rt',\n",
              "  'jokowi',\n",
              "  'jd',\n",
              "  'ya',\n",
              "  'jadi',\n",
              "  'presiden',\n",
              "  'arb',\n",
              "  'emoh',\n",
              "  'aja',\n",
              "  'capres'],\n",
              " ['rt',\n",
              "  'prabowo',\n",
              "  'cawapres',\n",
              "  'capres',\n",
              "  'gimana',\n",
              "  'bung',\n",
              "  'bungkus',\n",
              "  'underdog',\n",
              "  'jokowi',\n",
              "  'charta'],\n",
              " ['hatta',\n",
              "  'menjadi',\n",
              "  'membuka',\n",
              "  'evaluasi',\n",
              "  'pencapresan',\n",
              "  'radjasa',\n",
              "  'umumnya',\n",
              "  'kemungkinan',\n",
              "  '2013pan',\n",
              "  '09'],\n",
              " ['yg', 'dan', 'mau', 'no', 'jk', 'capres', 'mikir', 'jadi', 'ndak', 'saya'],\n",
              " ['jadi',\n",
              "  'rt',\n",
              "  'acak',\n",
              "  'prabowo',\n",
              "  'presiden',\n",
              "  'apa',\n",
              "  'jokowi',\n",
              "  'guruh',\n",
              "  'dukung',\n",
              "  'aku']]"
            ]
          },
          "metadata": {},
          "execution_count": 236
        }
      ]
    },
    {
      "cell_type": "markdown",
      "source": [
        "# **Plotting Coherences**"
      ],
      "metadata": {
        "id": "IVMwi9yWssBM"
      }
    },
    {
      "cell_type": "code",
      "source": [
        "x=[1,2,3,4,5,6,7,8,9,10,11,12]\n",
        "y1=actual_coherences\n",
        "y2=max_coherences\n",
        "y3=min_coherences\n",
        "y4=mean_coherences\n",
        "y5=med_coherences\n",
        "plt.plot(x,y1,'r-o')\n",
        "plt.plot(x,y2,'y-o')\n",
        "plt.plot(x,y3,'g-o')\n",
        "plt.plot(x,y4,'m-o')\n",
        "plt.plot(x,y5,'b-o')\n",
        "plt.xlabel('Model ke-')\n",
        "plt.ylabel('Nilai Coherence')\n",
        "plt.legend(['actual_coherences','max_coherences(n_topics_tuning)','min_coherences(n_topics_tuning)','mean_coherences(n_topics_tuning)','med_coherences(n_topics_tuning)'],bbox_to_anchor=(1.05, 1), borderaxespad=0)\n",
        "plt.title('Grafik Nilai Coherences Per Model')\n",
        "plt.show()"
      ],
      "metadata": {
        "id": "FM8K-ii0szMs",
        "colab": {
          "base_uri": "https://localhost:8080/",
          "height": 295
        },
        "outputId": "07a29a67-95a5-4da9-9401-e56c428b28e5"
      },
      "execution_count": null,
      "outputs": [
        {
          "output_type": "display_data",
          "data": {
            "text/plain": [
              "<Figure size 432x288 with 1 Axes>"
            ],
            "image/png": "[encoded data removed]"
          },
          "metadata": {
            "needs_background": "light"
          }
        }
      ]
    },
    {
      "cell_type": "code",
      "source": [
        "actual_coherences"
      ],
      "metadata": {
        "id": "2ucK2PAeL2iZ",
        "colab": {
          "base_uri": "https://localhost:8080/"
        },
        "outputId": "53b845d6-38d6-4492-ba4f-bf0de7644003"
      },
      "execution_count": null,
      "outputs": [
        {
          "output_type": "execute_result",
          "data": {
            "text/plain": [
              "[0.24832308248040225,\n",
              " 0.27501854046233115,\n",
              " 0.24687365373773942,\n",
              " 0.24237391818403484,\n",
              " 0.24832308248040225,\n",
              " 0.27501854046233115,\n",
              " 0.24687365373773945,\n",
              " 0.24237391818403484,\n",
              " 0.24832308248040225,\n",
              " 0.27501854046233115,\n",
              " 0.24687365373773945,\n",
              " 0.24832308248040225]"
            ]
          },
          "metadata": {},
          "execution_count": 238
        }
      ]
    },
    {
      "cell_type": "code",
      "source": [
        "max_coherences"
      ],
      "metadata": {
        "id": "4bWApqL-L6wr",
        "colab": {
          "base_uri": "https://localhost:8080/"
        },
        "outputId": "c48b2efc-31fd-4630-a5d9-6bfe46fefc66"
      },
      "execution_count": null,
      "outputs": [
        {
          "output_type": "execute_result",
          "data": {
            "text/plain": [
              "[0.27501854046233115,\n",
              " 0.27501854046233115,\n",
              " 0.27501854046233115,\n",
              " 0.27501854046233115,\n",
              " 0.27501854046233115,\n",
              " 0.27501854046233115,\n",
              " 0.27501854046233115,\n",
              " 0.27501854046233115,\n",
              " 0.2684237623892764,\n",
              " 0.2684237623892764,\n",
              " 0.2684237623892764,\n",
              " 0.2684237623892764]"
            ]
          },
          "metadata": {},
          "execution_count": 239
        }
      ]
    },
    {
      "cell_type": "code",
      "source": [
        "min_coherences"
      ],
      "metadata": {
        "id": "yiDl8cAjMA0S",
        "colab": {
          "base_uri": "https://localhost:8080/"
        },
        "outputId": "5f7d3817-beda-4f85-a00a-48def3a7287d"
      },
      "execution_count": null,
      "outputs": [
        {
          "output_type": "execute_result",
          "data": {
            "text/plain": [
              "[0.21799575076216743,\n",
              " 0.21799575076216743,\n",
              " 0.21799575076216743,\n",
              " 0.21799575076216743,\n",
              " 0.21799575076216743,\n",
              " 0.21799575076216743,\n",
              " 0.21799575076216743,\n",
              " 0.21799575076216743,\n",
              " 0.21799575076216743,\n",
              " 0.21799575076216743,\n",
              " 0.21799575076216743,\n",
              " 0.21799575076216743]"
            ]
          },
          "metadata": {},
          "execution_count": 240
        }
      ]
    },
    {
      "cell_type": "code",
      "source": [
        "mean_coherences"
      ],
      "metadata": {
        "id": "oo0jxNVSMELC",
        "colab": {
          "base_uri": "https://localhost:8080/"
        },
        "outputId": "977707de-b269-4b7b-bf15-4ad5fd1a7630"
      },
      "execution_count": null,
      "outputs": [
        {
          "output_type": "execute_result",
          "data": {
            "text/plain": [
              "[0.24843411775673924,\n",
              " 0.24796991314027145,\n",
              " 0.24916533472470945,\n",
              " 0.25011185585075474,\n",
              " 0.24948435912690198,\n",
              " 0.24949961789941294,\n",
              " 0.24784391692677618,\n",
              " 0.24883551423997713,\n",
              " 0.24676837971202653,\n",
              " 0.2462022517356814,\n",
              " 0.24739204435614962,\n",
              " 0.24736163243516138]"
            ]
          },
          "metadata": {},
          "execution_count": 241
        }
      ]
    },
    {
      "cell_type": "code",
      "source": [
        "med_coherences"
      ],
      "metadata": {
        "id": "zbSHh1iNMFxX",
        "colab": {
          "base_uri": "https://localhost:8080/"
        },
        "outputId": "6204475b-a339-42af-93aa-5bbe2eb0785a"
      },
      "execution_count": null,
      "outputs": [
        {
          "output_type": "execute_result",
          "data": {
            "text/plain": [
              "[0.24832308248040225,\n",
              " 0.24921702467663973,\n",
              " 0.2501275401152227,\n",
              " 0.2501275401152227,\n",
              " 0.2501275401152227,\n",
              " 0.2501275401152227,\n",
              " 0.24832308248040225,\n",
              " 0.25023731665350696,\n",
              " 0.24759836810907085,\n",
              " 0.24759836810907085,\n",
              " 0.24759836810907085,\n",
              " 0.24759836810907085]"
            ]
          },
          "metadata": {},
          "execution_count": 242
        }
      ]
    }
  ],
  "metadata": {
    "colab": {
      "provenance": [],
      "collapsed_sections": [
        "q8E_SGuHQKHI",
        "PwtjGDA5RVtX",
        "gxEjgejEHLlo",
        "8Ej6CjhkoayI",
        "7ldRgN83pICi",
        "29wk8SFjpKs4",
        "CIb1kWnPpQsk",
        "GHMbsg7lMZ6h",
        "zqcqT3fRpnwU",
        "F21nZJi9qNft",
        "s8FtpmWZqRZf",
        "MurPfFJ1qUsB",
        "NhMRqAnLVxkP",
        "zujThmVmqxRm",
        "AGoZJdx8sFzi",
        "99URsGrjsJwF",
        "6JUtXYYGsODA",
        "IVMwi9yWssBM"
      ]
    },
    "kernelspec": {
      "display_name": "Python 3",
      "language": "python",
      "name": "python3"
    },
    "language_info": {
      "codemirror_mode": {
        "name": "ipython",
        "version": 3
      },
      "file_extension": ".py",
      "mimetype": "text/x-python",
      "name": "python",
      "nbconvert_exporter": "python",
      "pygments_lexer": "ipython3",
      "version": "3.8.5"
    },
    "accelerator": "GPU",
    "gpuClass": "standard"
  },
  "nbformat": 4,
  "nbformat_minor": 0
}